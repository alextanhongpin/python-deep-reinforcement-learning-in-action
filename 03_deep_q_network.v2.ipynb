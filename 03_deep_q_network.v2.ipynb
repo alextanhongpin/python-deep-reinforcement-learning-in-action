{
 "cells": [
  {
   "cell_type": "markdown",
   "id": "b6987d9d-1eba-4131-8051-d52897b65e10",
   "metadata": {},
   "source": [
    "# Deep Q-Network"
   ]
  },
  {
   "cell_type": "markdown",
   "id": "09c7ca7c-5d15-4ce6-a4bb-67183bfbb1f3",
   "metadata": {},
   "source": [
    "## GridWorld"
   ]
  },
  {
   "cell_type": "code",
   "execution_count": 1,
   "id": "bd51277e-2914-4efc-b315-e1e5dabbeedb",
   "metadata": {},
   "outputs": [
    {
     "data": {
      "text/plain": [
       "[['W', '.', '.', '.'],\n",
       " ['.', 'P', '.', '.'],\n",
       " ['.', '+', '.', '.'],\n",
       " ['-', '.', '.', '.']]"
      ]
     },
     "execution_count": 1,
     "metadata": {},
     "output_type": "execute_result"
    }
   ],
   "source": [
    "from gridworld.gridworld import GridWorld\n",
    "\n",
    "env = GridWorld(4)\n",
    "env.reset(seed=42)\n",
    "env.render()"
   ]
  },
  {
   "cell_type": "code",
   "execution_count": 2,
   "id": "ff736f8a-eb3d-4a80-8aa0-4a58c23b5a56",
   "metadata": {},
   "outputs": [
    {
     "name": "stdout",
     "output_type": "stream",
     "text": [
      "reward: -1 | terminated: False\n"
     ]
    },
    {
     "data": {
      "text/plain": [
       "[['W', 'P', '.', '.'],\n",
       " ['.', '.', '.', '.'],\n",
       " ['.', '+', '.', '.'],\n",
       " ['-', '.', '.', '.']]"
      ]
     },
     "execution_count": 2,
     "metadata": {},
     "output_type": "execute_result"
    }
   ],
   "source": [
    "# 0: up, 1: down, 2: left, 3: right\n",
    "ob, reward, terminated, truncated, info = env.step(0)\n",
    "print(\"reward: {} | terminated: {}\".format(reward, terminated))\n",
    "env.render()"
   ]
  },
  {
   "cell_type": "code",
   "execution_count": 3,
   "id": "cf601b76-5da1-41a9-aeee-f5b215f387f9",
   "metadata": {},
   "outputs": [
    {
     "name": "stdout",
     "output_type": "stream",
     "text": [
      "reward: -1 | terminated: False\n"
     ]
    },
    {
     "data": {
      "text/plain": [
       "[['W', '.', '.', '.'],\n",
       " ['.', 'P', '.', '.'],\n",
       " ['.', '+', '.', '.'],\n",
       " ['-', '.', '.', '.']]"
      ]
     },
     "execution_count": 3,
     "metadata": {},
     "output_type": "execute_result"
    }
   ],
   "source": [
    "ob, reward, terminated, truncated, info = env.step(1)\n",
    "print(\"reward: {} | terminated: {}\".format(reward, terminated))\n",
    "env.render()"
   ]
  },
  {
   "cell_type": "code",
   "execution_count": 4,
   "id": "109177c1-054d-4886-bb66-efc30cc33574",
   "metadata": {},
   "outputs": [
    {
     "name": "stdout",
     "output_type": "stream",
     "text": [
      "reward: 10 | terminated: True\n"
     ]
    },
    {
     "data": {
      "text/plain": [
       "[['W', '.', '.', '.'],\n",
       " ['.', '.', '.', '.'],\n",
       " ['.', 'P', '.', '.'],\n",
       " ['-', '.', '.', '.']]"
      ]
     },
     "execution_count": 4,
     "metadata": {},
     "output_type": "execute_result"
    }
   ],
   "source": [
    "ob, reward, terminated, truncated, info = env.step(1)\n",
    "print(\"reward: {} | terminated: {}\".format(reward, terminated))\n",
    "env.render()"
   ]
  },
  {
   "cell_type": "code",
   "execution_count": 5,
   "id": "fea9c9cd-12e5-4669-abd4-bc41652b0a6c",
   "metadata": {},
   "outputs": [
    {
     "data": {
      "text/plain": [
       "[[[0, 0, 0, 0], [0, 0, 0, 0], [0, 1, 0, 0], [0, 0, 0, 0]],\n",
       " [[0, 0, 0, 0], [0, 0, 0, 0], [0, 1, 0, 0], [0, 0, 0, 0]],\n",
       " [[0, 0, 0, 0], [0, 0, 0, 0], [0, 0, 0, 0], [1, 0, 0, 0]],\n",
       " [[1, 0, 0, 0], [0, 0, 0, 0], [0, 0, 0, 0], [0, 0, 0, 0]]]"
      ]
     },
     "execution_count": 5,
     "metadata": {},
     "output_type": "execute_result"
    }
   ],
   "source": [
    "# Each row represents the index of the pieces on the tile in the order:\n",
    "# player, goal, pit, wall\n",
    "env.observation"
   ]
  },
  {
   "cell_type": "code",
   "execution_count": 6,
   "id": "8e5c360b-603b-4037-b739-ccb8e587e705",
   "metadata": {},
   "outputs": [],
   "source": [
    "import numpy as np\n",
    "\n",
    "assert np.array(env.observation).shape == (4, 4, 4)"
   ]
  },
  {
   "cell_type": "markdown",
   "id": "deaed3d1-55ef-4bef-81ba-bab74e61a597",
   "metadata": {},
   "source": [
    "## Neural Network Q Function"
   ]
  },
  {
   "cell_type": "code",
   "execution_count": 7,
   "id": "77d63fc8-f35e-466d-9e12-0b0806cdd8be",
   "metadata": {},
   "outputs": [],
   "source": [
    "import random\n",
    "\n",
    "import matplotlib.pyplot as plt\n",
    "import numpy as np\n",
    "import torch\n",
    "from gridworld.gridworld import GridWorld\n",
    "from tqdm.notebook import tqdm, trange"
   ]
  },
  {
   "cell_type": "code",
   "execution_count": 8,
   "id": "ce3ebf28-de71-4fe4-be01-4cb98cefd475",
   "metadata": {},
   "outputs": [],
   "source": [
    "def make_model():\n",
    "    model = torch.nn.Sequential(\n",
    "        # Input is our gridworld state, a 1x64 grid representation.\n",
    "        torch.nn.Linear(64, 150),\n",
    "        torch.nn.ReLU(),\n",
    "        torch.nn.Linear(150, 100),\n",
    "        torch.nn.ReLU(),\n",
    "        # Output is the expected rewards for each arm: 0: up, 1: down, 2: left, 3: right\n",
    "        torch.nn.Linear(100, 4),\n",
    "    )\n",
    "    return model"
   ]
  },
  {
   "cell_type": "code",
   "execution_count": 9,
   "id": "6b8b2232-287e-48fc-af00-07d20cd1fd78",
   "metadata": {},
   "outputs": [],
   "source": [
    "model = make_model()"
   ]
  },
  {
   "cell_type": "code",
   "execution_count": 10,
   "id": "f659010e-1f62-4252-8b65-b97f9135cccb",
   "metadata": {},
   "outputs": [],
   "source": [
    "loss_fn = torch.nn.MSELoss()\n",
    "optimizer = torch.optim.Adam(model.parameters(), lr=1e-3)"
   ]
  },
  {
   "cell_type": "code",
   "execution_count": 11,
   "id": "e6c812bd-5155-4dbf-9b51-521734943773",
   "metadata": {},
   "outputs": [],
   "source": [
    "def dqn(model, optimizer, epoch=1000, epsilon=1.0, gamma=0.9, seed=None):\n",
    "    noise = lambda: torch.rand(1, 64) / 64\n",
    "    losses = []\n",
    "    for i in trange(epoch):\n",
    "        env = GridWorld(size=4)\n",
    "        env.reset(seed=seed)  # Static board.\n",
    "\n",
    "        # Initial state, with noise.\n",
    "        observation = env.observation\n",
    "        while True:\n",
    "            state = torch.Tensor(observation).view(-1, 64) + noise()\n",
    "            q_val = model(state)\n",
    "            if np.random.random() < epsilon:  # Exploration\n",
    "                action = torch.randint(4, (1,)).item()\n",
    "            else:\n",
    "                action = torch.argmax(q_val, dim=1).item()\n",
    "            observation, reward, terminated, _truncated, _info = env.step(action)\n",
    "            if not terminated:\n",
    "                state = torch.Tensor(observation).view(-1, 64) + noise()\n",
    "                with torch.no_grad():\n",
    "                    next_q_val = model(state)\n",
    "                max_q = torch.max(next_q_val)\n",
    "                reward = reward + gamma * max_q\n",
    "\n",
    "            y_pred = torch.Tensor([reward])\n",
    "            y_true = q_val[:, action]\n",
    "            loss = loss_fn(y_pred, y_true)\n",
    "            optimizer.zero_grad()\n",
    "            loss.backward()\n",
    "            optimizer.step()\n",
    "\n",
    "            losses.append(loss.item())\n",
    "            if terminated:\n",
    "                break\n",
    "        if epsilon > 0.1:\n",
    "            epsilon -= 1 / epoch\n",
    "    return losses"
   ]
  },
  {
   "cell_type": "code",
   "execution_count": 12,
   "id": "a088decc-6470-47c7-9e58-ef35a7b385dc",
   "metadata": {},
   "outputs": [
    {
     "data": {
      "application/vnd.jupyter.widget-view+json": {
       "model_id": "688cf8a6747c482283abdf83fc89595b",
       "version_major": 2,
       "version_minor": 0
      },
      "text/plain": [
       "  0%|          | 0/1000 [00:00<?, ?it/s]"
      ]
     },
     "metadata": {},
     "output_type": "display_data"
    },
    {
     "data": {
      "image/png": "[encoded data removed]",
      "text/plain": [
       "<Figure size 640x480 with 1 Axes>"
      ]
     },
     "metadata": {},
     "output_type": "display_data"
    }
   ],
   "source": [
    "losses = dqn(model, optimizer, epoch=1000, seed=33)  # Static board\n",
    "plt.plot(np.arange(len(losses)), losses);"
   ]
  },
  {
   "cell_type": "code",
   "execution_count": 13,
   "id": "187304ef-be8f-43d1-81b4-4791921c0d9b",
   "metadata": {},
   "outputs": [],
   "source": [
    "def test_dqn(model, epoch=32):\n",
    "    env = GridWorld(size=4)\n",
    "    env.reset(seed=33)  # Static board.\n",
    "\n",
    "    # Initial state, with noise.\n",
    "    observation = env.observation\n",
    "    for i in trange(epoch):\n",
    "        print(\"Step: {}\".format(i))\n",
    "        print(\"\\n\".join(list(map(lambda row: \"\".join(row), env.render()))))\n",
    "        print()\n",
    "        state = torch.Tensor(observation).view(-1, 64)\n",
    "        with torch.no_grad():\n",
    "            q_val = model(state)\n",
    "        action = torch.argmax(q_val, dim=1).item()\n",
    "        observation, reward, terminated, _truncated, _info = env.step(action)\n",
    "        if terminated:\n",
    "            print(\"DONE\")\n",
    "            break"
   ]
  },
  {
   "cell_type": "code",
   "execution_count": 14,
   "id": "1396a90d-887a-4f10-aae5-52812ca2cbc9",
   "metadata": {},
   "outputs": [
    {
     "data": {
      "application/vnd.jupyter.widget-view+json": {
       "model_id": "20f8ccd02f28423e92568514e2a6174f",
       "version_major": 2,
       "version_minor": 0
      },
      "text/plain": [
       "  0%|          | 0/32 [00:00<?, ?it/s]"
      ]
     },
     "metadata": {},
     "output_type": "display_data"
    },
    {
     "name": "stdout",
     "output_type": "stream",
     "text": [
      "Step: 0\n",
      "....\n",
      ".+-.\n",
      "...P\n",
      "...W\n",
      "\n",
      "Step: 1\n",
      "....\n",
      ".+-.\n",
      "..P.\n",
      "...W\n",
      "\n",
      "Step: 2\n",
      "....\n",
      ".+-.\n",
      ".P..\n",
      "...W\n",
      "\n",
      "DONE\n"
     ]
    }
   ],
   "source": [
    "test_dqn(model)"
   ]
  },
  {
   "cell_type": "code",
   "execution_count": 15,
   "id": "d717625f-abe7-4cfc-8171-7a2d9180f3fc",
   "metadata": {},
   "outputs": [
    {
     "data": {
      "application/vnd.jupyter.widget-view+json": {
       "model_id": "2b99b7673d3948f5b14d75372cb858db",
       "version_major": 2,
       "version_minor": 0
      },
      "text/plain": [
       "  0%|          | 0/1000 [00:00<?, ?it/s]"
      ]
     },
     "metadata": {},
     "output_type": "display_data"
    },
    {
     "data": {
      "image/png": "[encoded data removed]",
      "text/plain": [
       "<Figure size 640x480 with 1 Axes>"
      ]
     },
     "metadata": {},
     "output_type": "display_data"
    }
   ],
   "source": [
    "losses = dqn(model, optimizer, epoch=1000, seed=None)  # Random board\n",
    "plt.plot(np.arange(len(losses)), losses);"
   ]
  },
  {
   "cell_type": "markdown",
   "id": "d29281f6-a0cb-491d-8603-f8545c875bb8",
   "metadata": {},
   "source": [
    "## Experience Replay"
   ]
  },
  {
   "cell_type": "code",
   "execution_count": 16,
   "id": "00e890da-3333-4a99-bdf9-38a1a7a6a78c",
   "metadata": {},
   "outputs": [],
   "source": [
    "from collections import deque\n",
    "\n",
    "\n",
    "def dqn_experience_replay(model, optimizer, epochs=1000, gamma=0.9, epsilon=1.0):\n",
    "    replay = deque(maxlen=1000)\n",
    "    batch_size = 200\n",
    "    max_moves = 50\n",
    "    losses = []\n",
    "    noise = lambda: torch.rand(1, 64) / 64\n",
    "\n",
    "    for _ in trange(epochs):\n",
    "        env = GridWorld(4)\n",
    "        env.reset(seed=None)  # Random state\n",
    "\n",
    "        observation = env.observation\n",
    "        for _ in range(max_moves):\n",
    "            state = torch.Tensor(observation).view(-1, 64) + noise()\n",
    "            q_val = model(state)\n",
    "            if np.random.random() < epsilon:\n",
    "                action = torch.randint(4, (1,)).item()\n",
    "            else:\n",
    "                action = torch.argmax(q_val, dim=1).item()\n",
    "            observation, reward, terminated, _truncated, _info = env.step(action)\n",
    "            replay.append(\n",
    "                (\n",
    "                    state,\n",
    "                    action,\n",
    "                    reward,\n",
    "                    torch.Tensor(observation).view(-1, 64),\n",
    "                    terminated,\n",
    "                )\n",
    "            )\n",
    "\n",
    "            if len(replay) > batch_size:\n",
    "                # Experience replay.\n",
    "                batch = random.sample(replay, batch_size)\n",
    "                (\n",
    "                    state1_batch,\n",
    "                    action_batch,\n",
    "                    reward_batch,\n",
    "                    state2_batch,\n",
    "                    terminated_batch,\n",
    "                ) = list(zip(*batch))\n",
    "                state1_batch = torch.cat(state1_batch)\n",
    "                action_batch = torch.Tensor(action_batch)\n",
    "                reward_batch = torch.Tensor(reward_batch)\n",
    "                state2_batch = torch.cat(state2_batch)\n",
    "                terminated_batch = torch.Tensor(terminated_batch)\n",
    "                q_val = model(state1_batch)\n",
    "                with torch.no_grad():\n",
    "                    q_val_next = model(state2_batch)\n",
    "                y_pred = (\n",
    "                    reward_batch\n",
    "                    + gamma * (1 - terminated_batch) * torch.max(q_val_next, dim=1)[0]\n",
    "                )\n",
    "                y_true = q_val.gather(\n",
    "                    dim=1, index=action_batch.unsqueeze(dim=1).long()\n",
    "                ).squeeze()\n",
    "                loss = loss_fn(y_pred, y_true)\n",
    "                optimizer.zero_grad()\n",
    "                loss.backward()\n",
    "                optimizer.step()\n",
    "                losses.append(loss.item())\n",
    "            if terminated:\n",
    "                break\n",
    "        if epsilon > 0.1:\n",
    "            epsilon -= 1 / epochs\n",
    "    return losses"
   ]
  },
  {
   "cell_type": "code",
   "execution_count": 17,
   "id": "e8ae2626-49cf-4b5e-b8bd-77ff8ab73c8c",
   "metadata": {},
   "outputs": [
    {
     "data": {
      "text/plain": [
       "torch.return_types.max(\n",
       "values=tensor([3., 6.]),\n",
       "indices=tensor([2, 2]))"
      ]
     },
     "execution_count": 17,
     "metadata": {},
     "output_type": "execute_result"
    }
   ],
   "source": [
    "# The first item is the values, the second is the index\n",
    "torch.max(torch.Tensor([[1, 2, 3], [3, 5, 6]]), dim=1)"
   ]
  },
  {
   "cell_type": "code",
   "execution_count": 18,
   "id": "b0bfaa89-3e65-44b5-8053-afb880437b9e",
   "metadata": {},
   "outputs": [
    {
     "data": {
      "text/plain": [
       "torch.return_types.max(\n",
       "values=tensor([3., 5., 6.]),\n",
       "indices=tensor([1, 1, 1]))"
      ]
     },
     "execution_count": 18,
     "metadata": {},
     "output_type": "execute_result"
    }
   ],
   "source": [
    "torch.max(torch.Tensor([[1, 2, 3], [3, 5, 6]]), dim=0)"
   ]
  },
  {
   "cell_type": "code",
   "execution_count": 19,
   "id": "cf916226-089d-47b1-b2dc-ab3e1974fc83",
   "metadata": {},
   "outputs": [
    {
     "data": {
      "text/plain": [
       "tensor(6.)"
      ]
     },
     "execution_count": 19,
     "metadata": {},
     "output_type": "execute_result"
    }
   ],
   "source": [
    "torch.max(torch.Tensor([[1, 2, 3], [3, 5, 6]]))"
   ]
  },
  {
   "cell_type": "code",
   "execution_count": 20,
   "id": "197bb61e-d292-4442-aa46-81b940101a97",
   "metadata": {},
   "outputs": [],
   "source": [
    "model = make_model()\n",
    "loss_fn = torch.nn.MSELoss()\n",
    "optimizer = torch.optim.Adam(model.parameters(), lr=1e-3)"
   ]
  },
  {
   "cell_type": "code",
   "execution_count": 21,
   "id": "b7807cd2-78f1-4de5-8b06-1bc940a7145b",
   "metadata": {},
   "outputs": [
    {
     "data": {
      "application/vnd.jupyter.widget-view+json": {
       "model_id": "044602f3421a43dfa2e5343cf0144beb",
       "version_major": 2,
       "version_minor": 0
      },
      "text/plain": [
       "  0%|          | 0/5000 [00:00<?, ?it/s]"
      ]
     },
     "metadata": {},
     "output_type": "display_data"
    },
    {
     "data": {
      "text/plain": [
       "[<matplotlib.lines.Line2D at 0x155e6a390>]"
      ]
     },
     "execution_count": 21,
     "metadata": {},
     "output_type": "execute_result"
    },
    {
     "data": {
      "image/png": "[encoded data removed]",
      "text/plain": [
       "<Figure size 640x480 with 1 Axes>"
      ]
     },
     "metadata": {},
     "output_type": "display_data"
    }
   ],
   "source": [
    "losses = dqn_experience_replay(model, optimizer, epochs=5000)\n",
    "plt.plot(np.arange(len(losses)), losses)"
   ]
  },
  {
   "cell_type": "code",
   "execution_count": 22,
   "id": "f3075e78-a8a0-47fe-9483-694df2dfa748",
   "metadata": {},
   "outputs": [],
   "source": [
    "def test_dqn_experience_replay(model, epoch=1000, max_moves=50):\n",
    "    wins = 0\n",
    "    loss = 0\n",
    "    limbo = 0\n",
    "    for _ in trange(epoch):\n",
    "        env = GridWorld(4)\n",
    "        env.reset(seed=None)  # Random state\n",
    "\n",
    "        observation = env.observation\n",
    "        for _ in range(max_moves):\n",
    "            state = torch.Tensor(observation).view(-1, 64)\n",
    "            q_val = model(state)\n",
    "            action = torch.argmax(q_val, dim=1).item()\n",
    "            observation, reward, terminated, _truncated, _info = env.step(action)\n",
    "            if terminated:\n",
    "                break\n",
    "        if reward == 10:\n",
    "            wins += 1\n",
    "        if reward == -10:\n",
    "            loss += 1\n",
    "        if reward == -1:\n",
    "            print()\n",
    "            print(np.array(env.render()))\n",
    "            limbo += 1\n",
    "    return wins, loss, limbo"
   ]
  },
  {
   "cell_type": "code",
   "execution_count": 23,
   "id": "58bc8096-7e70-467a-99cf-fed368a2aeeb",
   "metadata": {},
   "outputs": [
    {
     "data": {
      "application/vnd.jupyter.widget-view+json": {
       "model_id": "a5cb4b34f3bc4768afd03af8b57c74ac",
       "version_major": 2,
       "version_minor": 0
      },
      "text/plain": [
       "  0%|          | 0/1000 [00:00<?, ?it/s]"
      ]
     },
     "metadata": {},
     "output_type": "display_data"
    },
    {
     "name": "stdout",
     "output_type": "stream",
     "text": [
      "\n",
      "[['.' '.' '.' '.']\n",
      " ['.' '.' '-' '+']\n",
      " ['W' '.' '.' '.']\n",
      " ['.' 'P' '.' '.']]\n",
      "\n",
      "[['-' 'W' '.' '.']\n",
      " ['+' '.' '.' '.']\n",
      " ['.' '.' '.' 'P']\n",
      " ['.' '.' '.' '.']]\n",
      "\n",
      "[['.' '.' 'P' '.']\n",
      " ['.' '.' '.' '.']\n",
      " ['.' '.' 'W' '.']\n",
      " ['+' '.' '-' '.']]\n",
      "\n",
      "[['.' 'P' '.' '.']\n",
      " ['.' '-' '.' '.']\n",
      " ['.' 'W' '.' '.']\n",
      " ['.' '+' '.' '.']]\n",
      "\n",
      "[['.' '.' '.' '.']\n",
      " ['.' '+' '-' 'P']\n",
      " ['W' '.' '.' '.']\n",
      " ['.' '.' '.' '.']]\n",
      "\n",
      "[['.' '.' 'W' '.']\n",
      " ['.' '+' '.' '.']\n",
      " ['.' '.' '-' 'P']\n",
      " ['.' '.' '.' '.']]\n",
      "\n",
      "[['-' '.' '.' '.']\n",
      " ['+' '.' '.' '.']\n",
      " ['.' '.' 'W' 'P']\n",
      " ['.' '.' '.' '.']]\n"
     ]
    },
    {
     "data": {
      "text/plain": [
       "(993, 0, 7)"
      ]
     },
     "execution_count": 23,
     "metadata": {},
     "output_type": "execute_result"
    }
   ],
   "source": [
    "win, loss, limbo = test_dqn_experience_replay(model, max_moves=50)\n",
    "win, loss, limbo"
   ]
  },
  {
   "cell_type": "markdown",
   "id": "040ef3e0-52c7-4a6e-8004-fd4c01c56b52",
   "metadata": {},
   "source": [
    "## Target Network"
   ]
  },
  {
   "cell_type": "code",
   "execution_count": 24,
   "id": "2cbca201-7304-4704-9a86-e63f632571be",
   "metadata": {},
   "outputs": [],
   "source": [
    "import copy\n",
    "\n",
    "model = make_model()\n",
    "# https://discuss.pytorch.org/t/are-there-any-recommended-methods-to-clone-a-model/483/4\n",
    "target = copy.deepcopy(model)\n",
    "target.load_state_dict(model.state_dict())\n",
    "\n",
    "loss_fn = torch.nn.MSELoss()\n",
    "optimizer = torch.optim.Adam(model.parameters(), lr=1e-3)"
   ]
  },
  {
   "cell_type": "code",
   "execution_count": 25,
   "id": "f8157c52-1afa-4dc8-b3c7-8337cf254af1",
   "metadata": {},
   "outputs": [],
   "source": [
    "def dqn_target_network(\n",
    "    model, target, optimizer, sync_freq=500, epochs=5000, epsilon=1.0, gamma=0.9\n",
    "):\n",
    "    losses = []\n",
    "    mem_size = 1000\n",
    "    batch_size = 200\n",
    "    replay = deque(maxlen=mem_size)\n",
    "    max_moves = 50\n",
    "    noise = lambda: torch.rand(1, 64) / 64\n",
    "\n",
    "    freq = 0\n",
    "\n",
    "    for _ in trange(epochs):\n",
    "        env = GridWorld(4)\n",
    "        env.reset(seed=None)  # Random state\n",
    "\n",
    "        observation = env.observation\n",
    "        for _ in range(max_moves):\n",
    "            state = torch.Tensor(observation).view(-1, 64) + noise()\n",
    "            q_val = model(state)\n",
    "            if np.random.random() < epsilon:\n",
    "                action = torch.randint(4, (1,)).item()\n",
    "            else:\n",
    "                action = torch.argmax(q_val, dim=1).item()\n",
    "\n",
    "            observation, reward, terminated, _truncated, _info = env.step(action)\n",
    "            replay.append(\n",
    "                (\n",
    "                    state,\n",
    "                    action,\n",
    "                    reward,\n",
    "                    torch.Tensor(observation).view(-1, 64),\n",
    "                    terminated,\n",
    "                )\n",
    "            )\n",
    "            if len(replay) > batch_size:\n",
    "                batch = random.sample(replay, batch_size)\n",
    "                (\n",
    "                    state1_batch,\n",
    "                    action_batch,\n",
    "                    reward_batch,\n",
    "                    state2_batch,\n",
    "                    terminated_batch,\n",
    "                ) = list(zip(*batch))\n",
    "                state1_batch = torch.cat(state1_batch)\n",
    "                action_batch = torch.Tensor(action_batch)\n",
    "                reward_batch = torch.Tensor(reward_batch)\n",
    "                state2_batch = torch.cat(state2_batch)\n",
    "                terminated_batch = torch.Tensor(terminated_batch)\n",
    "\n",
    "                q_val = model(state1_batch)\n",
    "                with torch.no_grad():\n",
    "                    q_val_next = target(state2_batch)\n",
    "                y_pred = (\n",
    "                    reward_batch\n",
    "                    + gamma * (1 - terminated_batch) * torch.max(q_val_next, dim=1)[0]\n",
    "                )\n",
    "                y_true = q_val.gather(\n",
    "                    dim=1, index=action_batch.unsqueeze(dim=1).long()\n",
    "                ).squeeze()\n",
    "                loss = loss_fn(y_pred, y_true)\n",
    "                optimizer.zero_grad()\n",
    "                loss.backward()\n",
    "                optimizer.step()\n",
    "                losses.append(loss.item())\n",
    "\n",
    "                if freq % sync_freq == 0:\n",
    "                    target.load_state_dict(model.state_dict())\n",
    "                if terminated:\n",
    "                    break\n",
    "            freq += 1\n",
    "        if epsilon > 0.1:\n",
    "            epsilon -= 1 / epochs\n",
    "    return losses"
   ]
  },
  {
   "cell_type": "code",
   "execution_count": 26,
   "id": "9152e46a-9d95-471d-b7bb-e11e56accaa1",
   "metadata": {},
   "outputs": [
    {
     "data": {
      "application/vnd.jupyter.widget-view+json": {
       "model_id": "90e56e62bf4b430dbb7caf401d36ceaf",
       "version_major": 2,
       "version_minor": 0
      },
      "text/plain": [
       "  0%|          | 0/5000 [00:00<?, ?it/s]"
      ]
     },
     "metadata": {},
     "output_type": "display_data"
    },
    {
     "data": {
      "image/png": "[encoded data removed]",
      "text/plain": [
       "<Figure size 640x480 with 1 Axes>"
      ]
     },
     "metadata": {},
     "output_type": "display_data"
    }
   ],
   "source": [
    "losses = dqn_target_network(model, target, optimizer, epochs=5000)\n",
    "plt.plot(np.arange(len(losses)), losses);"
   ]
  },
  {
   "cell_type": "code",
   "execution_count": 27,
   "id": "d98b9e45-13d9-4c58-bf32-e36d1e0e339d",
   "metadata": {},
   "outputs": [],
   "source": [
    "def test_dqn_target_network(model, epoch=1000, max_moves=50):\n",
    "    wins = 0\n",
    "    loss = 0\n",
    "    limbo = 0\n",
    "    for _ in trange(epoch):\n",
    "        env = GridWorld(4)\n",
    "        env.reset(seed=None)  # Random state\n",
    "\n",
    "        observation = env.observation\n",
    "        for _ in range(max_moves):\n",
    "            state = torch.Tensor(observation).view(-1, 64)\n",
    "            q_val = model(state)\n",
    "            action = torch.argmax(q_val, dim=1).item()\n",
    "            observation, reward, terminated, _truncated, _info = env.step(action)\n",
    "            if terminated:\n",
    "                break\n",
    "        if reward == 10:\n",
    "            wins += 1\n",
    "        if reward == -10:\n",
    "            loss += 1\n",
    "        if reward == -1:\n",
    "            print()\n",
    "            print(np.array(env.render()))\n",
    "            limbo += 1\n",
    "    return wins, loss, limbo"
   ]
  },
  {
   "cell_type": "code",
   "execution_count": 28,
   "id": "fd686545-fba9-4c4d-ab93-67f9bb3c65d0",
   "metadata": {},
   "outputs": [
    {
     "data": {
      "application/vnd.jupyter.widget-view+json": {
       "model_id": "98493c3eeb3442d49ce42125efeac8b0",
       "version_major": 2,
       "version_minor": 0
      },
      "text/plain": [
       "  0%|          | 0/1000 [00:00<?, ?it/s]"
      ]
     },
     "metadata": {},
     "output_type": "display_data"
    },
    {
     "name": "stdout",
     "output_type": "stream",
     "text": [
      "\n",
      "[['W' 'P' '.' '.']\n",
      " ['.' '.' '.' '.']\n",
      " ['.' '.' '-' '+']\n",
      " ['.' '.' '.' '.']]\n"
     ]
    },
    {
     "data": {
      "text/plain": [
       "(999, 0, 1)"
      ]
     },
     "execution_count": 28,
     "metadata": {},
     "output_type": "execute_result"
    }
   ],
   "source": [
    "wins, loss, limbo = test_dqn_target_network(model)\n",
    "wins, loss, limbo"
   ]
  }
 ],
 "metadata": {
  "kernelspec": {
   "display_name": "Python 3 (ipykernel)",
   "language": "python",
   "name": "python3"
  },
  "language_info": {
   "codemirror_mode": {
    "name": "ipython",
    "version": 3
   },
   "file_extension": ".py",
   "mimetype": "text/x-python",
   "name": "python",
   "nbconvert_exporter": "python",
   "pygments_lexer": "ipython3",
   "version": "3.12.8"
  }
 },
 "nbformat": 4,
 "nbformat_minor": 5
}
