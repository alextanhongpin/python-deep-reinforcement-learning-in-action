{
 "cells": [
  {
   "cell_type": "code",
   "execution_count": 2,
   "id": "52b01dea-73b5-4b22-bbdd-bd4eeb21fc59",
   "metadata": {
    "execution": {
     "iopub.execute_input": "2024-02-16T16:50:13.299875Z",
     "iopub.status.busy": "2024-02-16T16:50:13.295085Z",
     "iopub.status.idle": "2024-02-16T16:50:13.508299Z",
     "shell.execute_reply": "2024-02-16T16:50:13.505939Z",
     "shell.execute_reply.started": "2024-02-16T16:50:13.299777Z"
    }
   },
   "outputs": [
    {
     "name": "stdout",
     "output_type": "stream",
     "text": [
      "Python 3.11.7\n"
     ]
    }
   ],
   "source": [
    "import sys\n",
    "\n",
    "!{sys.executable} --version"
   ]
  },
  {
   "cell_type": "markdown",
   "id": "20b5b805-4287-457b-80a8-27d0dae79cae",
   "metadata": {},
   "source": [
    "https://github.com/DeepReinforcementLearning/DeepReinforcementLearningInAction"
   ]
  },
  {
   "cell_type": "code",
   "execution_count": null,
   "id": "5e6262e6-e537-4ddf-86f4-b48aebcc2ad7",
   "metadata": {},
   "outputs": [],
   "source": []
  }
 ],
 "metadata": {
  "kernelspec": {
   "display_name": "Python 3 (ipykernel)",
   "language": "python",
   "name": "python3"
  },
  "language_info": {
   "codemirror_mode": {
    "name": "ipython",
    "version": 3
   },
   "file_extension": ".py",
   "mimetype": "text/x-python",
   "name": "python",
   "nbconvert_exporter": "python",
   "pygments_lexer": "ipython3",
   "version": "3.11.7"
  }
 },
 "nbformat": 4,
 "nbformat_minor": 5
}
