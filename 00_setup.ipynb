{
 "cells": [
  {
   "cell_type": "code",
   "execution_count": 1,
   "id": "52b01dea-73b5-4b22-bbdd-bd4eeb21fc59",
   "metadata": {},
   "outputs": [
    {
     "name": "stdout",
     "output_type": "stream",
     "text": [
      "Python 3.12.8\n"
     ]
    }
   ],
   "source": [
    "import sys\n",
    "\n",
    "!{sys.executable} --version"
   ]
  },
  {
   "cell_type": "markdown",
   "id": "e94d03ea-638c-4f11-9d46-bbbf0b00a5a1",
   "metadata": {},
   "source": [
    "NOTE: Use `Shift+Tab` to show contextual tab."
   ]
  },
  {
   "cell_type": "markdown",
   "id": "20b5b805-4287-457b-80a8-27d0dae79cae",
   "metadata": {},
   "source": [
    "https://github.com/DeepReinforcementLearning/DeepReinforcementLearningInAction"
   ]
  },
  {
   "cell_type": "markdown",
   "id": "50eea3b7-9682-4553-ab2e-cc94ade687cc",
   "metadata": {},
   "source": [
    "## Sampling "
   ]
  },
  {
   "cell_type": "code",
   "execution_count": 2,
   "id": "a3b5e680-ca31-4a48-9b42-cbf5becbab8f",
   "metadata": {},
   "outputs": [
    {
     "data": {
      "text/plain": [
       "deque([10, 11, 12, 13, 14, 15, 16, 17, 18, 19], maxlen=10)"
      ]
     },
     "execution_count": 2,
     "metadata": {},
     "output_type": "execute_result"
    }
   ],
   "source": [
    "from collections import deque\n",
    "\n",
    "replay = deque(maxlen=10)\n",
    "for i in range(20):\n",
    "    replay.append(i)\n",
    "\n",
    "replay"
   ]
  },
  {
   "cell_type": "code",
   "execution_count": 3,
   "id": "aaf39a42-ca02-4f12-b4dc-3aad0475cd97",
   "metadata": {},
   "outputs": [
    {
     "data": {
      "text/plain": [
       "[17, 13, 15, 12, 16]"
      ]
     },
     "execution_count": 3,
     "metadata": {},
     "output_type": "execute_result"
    }
   ],
   "source": [
    "import random\n",
    "\n",
    "random.sample(replay, 5)"
   ]
  },
  {
   "cell_type": "markdown",
   "id": "55ac5928-18cc-43d8-807f-4cc160368666",
   "metadata": {},
   "source": [
    "## Index"
   ]
  },
  {
   "cell_type": "code",
   "execution_count": 4,
   "id": "c56ee88f-c520-429d-ac7f-d40cab40184e",
   "metadata": {},
   "outputs": [
    {
     "data": {
      "text/plain": [
       "deque([(10, 11, 12),\n",
       "       (11, 12, 13),\n",
       "       (12, 13, 14),\n",
       "       (13, 14, 15),\n",
       "       (14, 15, 16),\n",
       "       (15, 16, 17),\n",
       "       (16, 17, 18),\n",
       "       (17, 18, 19),\n",
       "       (18, 19, 20),\n",
       "       (19, 20, 21)],\n",
       "      maxlen=10)"
      ]
     },
     "execution_count": 4,
     "metadata": {},
     "output_type": "execute_result"
    }
   ],
   "source": [
    "replay = deque(maxlen=10)\n",
    "for i in range(20):\n",
    "    replay.append((i, i + 1, i + 2))\n",
    "replay"
   ]
  },
  {
   "cell_type": "code",
   "execution_count": 5,
   "id": "ec6cc1df-9a96-4ae5-a3c7-f02a71b07142",
   "metadata": {},
   "outputs": [
    {
     "data": {
      "text/plain": [
       "[(17, 18, 19), (19, 20, 21), (15, 16, 17), (10, 11, 12), (16, 17, 18)]"
      ]
     },
     "execution_count": 5,
     "metadata": {},
     "output_type": "execute_result"
    }
   ],
   "source": [
    "sample = random.sample(replay, 5)\n",
    "sample"
   ]
  },
  {
   "cell_type": "code",
   "execution_count": 6,
   "id": "8c7dd6eb-7889-4e77-83d0-8b5f893a3129",
   "metadata": {},
   "outputs": [
    {
     "data": {
      "text/plain": [
       "array([[17],\n",
       "       [19],\n",
       "       [15],\n",
       "       [10],\n",
       "       [16]])"
      ]
     },
     "execution_count": 6,
     "metadata": {},
     "output_type": "execute_result"
    }
   ],
   "source": [
    "import numpy as np\n",
    "\n",
    "np.array(sample)[:, [0]]"
   ]
  },
  {
   "cell_type": "markdown",
   "id": "3b80a949-cbf1-4a22-b9d1-b836d70646e5",
   "metadata": {},
   "source": [
    "## Torch"
   ]
  },
  {
   "cell_type": "code",
   "execution_count": 7,
   "id": "ea67d4fa-243f-43a0-9f0d-213faee01e93",
   "metadata": {},
   "outputs": [
    {
     "data": {
      "text/plain": [
       "tensor([[1., 2., 3.],\n",
       "        [4., 5., 6.]])"
      ]
     },
     "execution_count": 7,
     "metadata": {},
     "output_type": "execute_result"
    }
   ],
   "source": [
    "import torch\n",
    "\n",
    "a = torch.Tensor([[1, 2, 3]])\n",
    "b = torch.Tensor([[4, 5, 6]])\n",
    "torch.cat((a, b), 0)"
   ]
  },
  {
   "cell_type": "code",
   "execution_count": 8,
   "id": "d1e6c97b-fc82-4d0f-8a3f-a049a74741eb",
   "metadata": {},
   "outputs": [
    {
     "data": {
      "text/plain": [
       "tensor([[1., 2., 3., 4., 5., 6.]])"
      ]
     },
     "execution_count": 8,
     "metadata": {},
     "output_type": "execute_result"
    }
   ],
   "source": [
    "torch.cat((a, b), 1)"
   ]
  },
  {
   "cell_type": "code",
   "execution_count": 9,
   "id": "66bb8eae-94ea-4539-bdad-2c137e03653f",
   "metadata": {},
   "outputs": [
    {
     "data": {
      "text/plain": [
       "tensor([9, 8, 7, 6, 5, 4, 3, 2, 1, 0])"
      ]
     },
     "execution_count": 9,
     "metadata": {},
     "output_type": "execute_result"
    }
   ],
   "source": [
    "torch.flip(torch.arange(10), dims=(0,))"
   ]
  },
  {
   "cell_type": "code",
   "execution_count": 10,
   "id": "74205476-a068-4118-9615-ea360a8626bc",
   "metadata": {},
   "outputs": [
    {
     "data": {
      "text/plain": [
       "tensor([[0.8447, 0.5066, 0.2400, 0.5927],\n",
       "        [0.7785, 0.8707, 0.1834, 0.7309],\n",
       "        [0.0044, 0.6651, 0.6642, 0.0174]])"
      ]
     },
     "execution_count": 10,
     "metadata": {},
     "output_type": "execute_result"
    }
   ],
   "source": [
    "sample = torch.rand(3, 4)\n",
    "sample"
   ]
  },
  {
   "cell_type": "code",
   "execution_count": 11,
   "id": "3efa6708-d5ae-4754-a3ee-c07476548fb5",
   "metadata": {},
   "outputs": [
    {
     "data": {
      "text/plain": [
       "tensor([[0.0044, 0.6651, 0.6642, 0.0174],\n",
       "        [0.7785, 0.8707, 0.1834, 0.7309],\n",
       "        [0.8447, 0.5066, 0.2400, 0.5927]])"
      ]
     },
     "execution_count": 11,
     "metadata": {},
     "output_type": "execute_result"
    }
   ],
   "source": [
    "torch.flip(sample, dims=(0,))"
   ]
  },
  {
   "cell_type": "code",
   "execution_count": 12,
   "id": "d7b5659c-1198-4a7c-9561-d2e21d45ed3e",
   "metadata": {},
   "outputs": [
    {
     "data": {
      "text/plain": [
       "tensor([[0.0174, 0.6642, 0.6651, 0.0044],\n",
       "        [0.7309, 0.1834, 0.8707, 0.7785],\n",
       "        [0.5927, 0.2400, 0.5066, 0.8447]])"
      ]
     },
     "execution_count": 12,
     "metadata": {},
     "output_type": "execute_result"
    }
   ],
   "source": [
    "torch.flip(sample, dims=(0, 1))"
   ]
  },
  {
   "cell_type": "code",
   "execution_count": 13,
   "id": "4e456064-e671-4ee8-943c-855c5a2e1e24",
   "metadata": {},
   "outputs": [
    {
     "data": {
      "text/plain": [
       "tensor([[0.5927, 0.2400, 0.5066, 0.8447],\n",
       "        [0.7309, 0.1834, 0.8707, 0.7785],\n",
       "        [0.0174, 0.6642, 0.6651, 0.0044]])"
      ]
     },
     "execution_count": 13,
     "metadata": {},
     "output_type": "execute_result"
    }
   ],
   "source": [
    "torch.flip(sample, dims=(1,))"
   ]
  },
  {
   "cell_type": "markdown",
   "id": "edd56f28-cfb0-4ab4-a1c1-1ed3944bf047",
   "metadata": {
    "execution": {
     "iopub.execute_input": "2024-02-18T14:57:12.800506Z",
     "iopub.status.busy": "2024-02-18T14:57:12.793407Z",
     "iopub.status.idle": "2024-02-18T14:57:12.812923Z",
     "shell.execute_reply": "2024-02-18T14:57:12.811434Z",
     "shell.execute_reply.started": "2024-02-18T14:57:12.800455Z"
    }
   },
   "source": [
    "## Setting up gym"
   ]
  },
  {
   "cell_type": "code",
   "execution_count": 14,
   "id": "839d07b3-4d70-4645-b51d-1675c74e8e4f",
   "metadata": {},
   "outputs": [
    {
     "name": "stdout",
     "output_type": "stream",
     "text": [
      "done\n"
     ]
    },
    {
     "data": {
      "image/png": "[encoded data removed]",
      "text/plain": [
       "<Figure size 640x480 with 1 Axes>"
      ]
     },
     "metadata": {},
     "output_type": "display_data"
    }
   ],
   "source": [
    "# pip install gymnasium[classic-control]\n",
    "import gymnasium as gym\n",
    "import matplotlib.pyplot as plt\n",
    "from IPython import display\n",
    "\n",
    "%matplotlib inline\n",
    "\n",
    "env = gym.make(\"CartPole-v1\", render_mode=\"rgb_array\")\n",
    "env.reset()\n",
    "img = plt.imshow(env.render())  # Just call this once.\n",
    "for i in range(100):\n",
    "    img.set_data(env.render())\n",
    "    # plt.imshow(env.render())\n",
    "    display.display(plt.gcf())\n",
    "    display.clear_output(wait=True)\n",
    "    env.step(env.action_space.sample())  # take a random action\n",
    "\n",
    "env.close()\n",
    "print(\"done\")"
   ]
  },
  {
   "cell_type": "code",
   "execution_count": 15,
   "id": "227f1524-567b-4371-883d-2923466e9d91",
   "metadata": {},
   "outputs": [
    {
     "data": {
      "text/plain": [
       "'up'"
      ]
     },
     "execution_count": 15,
     "metadata": {},
     "output_type": "execute_result"
    }
   ],
   "source": [
    "from collections import namedtuple\n",
    "\n",
    "Transition = namedtuple(\"Transition\", [\"state\", \"action\", \"reward\"])\n",
    "\n",
    "t = Transition(\"up\", 1, 10)\n",
    "t.state"
   ]
  },
  {
   "cell_type": "code",
   "execution_count": 16,
   "id": "2e9a7c8e-8aa3-4a7e-914a-9e6bc1551b67",
   "metadata": {},
   "outputs": [
    {
     "data": {
      "text/plain": [
       "[Transition(state='up', action=0, reward=10),\n",
       " Transition(state='up', action=1, reward=10),\n",
       " Transition(state='up', action=2, reward=10),\n",
       " Transition(state='up', action=3, reward=10),\n",
       " Transition(state='up', action=4, reward=10),\n",
       " Transition(state='up', action=5, reward=10),\n",
       " Transition(state='up', action=6, reward=10),\n",
       " Transition(state='up', action=7, reward=10),\n",
       " Transition(state='up', action=8, reward=10),\n",
       " Transition(state='up', action=9, reward=10)]"
      ]
     },
     "execution_count": 16,
     "metadata": {},
     "output_type": "execute_result"
    }
   ],
   "source": [
    "transitions = [Transition(\"up\", i, 10) for i in range(10)]\n",
    "transitions"
   ]
  },
  {
   "cell_type": "code",
   "execution_count": 17,
   "id": "d5351d86-7e6e-4f29-940d-25450a245c84",
   "metadata": {},
   "outputs": [
    {
     "data": {
      "text/plain": [
       "Transition(state=('up', 'up', 'up', 'up', 'up', 'up', 'up', 'up', 'up', 'up'), action=(0, 1, 2, 3, 4, 5, 6, 7, 8, 9), reward=(10, 10, 10, 10, 10, 10, 10, 10, 10, 10))"
      ]
     },
     "execution_count": 17,
     "metadata": {},
     "output_type": "execute_result"
    }
   ],
   "source": [
    "batch = Transition(*zip(*transitions))\n",
    "batch"
   ]
  },
  {
   "cell_type": "code",
   "execution_count": 18,
   "id": "698d77d8-98ed-485f-8c27-03c951a374f7",
   "metadata": {},
   "outputs": [
    {
     "data": {
      "text/plain": [
       "('up', 'up', 'up', 'up', 'up', 'up', 'up', 'up', 'up', 'up')"
      ]
     },
     "execution_count": 18,
     "metadata": {},
     "output_type": "execute_result"
    }
   ],
   "source": [
    "batch.state"
   ]
  },
  {
   "cell_type": "code",
   "execution_count": 19,
   "id": "1fc71a26-6990-460c-a5a0-679077c5f8b7",
   "metadata": {},
   "outputs": [
    {
     "data": {
      "text/plain": [
       "(0, 1, 2, 3, 4, 5, 6, 7, 8, 9)"
      ]
     },
     "execution_count": 19,
     "metadata": {},
     "output_type": "execute_result"
    }
   ],
   "source": [
    "batch.action"
   ]
  },
  {
   "cell_type": "code",
   "execution_count": 20,
   "id": "b6e9c956-f421-4168-bce4-e6ff8c71a46c",
   "metadata": {},
   "outputs": [],
   "source": [
    "import numpy as np\n",
    "import torch"
   ]
  },
  {
   "cell_type": "code",
   "execution_count": 21,
   "id": "da1c2fdb-ef75-4473-bf09-721d8fc69fba",
   "metadata": {},
   "outputs": [
    {
     "data": {
      "text/plain": [
       "(array([[0.86834196, 0.71379203, 0.00695944],\n",
       "        [0.03460631, 0.71754087, 0.01358655]]),\n",
       " tensor([[0.8683, 0.7138, 0.0070],\n",
       "         [0.0346, 0.7175, 0.0136]], dtype=torch.float64))"
      ]
     },
     "execution_count": 21,
     "metadata": {},
     "output_type": "execute_result"
    }
   ],
   "source": [
    "n = np.random.rand(2, 3)\n",
    "n, torch.from_numpy(n)"
   ]
  },
  {
   "cell_type": "markdown",
   "id": "7a9c80b4-9d7b-42b4-9bf2-e52408b17970",
   "metadata": {},
   "source": [
    "## Torch Operations\n"
   ]
  },
  {
   "cell_type": "markdown",
   "id": "93c95513-6773-4579-9ae2-cbdb7ab53f34",
   "metadata": {},
   "source": [
    "### Torch Squeeze\n",
    "\n",
    "`torch.squeeze` removes all dimension of 1 from the tensor."
   ]
  },
  {
   "cell_type": "code",
   "execution_count": 22,
   "id": "6c20a087-612a-4425-a7d9-9820f1cf5579",
   "metadata": {},
   "outputs": [
    {
     "data": {
      "text/plain": [
       "torch.Size([1, 2, 1, 2])"
      ]
     },
     "execution_count": 22,
     "metadata": {},
     "output_type": "execute_result"
    }
   ],
   "source": [
    "import torch\n",
    "\n",
    "t = torch.rand(1, 2, 1, 2)\n",
    "t.shape"
   ]
  },
  {
   "cell_type": "code",
   "execution_count": 23,
   "id": "836104b2-cb5d-4b5d-abd7-7a5c75aed7fa",
   "metadata": {},
   "outputs": [
    {
     "data": {
      "text/plain": [
       "(tensor([[0.3566, 0.7225],\n",
       "         [0.4224, 0.6005]]),\n",
       " torch.Size([2, 2]))"
      ]
     },
     "execution_count": 23,
     "metadata": {},
     "output_type": "execute_result"
    }
   ],
   "source": [
    "s = torch.squeeze(t)\n",
    "s, s.shape"
   ]
  },
  {
   "cell_type": "code",
   "execution_count": 24,
   "id": "f87a7eb4-d8c4-4018-ba64-a836b7d62163",
   "metadata": {},
   "outputs": [
    {
     "data": {
      "text/plain": [
       "(tensor([[[0.3566, 0.7225]],\n",
       " \n",
       "         [[0.4224, 0.6005]]]),\n",
       " torch.Size([2, 1, 2]))"
      ]
     },
     "execution_count": 24,
     "metadata": {},
     "output_type": "execute_result"
    }
   ],
   "source": [
    "# Remove from first dimension\n",
    "s = torch.squeeze(t, 0)\n",
    "s, s.shape"
   ]
  },
  {
   "cell_type": "code",
   "execution_count": 25,
   "id": "562188e2-3606-4c3a-81a9-82b005018f73",
   "metadata": {},
   "outputs": [
    {
     "data": {
      "text/plain": [
       "(tensor([[[[0.3566, 0.7225]],\n",
       " \n",
       "          [[0.4224, 0.6005]]]]),\n",
       " torch.Size([1, 2, 1, 2]))"
      ]
     },
     "execution_count": 25,
     "metadata": {},
     "output_type": "execute_result"
    }
   ],
   "source": [
    "# Remove from second dimension (which is not 1, so it is not removed)\n",
    "s = torch.squeeze(t, 1)\n",
    "s, s.shape"
   ]
  },
  {
   "cell_type": "code",
   "execution_count": 26,
   "id": "9d8df7d7-2cc5-491c-a7c8-8bb7624dba09",
   "metadata": {},
   "outputs": [
    {
     "data": {
      "text/plain": [
       "(tensor([[[0.3566, 0.7225],\n",
       "          [0.4224, 0.6005]]]),\n",
       " torch.Size([1, 2, 2]))"
      ]
     },
     "execution_count": 26,
     "metadata": {},
     "output_type": "execute_result"
    }
   ],
   "source": [
    "# Remove from third dimension (which is not 1, so it is not removed)\n",
    "s = torch.squeeze(t, 2)\n",
    "s, s.shape"
   ]
  },
  {
   "cell_type": "code",
   "execution_count": 27,
   "id": "4589ff22-f4ba-42c8-93e5-967d2633c40f",
   "metadata": {},
   "outputs": [
    {
     "data": {
      "text/plain": [
       "(tensor([[[[0.3566, 0.7225]],\n",
       " \n",
       "          [[0.4224, 0.6005]]]]),\n",
       " torch.Size([1, 2, 1, 2]))"
      ]
     },
     "execution_count": 27,
     "metadata": {},
     "output_type": "execute_result"
    }
   ],
   "source": [
    "# Remove from fourth dimension\n",
    "s = torch.squeeze(t, 3)\n",
    "s, s.shape"
   ]
  },
  {
   "cell_type": "code",
   "execution_count": 28,
   "id": "6852eae1-c121-4ca0-9f1d-850698f4e906",
   "metadata": {},
   "outputs": [
    {
     "name": "stdout",
     "output_type": "stream",
     "text": [
      "<class 'IndexError'> Dimension out of range (expected to be in range of [-4, 3], but got 4)\n"
     ]
    }
   ],
   "source": [
    "# Remove from third dimension\n",
    "try:\n",
    "    s = torch.squeeze(t, 4)\n",
    "except IndexError as e:\n",
    "    print(type(e), e)"
   ]
  },
  {
   "cell_type": "markdown",
   "id": "aae7d511-8b9e-44c4-9c0e-30e3695b3c57",
   "metadata": {},
   "source": [
    "### Torch Unsqueeze\n",
    "\n",
    "The opposite of `torch.squeeze`, adds an additional dimension at the specified index. \n",
    "Can we use `torch.view` for this?"
   ]
  },
  {
   "cell_type": "code",
   "execution_count": 29,
   "id": "cf8d6d00-ac38-4fe9-9e0d-9f44eceb7b32",
   "metadata": {},
   "outputs": [
    {
     "data": {
      "text/plain": [
       "(tensor([[0.4083, 0.7886, 0.8799],\n",
       "         [0.3980, 0.1163, 0.0064]]),\n",
       " torch.Size([2, 3]))"
      ]
     },
     "execution_count": 29,
     "metadata": {},
     "output_type": "execute_result"
    }
   ],
   "source": [
    "# (2, 3)\n",
    "# Start with an array []\n",
    "# There are two more arrays in it, [[], []]\n",
    "# And each array has 3 cols, [[1,2,3], [4,5,6]]\n",
    "t = torch.rand(2, 3)\n",
    "t, t.shape"
   ]
  },
  {
   "cell_type": "code",
   "execution_count": 30,
   "id": "01317127-213e-4123-a348-6dab8e7e0039",
   "metadata": {},
   "outputs": [
    {
     "data": {
      "text/plain": [
       "(tensor([[[0.4083, 0.7886, 0.8799],\n",
       "          [0.3980, 0.1163, 0.0064]]]),\n",
       " torch.Size([1, 2, 3]))"
      ]
     },
     "execution_count": 30,
     "metadata": {},
     "output_type": "execute_result"
    }
   ],
   "source": [
    "# unsqueeze(2,3, dim=0) = (1, 2, 3)\n",
    "# Start with an array []\n",
    "# Add a 1-dim array inside: [[]]\n",
    "# There are two more arrays in it, [[[], []]]\n",
    "# And each array has 3 cols, [[[1,2,3], [4,5,6]]]\n",
    "s = torch.unsqueeze(t, 0)\n",
    "s, s.shape"
   ]
  },
  {
   "cell_type": "code",
   "execution_count": 31,
   "id": "dce3a673-ab9f-40f7-b70c-0531d299dec7",
   "metadata": {},
   "outputs": [
    {
     "data": {
      "text/plain": [
       "(tensor([[[0.4083, 0.7886, 0.8799]],\n",
       " \n",
       "         [[0.3980, 0.1163, 0.0064]]]),\n",
       " torch.Size([2, 1, 3]))"
      ]
     },
     "execution_count": 31,
     "metadata": {},
     "output_type": "execute_result"
    }
   ],
   "source": [
    "# unsqueeze(2,3, dim=1) = (2, 1, 3)\n",
    "# Start with an array []\n",
    "# Add a 2-dim array inside: [[], []]\n",
    "# Each has 1 array, [[[]], [[]]]\n",
    "# And each array has 3 cols, [[[1,2,3]], [[1,2,3]]]\n",
    "s = torch.unsqueeze(t, 1)\n",
    "s, s.shape"
   ]
  },
  {
   "cell_type": "code",
   "execution_count": 32,
   "id": "2403f502-fb6f-4c48-b806-d46d30098a48",
   "metadata": {},
   "outputs": [
    {
     "data": {
      "text/plain": [
       "tensor([0.4083, 0.7886, 0.8799])"
      ]
     },
     "execution_count": 32,
     "metadata": {},
     "output_type": "execute_result"
    }
   ],
   "source": [
    "s[0][0]"
   ]
  },
  {
   "cell_type": "code",
   "execution_count": 33,
   "id": "61d8cb9d-cd1b-4c6f-92eb-64e85268d3fe",
   "metadata": {},
   "outputs": [
    {
     "data": {
      "text/plain": [
       "tensor([[[0.4083, 0.7886, 0.8799]],\n",
       "\n",
       "        [[0.3980, 0.1163, 0.0064]]])"
      ]
     },
     "execution_count": 33,
     "metadata": {},
     "output_type": "execute_result"
    }
   ],
   "source": [
    "t.view((2, 1, 3))"
   ]
  },
  {
   "cell_type": "code",
   "execution_count": 34,
   "id": "6e5848a9-9465-4ca2-aae1-fd2300b2c865",
   "metadata": {},
   "outputs": [
    {
     "data": {
      "text/plain": [
       "(tensor([[[0.4083],\n",
       "          [0.7886],\n",
       "          [0.8799]],\n",
       " \n",
       "         [[0.3980],\n",
       "          [0.1163],\n",
       "          [0.0064]]]),\n",
       " torch.Size([2, 3, 1]))"
      ]
     },
     "execution_count": 34,
     "metadata": {},
     "output_type": "execute_result"
    }
   ],
   "source": [
    "# unsqueeze(2,3, dim=2) = (2, 3, 1)\n",
    "# Start with an array []\n",
    "# Add a 2-dim array inside: [[], []]\n",
    "# Each has 3 array, [[[], [], []], [[], [], []]]\n",
    "# And each array has 1 col, [[[1], [2], [3]], [[4], [5], [6]]]\n",
    "s = torch.unsqueeze(t, 2)  # same as dim=-1\n",
    "s, s.shape"
   ]
  },
  {
   "cell_type": "code",
   "execution_count": 35,
   "id": "720f4a4c-29bc-4fc6-bc08-80d82898d776",
   "metadata": {},
   "outputs": [
    {
     "data": {
      "text/plain": [
       "tensor([0.4083])"
      ]
     },
     "execution_count": 35,
     "metadata": {},
     "output_type": "execute_result"
    }
   ],
   "source": [
    "s[0][0]"
   ]
  },
  {
   "cell_type": "code",
   "execution_count": 36,
   "id": "1c1b987e-e048-491a-8964-ab4a2e3956e2",
   "metadata": {},
   "outputs": [
    {
     "data": {
      "text/plain": [
       "tensor([[[0.4083],\n",
       "         [0.7886],\n",
       "         [0.8799]],\n",
       "\n",
       "        [[0.3980],\n",
       "         [0.1163],\n",
       "         [0.0064]]])"
      ]
     },
     "execution_count": 36,
     "metadata": {},
     "output_type": "execute_result"
    }
   ],
   "source": [
    "t.view((2, 3, 1))"
   ]
  },
  {
   "cell_type": "markdown",
   "id": "af2dd26f-0cf1-41ec-b5ba-011ccaa65eaa",
   "metadata": {},
   "source": [
    "\n",
    "### Torch Stack\n",
    "\n",
    "`torch.stack` operation is basically `torch.unsqueeze` followed by `torch.cat` at the given dimension."
   ]
  },
  {
   "cell_type": "code",
   "execution_count": 37,
   "id": "fda3a47a-a80a-40dd-b667-98e88d3e83a3",
   "metadata": {},
   "outputs": [
    {
     "data": {
      "text/plain": [
       "(tensor([[0.3298, 0.9315, 0.1492],\n",
       "         [0.1927, 0.8380, 0.2639]]),\n",
       " torch.Size([2, 3]))"
      ]
     },
     "execution_count": 37,
     "metadata": {},
     "output_type": "execute_result"
    }
   ],
   "source": [
    "import torch\n",
    "\n",
    "t = torch.rand((2, 3))\n",
    "t, t.shape"
   ]
  },
  {
   "cell_type": "code",
   "execution_count": 38,
   "id": "01a9cc01-4886-4232-9b13-56fb76ca68b2",
   "metadata": {},
   "outputs": [
    {
     "data": {
      "text/plain": [
       "(tensor([[1., 2., 3.],\n",
       "         [4., 5., 6.]]),\n",
       " torch.Size([2, 3]))"
      ]
     },
     "execution_count": 38,
     "metadata": {},
     "output_type": "execute_result"
    }
   ],
   "source": [
    "t = torch.Tensor([[1, 2, 3], [4, 5, 6]])\n",
    "t, t.shape"
   ]
  },
  {
   "cell_type": "code",
   "execution_count": 39,
   "id": "e95b0dca-1d40-48d6-858c-8d79b4bbb649",
   "metadata": {},
   "outputs": [
    {
     "data": {
      "text/plain": [
       "(tensor([1., 2., 3.]), tensor([4., 5., 6.]))"
      ]
     },
     "execution_count": 39,
     "metadata": {},
     "output_type": "execute_result"
    }
   ],
   "source": [
    "t[0], t[1]"
   ]
  },
  {
   "cell_type": "code",
   "execution_count": 40,
   "id": "921c7b26-2618-4dc6-911f-e2d6feca4b32",
   "metadata": {},
   "outputs": [
    {
     "data": {
      "text/plain": [
       "(tensor([[[1., 2., 3.],\n",
       "          [4., 5., 6.]],\n",
       " \n",
       "         [[1., 2., 3.],\n",
       "          [4., 5., 6.]]]),\n",
       " torch.Size([2, 2, 3]))"
      ]
     },
     "execution_count": 40,
     "metadata": {},
     "output_type": "execute_result"
    }
   ],
   "source": [
    "# (2, 3) + (2, 3)\n",
    "# unsqueeze(2, 3, dim=0) = (1, 2, 3)\n",
    "# cat((1,2,3), (1,2,3), dim=0) = (2, 2, 6)\n",
    "a = torch.stack((t, t))\n",
    "a, a.shape"
   ]
  },
  {
   "cell_type": "code",
   "execution_count": 41,
   "id": "e2625c99-e863-4671-ba69-f0fd766a0d86",
   "metadata": {},
   "outputs": [
    {
     "data": {
      "text/plain": [
       "(tensor([[[1., 2., 3.],\n",
       "          [1., 2., 3.]],\n",
       " \n",
       "         [[4., 5., 6.],\n",
       "          [4., 5., 6.]]]),\n",
       " torch.Size([2, 2, 3]))"
      ]
     },
     "execution_count": 41,
     "metadata": {},
     "output_type": "execute_result"
    }
   ],
   "source": [
    "# unsqueeze(2, 3, dim=1) = (2, 1, 3)\n",
    "# cat((2,1,3), (2,1,3), dim=1) = (2, 2, 6)\n",
    "b = torch.stack((t, t), dim=1)\n",
    "b, b.shape"
   ]
  },
  {
   "cell_type": "code",
   "execution_count": 42,
   "id": "5740f678-697b-4fe9-adcf-b52935e6e070",
   "metadata": {},
   "outputs": [
    {
     "data": {
      "text/plain": [
       "(tensor([[[1., 1.],\n",
       "          [2., 2.],\n",
       "          [3., 3.]],\n",
       " \n",
       "         [[4., 4.],\n",
       "          [5., 5.],\n",
       "          [6., 6.]]]),\n",
       " torch.Size([2, 3, 2]))"
      ]
     },
     "execution_count": 42,
     "metadata": {},
     "output_type": "execute_result"
    }
   ],
   "source": [
    "# unsqueeze(2, 3, dim=2) = (2, 3, 1)\n",
    "# cat((2,3,1), (2,3,1), dim=1) = (2, 3, 2)\n",
    "c = torch.stack((t, t), dim=2)\n",
    "c, c.shape"
   ]
  },
  {
   "cell_type": "code",
   "execution_count": 43,
   "id": "3f9923ca-1696-467b-ae14-2dfedf6cef6b",
   "metadata": {},
   "outputs": [
    {
     "name": "stdout",
     "output_type": "stream",
     "text": [
      "tensor([[1., 2., 3.],\n",
      "        [4., 5., 6.]])\n",
      "tensor([[1., 2., 3.],\n",
      "        [4., 5., 6.]])\n"
     ]
    }
   ],
   "source": [
    "print(a[0])\n",
    "print(a[1])"
   ]
  },
  {
   "cell_type": "code",
   "execution_count": 44,
   "id": "f8680674-178c-4068-9d4d-ef3fdca22e3a",
   "metadata": {},
   "outputs": [
    {
     "name": "stdout",
     "output_type": "stream",
     "text": [
      "tensor([[1., 2., 3.],\n",
      "        [1., 2., 3.]])\n",
      "tensor([[4., 5., 6.],\n",
      "        [4., 5., 6.]])\n"
     ]
    }
   ],
   "source": [
    "print(b[0])\n",
    "print(b[1])"
   ]
  },
  {
   "cell_type": "code",
   "execution_count": 45,
   "id": "b8cdc840-20b7-4692-812b-8dca3c0865cd",
   "metadata": {},
   "outputs": [
    {
     "name": "stdout",
     "output_type": "stream",
     "text": [
      "tensor([[[1., 2., 3.],\n",
      "         [4., 5., 6.]],\n",
      "\n",
      "        [[1., 2., 3.],\n",
      "         [4., 5., 6.]],\n",
      "\n",
      "        [[1., 2., 3.],\n",
      "         [4., 5., 6.]]]) torch.Size([3, 2, 3])\n",
      "tensor([[[1., 2., 3.],\n",
      "         [1., 2., 3.],\n",
      "         [1., 2., 3.]],\n",
      "\n",
      "        [[4., 5., 6.],\n",
      "         [4., 5., 6.],\n",
      "         [4., 5., 6.]]]) torch.Size([2, 3, 3])\n",
      "tensor([[[1., 1., 1.],\n",
      "         [2., 2., 2.],\n",
      "         [3., 3., 3.]],\n",
      "\n",
      "        [[4., 4., 4.],\n",
      "         [5., 5., 5.],\n",
      "         [6., 6., 6.]]]) torch.Size([2, 3, 3])\n"
     ]
    }
   ],
   "source": [
    "a = torch.stack((t, t, t))\n",
    "b = torch.stack((t, t, t), dim=1)\n",
    "c = torch.stack((t, t, t), dim=2)\n",
    "print(a, a.shape)\n",
    "print(b, b.shape)\n",
    "print(c, c.shape)"
   ]
  },
  {
   "cell_type": "markdown",
   "id": "601181ad-d6f5-4f35-b63c-7508244f2918",
   "metadata": {},
   "source": [
    "### Torch Cat"
   ]
  },
  {
   "cell_type": "code",
   "execution_count": 46,
   "id": "106dc069-8086-4ad9-9ea7-792fe3792166",
   "metadata": {},
   "outputs": [
    {
     "name": "stdout",
     "output_type": "stream",
     "text": [
      "tensor([[1., 2., 3.],\n",
      "        [4., 5., 6.],\n",
      "        [1., 2., 3.],\n",
      "        [4., 5., 6.]]) torch.Size([4, 3])\n",
      "tensor([[1., 2., 3., 1., 2., 3.],\n",
      "        [4., 5., 6., 4., 5., 6.]]) torch.Size([2, 6])\n"
     ]
    }
   ],
   "source": [
    "a = torch.cat((t, t))  # (2,3), (2,3) = (4,3), adds the 0 dim\n",
    "b = torch.cat((t, t), dim=1)  # (2, 3), (2,3) = (2, 6), adds the 1 dim\n",
    "print(a, a.shape)\n",
    "print(b, b.shape)"
   ]
  },
  {
   "cell_type": "code",
   "execution_count": 47,
   "id": "f380c916-f8e8-4830-b47b-3a1362dc58b5",
   "metadata": {},
   "outputs": [
    {
     "name": "stdout",
     "output_type": "stream",
     "text": [
      "tensor([[1., 2., 3.],\n",
      "        [4., 5., 6.],\n",
      "        [1., 2., 3.],\n",
      "        [4., 5., 6.],\n",
      "        [1., 2., 3.],\n",
      "        [4., 5., 6.]]) torch.Size([6, 3])\n",
      "tensor([[1., 2., 3., 1., 2., 3., 1., 2., 3.],\n",
      "        [4., 5., 6., 4., 5., 6., 4., 5., 6.]]) torch.Size([2, 9])\n"
     ]
    }
   ],
   "source": [
    "a = torch.cat((t, t, t))\n",
    "b = torch.cat((t, t, t), dim=1)\n",
    "print(a, a.shape)\n",
    "print(b, b.shape)"
   ]
  },
  {
   "cell_type": "markdown",
   "id": "4a432bb7-7c31-4d34-94f2-49c4404b9a58",
   "metadata": {},
   "source": [
    "### Torch Gather"
   ]
  },
  {
   "cell_type": "markdown",
   "id": "d9999e54-290c-464f-8b1e-c5692ba3ffda",
   "metadata": {},
   "source": [
    "The output is actually quite simple. It follows the size of the `index` tensor.\n",
    "\n",
    "For each dimension, just replace the dim of the `index` tensor:\n",
    "\n",
    "- dim 0: `input[index][j][k]`\n",
    "- dim 1: `input[i][index][k]`\n",
    "- dim 2: `input[i][j][index]`"
   ]
  },
  {
   "cell_type": "code",
   "execution_count": 48,
   "id": "1fe0f1fd-41f2-465e-927c-19d57461aa33",
   "metadata": {},
   "outputs": [
    {
     "data": {
      "text/plain": [
       "(tensor([[1., 2., 3.],\n",
       "         [4., 5., 6.]]),\n",
       " torch.Size([2, 3]))"
      ]
     },
     "execution_count": 48,
     "metadata": {},
     "output_type": "execute_result"
    }
   ],
   "source": [
    "t = torch.Tensor([[1, 2, 3], [4, 5, 6]])\n",
    "t, t.shape"
   ]
  },
  {
   "cell_type": "code",
   "execution_count": 49,
   "id": "d3c20a7d-78c1-4324-bdd4-9ff9f0ec8ed9",
   "metadata": {},
   "outputs": [
    {
     "name": "stdout",
     "output_type": "stream",
     "text": [
      "torch.Size([4, 3])\n"
     ]
    },
    {
     "data": {
      "text/plain": [
       "tensor([[1., 5., 6.],\n",
       "        [4., 5., 3.],\n",
       "        [4., 2., 3.],\n",
       "        [1., 2., 3.]])"
      ]
     },
     "execution_count": 49,
     "metadata": {},
     "output_type": "execute_result"
    }
   ],
   "source": [
    "# We have three rows to gather\n",
    "# Take for example the first index row: [0, 1, 1]\n",
    "# Each position is (0, 0), (0, 1), (0, 2)\n",
    "# Replace each value at 0 with the index value [0, 1, 1]\n",
    "# Each position is now (0, 0), (1, 1), (1, 2)\n",
    "# Take the input value\n",
    "#\n",
    "# The max number of rows for index is unlimited, but the max number of cols must match the input col, which is 3.\n",
    "# If tensor shape is (2, 3)\n",
    "# Then index shape can be (n, 3) for dim 0\n",
    "index = torch.Tensor([[0, 1, 1], [1, 1, 0], [1, 0, 0], [0, 0, 0]]).long()\n",
    "print(index.shape)\n",
    "torch.gather(t, 0, index)"
   ]
  },
  {
   "cell_type": "code",
   "execution_count": 50,
   "id": "527cf336-c753-4fc3-8152-bdcd22146e13",
   "metadata": {},
   "outputs": [
    {
     "name": "stdout",
     "output_type": "stream",
     "text": [
      "torch.Size([2, 4])\n"
     ]
    },
    {
     "data": {
      "text/plain": [
       "tensor([[2., 3., 1., 2.],\n",
       "        [4., 5., 6., 5.]])"
      ]
     },
     "execution_count": 50,
     "metadata": {},
     "output_type": "execute_result"
    }
   ],
   "source": [
    "# We have two rows to gather\n",
    "# Take for example the first index row: [1, 2, 0, 1]\n",
    "# Each position is (0, 0), (0, 1), (0, 2), (0, 3)\n",
    "# Replace each value at 1 with the index value [1, 2, 0, 1]\n",
    "# Each position is now (0, 1), (0, 2), (0, 0), (0, 1)\n",
    "# Take the input value\n",
    "#\n",
    "# The max number of row is limited to the number of rows, but the max number of cols is unlimited.\n",
    "# If tensor shape is (2, 3)\n",
    "# Then index shape can be (2, n) for dim 1\n",
    "index = torch.Tensor([[1, 2, 0, 1], [0, 1, 2, 1]]).long()\n",
    "print(index.shape)\n",
    "torch.gather(t, 1, index)"
   ]
  },
  {
   "cell_type": "code",
   "execution_count": 51,
   "id": "4cceac55-830a-4f48-970a-87aad1f7e778",
   "metadata": {},
   "outputs": [
    {
     "data": {
      "text/plain": [
       "1"
      ]
     },
     "execution_count": 51,
     "metadata": {},
     "output_type": "execute_result"
    }
   ],
   "source": [
    "import random\n",
    "\n",
    "random.randint(0, 1)  # Generates between lo (inclusive) and hi (inclusive)"
   ]
  },
  {
   "cell_type": "code",
   "execution_count": 52,
   "id": "87fda907-743a-4a6c-82ca-1aba57dcdb22",
   "metadata": {},
   "outputs": [
    {
     "data": {
      "text/plain": [
       "0"
      ]
     },
     "execution_count": 52,
     "metadata": {},
     "output_type": "execute_result"
    }
   ],
   "source": [
    "np.random.randint(0, 1)  # Generates between lo (inclusive) and hi (exclusive)"
   ]
  },
  {
   "cell_type": "markdown",
   "id": "0f64eb0d-1494-4b46-af4e-787c8b50b9a3",
   "metadata": {},
   "source": [
    "## One Hot Encode"
   ]
  },
  {
   "cell_type": "code",
   "execution_count": 53,
   "id": "5144da0f-cb75-46d9-afff-904fdd8241da",
   "metadata": {},
   "outputs": [
    {
     "name": "stdout",
     "output_type": "stream",
     "text": [
      "tensor([0, 1, 2, 3, 4, 5])\n"
     ]
    },
    {
     "data": {
      "text/plain": [
       "tensor([[1, 0, 0, 0, 0, 0],\n",
       "        [0, 1, 0, 0, 0, 0],\n",
       "        [0, 0, 1, 0, 0, 0],\n",
       "        [0, 0, 0, 1, 0, 0],\n",
       "        [0, 0, 0, 0, 1, 0],\n",
       "        [0, 0, 0, 0, 0, 1]])"
      ]
     },
     "execution_count": 53,
     "metadata": {},
     "output_type": "execute_result"
    }
   ],
   "source": [
    "import torch\n",
    "import torch.nn.functional as F\n",
    "\n",
    "t = torch.arange(0, 6)\n",
    "\n",
    "print(t)\n",
    "F.one_hot(t)"
   ]
  },
  {
   "cell_type": "code",
   "execution_count": 54,
   "id": "043e9f0d-3c8b-4945-92a5-8b72638aaedc",
   "metadata": {},
   "outputs": [
    {
     "data": {
      "text/plain": [
       "tensor([[1, 0, 0, 0, 0, 0, 0, 0, 0, 0],\n",
       "        [0, 1, 0, 0, 0, 0, 0, 0, 0, 0],\n",
       "        [0, 0, 1, 0, 0, 0, 0, 0, 0, 0],\n",
       "        [0, 0, 0, 1, 0, 0, 0, 0, 0, 0],\n",
       "        [0, 0, 0, 0, 1, 0, 0, 0, 0, 0],\n",
       "        [0, 0, 0, 0, 0, 1, 0, 0, 0, 0]])"
      ]
     },
     "execution_count": 54,
     "metadata": {},
     "output_type": "execute_result"
    }
   ],
   "source": [
    "F.one_hot(t, num_classes=10)"
   ]
  },
  {
   "cell_type": "code",
   "execution_count": 55,
   "id": "611f6da7-4c80-4313-b145-3943c5f3a831",
   "metadata": {},
   "outputs": [
    {
     "data": {
      "text/plain": [
       "tensor([1, 0, 0])"
      ]
     },
     "execution_count": 55,
     "metadata": {},
     "output_type": "execute_result"
    }
   ],
   "source": [
    "F.one_hot(torch.tensor(0), num_classes=3)"
   ]
  },
  {
   "cell_type": "code",
   "execution_count": 56,
   "id": "7c081d84-1bfc-44b8-9fdd-00e5d93dd5dd",
   "metadata": {},
   "outputs": [
    {
     "data": {
      "text/plain": [
       "tensor([0, 1, 0])"
      ]
     },
     "execution_count": 56,
     "metadata": {},
     "output_type": "execute_result"
    }
   ],
   "source": [
    "F.one_hot(torch.tensor(1), num_classes=3)"
   ]
  },
  {
   "cell_type": "code",
   "execution_count": 57,
   "id": "c89d124c-0ad7-4a09-9a6c-04b0c084426e",
   "metadata": {},
   "outputs": [
    {
     "data": {
      "text/plain": [
       "tensor([0, 0, 1])"
      ]
     },
     "execution_count": 57,
     "metadata": {},
     "output_type": "execute_result"
    }
   ],
   "source": [
    "F.one_hot(torch.tensor(2), num_classes=3)"
   ]
  },
  {
   "cell_type": "code",
   "execution_count": 58,
   "id": "8eb8f473-f93b-4199-88a6-84188eecb862",
   "metadata": {},
   "outputs": [],
   "source": [
    "# RuntimeError: Class values must be smaller than num_classes.\n",
    "# F.one_hot(torch.tensor(3), num_classes=3)"
   ]
  },
  {
   "cell_type": "code",
   "execution_count": 59,
   "id": "e8a491ba-cd22-4c07-a248-5c41e98e8a45",
   "metadata": {},
   "outputs": [
    {
     "data": {
      "text/plain": [
       "tensor([[0, 1],\n",
       "        [2, 3],\n",
       "        [4, 5]])"
      ]
     },
     "execution_count": 59,
     "metadata": {},
     "output_type": "execute_result"
    }
   ],
   "source": [
    "t.view((3, 2))"
   ]
  },
  {
   "cell_type": "code",
   "execution_count": 60,
   "id": "1873c435-43af-4610-acf6-b37b3b9054a1",
   "metadata": {},
   "outputs": [
    {
     "data": {
      "text/plain": [
       "tensor([[0, 1, 2],\n",
       "        [3, 4, 5]])"
      ]
     },
     "execution_count": 60,
     "metadata": {},
     "output_type": "execute_result"
    }
   ],
   "source": [
    "t.view((2, 3))"
   ]
  },
  {
   "cell_type": "code",
   "execution_count": 61,
   "id": "0e598666-2b29-4e9e-9ba9-c9f57df0324a",
   "metadata": {},
   "outputs": [
    {
     "data": {
      "text/plain": [
       "tensor([[[0, 1, 2],\n",
       "         [3, 4, 5]]])"
      ]
     },
     "execution_count": 61,
     "metadata": {},
     "output_type": "execute_result"
    }
   ],
   "source": [
    "t.view((1, 2, 3))"
   ]
  },
  {
   "cell_type": "code",
   "execution_count": 62,
   "id": "78162f6c-ae00-42dc-990e-b44b6a157c35",
   "metadata": {},
   "outputs": [
    {
     "data": {
      "text/plain": [
       "tensor([[[0],\n",
       "         [1]],\n",
       "\n",
       "        [[2],\n",
       "         [3]],\n",
       "\n",
       "        [[4],\n",
       "         [5]]])"
      ]
     },
     "execution_count": 62,
     "metadata": {},
     "output_type": "execute_result"
    }
   ],
   "source": [
    "t.view((3, 2, 1))"
   ]
  },
  {
   "cell_type": "markdown",
   "id": "c12e0d41-81dd-4d64-bc9e-8d8ddd4a1f74",
   "metadata": {},
   "source": [
    "## Single value"
   ]
  },
  {
   "cell_type": "code",
   "execution_count": 63,
   "id": "9e8b00b0-9a5e-4cac-8f6d-7d2c5cf5299d",
   "metadata": {},
   "outputs": [
    {
     "name": "stdout",
     "output_type": "stream",
     "text": [
      "tensor([1.])\n",
      "tensor(1)\n"
     ]
    }
   ],
   "source": [
    "a_list = torch.Tensor([1])\n",
    "an_item = torch.tensor(1)\n",
    "print(a_list)\n",
    "print(an_item)"
   ]
  },
  {
   "cell_type": "code",
   "execution_count": 64,
   "id": "eb51a8de-dabf-4dda-97aa-de13ddcfbeba",
   "metadata": {},
   "outputs": [
    {
     "data": {
      "text/plain": [
       "(1.0, 1)"
      ]
     },
     "execution_count": 64,
     "metadata": {},
     "output_type": "execute_result"
    }
   ],
   "source": [
    "a_list.item(), an_item.item()"
   ]
  },
  {
   "cell_type": "code",
   "execution_count": 65,
   "id": "37f9ff2f-130f-487a-b26b-4643cbd6361f",
   "metadata": {},
   "outputs": [
    {
     "data": {
      "text/plain": [
       "tensor([1.])"
      ]
     },
     "execution_count": 65,
     "metadata": {},
     "output_type": "execute_result"
    }
   ],
   "source": [
    "detached = a_list.detach()\n",
    "detached"
   ]
  },
  {
   "cell_type": "code",
   "execution_count": 66,
   "id": "aca9a395-ba79-4a40-84fe-f1da3568c703",
   "metadata": {},
   "outputs": [],
   "source": [
    "detached[0] = 2"
   ]
  },
  {
   "cell_type": "code",
   "execution_count": 67,
   "id": "bc9aef2f-a51f-4e94-bbd3-45e3f9e2b7b3",
   "metadata": {},
   "outputs": [
    {
     "data": {
      "text/plain": [
       "tensor([2.])"
      ]
     },
     "execution_count": 67,
     "metadata": {},
     "output_type": "execute_result"
    }
   ],
   "source": [
    "detached"
   ]
  }
 ],
 "metadata": {
  "kernelspec": {
   "display_name": "Python 3 (ipykernel)",
   "language": "python",
   "name": "python3"
  },
  "language_info": {
   "codemirror_mode": {
    "name": "ipython",
    "version": 3
   },
   "file_extension": ".py",
   "mimetype": "text/x-python",
   "name": "python",
   "nbconvert_exporter": "python",
   "pygments_lexer": "ipython3",
   "version": "3.12.8"
  }
 },
 "nbformat": 4,
 "nbformat_minor": 5
}
