{
 "cells": [
  {
   "cell_type": "code",
   "execution_count": 2,
   "id": "52b01dea-73b5-4b22-bbdd-bd4eeb21fc59",
   "metadata": {
    "execution": {
     "iopub.execute_input": "2024-02-16T16:50:13.299875Z",
     "iopub.status.busy": "2024-02-16T16:50:13.295085Z",
     "iopub.status.idle": "2024-02-16T16:50:13.508299Z",
     "shell.execute_reply": "2024-02-16T16:50:13.505939Z",
     "shell.execute_reply.started": "2024-02-16T16:50:13.299777Z"
    }
   },
   "outputs": [
    {
     "name": "stdout",
     "output_type": "stream",
     "text": [
      "Python 3.11.7\n"
     ]
    }
   ],
   "source": [
    "import sys\n",
    "\n",
    "!{sys.executable} --version"
   ]
  },
  {
   "cell_type": "markdown",
   "id": "20b5b805-4287-457b-80a8-27d0dae79cae",
   "metadata": {},
   "source": [
    "https://github.com/DeepReinforcementLearning/DeepReinforcementLearningInAction"
   ]
  },
  {
   "cell_type": "markdown",
   "id": "50eea3b7-9682-4553-ab2e-cc94ade687cc",
   "metadata": {},
   "source": [
    "## Sampling "
   ]
  },
  {
   "cell_type": "code",
   "execution_count": 3,
   "id": "a3b5e680-ca31-4a48-9b42-cbf5becbab8f",
   "metadata": {
    "execution": {
     "iopub.execute_input": "2024-02-17T05:46:41.204111Z",
     "iopub.status.busy": "2024-02-17T05:46:41.139143Z",
     "iopub.status.idle": "2024-02-17T05:46:41.323295Z",
     "shell.execute_reply": "2024-02-17T05:46:41.322471Z",
     "shell.execute_reply.started": "2024-02-17T05:46:41.196833Z"
    }
   },
   "outputs": [
    {
     "data": {
      "text/plain": [
       "deque([10, 11, 12, 13, 14, 15, 16, 17, 18, 19], maxlen=10)"
      ]
     },
     "execution_count": 3,
     "metadata": {},
     "output_type": "execute_result"
    }
   ],
   "source": [
    "from collections import deque\n",
    "replay = deque(maxlen=10)\n",
    "for i in range(20):\n",
    "    replay.append(i)\n",
    "replay"
   ]
  },
  {
   "cell_type": "code",
   "execution_count": 4,
   "id": "aaf39a42-ca02-4f12-b4dc-3aad0475cd97",
   "metadata": {
    "execution": {
     "iopub.execute_input": "2024-02-17T05:46:48.797776Z",
     "iopub.status.busy": "2024-02-17T05:46:48.797279Z",
     "iopub.status.idle": "2024-02-17T05:46:48.831322Z",
     "shell.execute_reply": "2024-02-17T05:46:48.829865Z",
     "shell.execute_reply.started": "2024-02-17T05:46:48.797736Z"
    }
   },
   "outputs": [
    {
     "data": {
      "text/plain": [
       "[11, 13, 18, 14, 16]"
      ]
     },
     "execution_count": 4,
     "metadata": {},
     "output_type": "execute_result"
    }
   ],
   "source": [
    "import random\n",
    "random.sample(replay, 5)"
   ]
  },
  {
   "cell_type": "markdown",
   "id": "55ac5928-18cc-43d8-807f-4cc160368666",
   "metadata": {},
   "source": [
    "## Index"
   ]
  },
  {
   "cell_type": "code",
   "execution_count": 5,
   "id": "c56ee88f-c520-429d-ac7f-d40cab40184e",
   "metadata": {
    "execution": {
     "iopub.execute_input": "2024-02-17T05:54:58.726642Z",
     "iopub.status.busy": "2024-02-17T05:54:58.725982Z",
     "iopub.status.idle": "2024-02-17T05:54:58.848026Z",
     "shell.execute_reply": "2024-02-17T05:54:58.846508Z",
     "shell.execute_reply.started": "2024-02-17T05:54:58.726585Z"
    }
   },
   "outputs": [
    {
     "data": {
      "text/plain": [
       "deque([(10, 11, 12),\n",
       "       (11, 12, 13),\n",
       "       (12, 13, 14),\n",
       "       (13, 14, 15),\n",
       "       (14, 15, 16),\n",
       "       (15, 16, 17),\n",
       "       (16, 17, 18),\n",
       "       (17, 18, 19),\n",
       "       (18, 19, 20),\n",
       "       (19, 20, 21)],\n",
       "      maxlen=10)"
      ]
     },
     "execution_count": 5,
     "metadata": {},
     "output_type": "execute_result"
    }
   ],
   "source": [
    "replay = deque(maxlen=10)\n",
    "for i in range(20):\n",
    "    replay.append((i, i+1, i+2))\n",
    "replay"
   ]
  },
  {
   "cell_type": "code",
   "execution_count": 6,
   "id": "ec6cc1df-9a96-4ae5-a3c7-f02a71b07142",
   "metadata": {
    "execution": {
     "iopub.execute_input": "2024-02-17T05:55:08.541875Z",
     "iopub.status.busy": "2024-02-17T05:55:08.540749Z",
     "iopub.status.idle": "2024-02-17T05:55:08.582050Z",
     "shell.execute_reply": "2024-02-17T05:55:08.580578Z",
     "shell.execute_reply.started": "2024-02-17T05:55:08.541824Z"
    }
   },
   "outputs": [
    {
     "data": {
      "text/plain": [
       "[(15, 16, 17), (16, 17, 18), (14, 15, 16), (13, 14, 15), (11, 12, 13)]"
      ]
     },
     "execution_count": 6,
     "metadata": {},
     "output_type": "execute_result"
    }
   ],
   "source": [
    "sample = random.sample(replay, 5)\n",
    "sample"
   ]
  },
  {
   "cell_type": "code",
   "execution_count": 10,
   "id": "8c7dd6eb-7889-4e77-83d0-8b5f893a3129",
   "metadata": {
    "execution": {
     "iopub.execute_input": "2024-02-17T05:55:42.819923Z",
     "iopub.status.busy": "2024-02-17T05:55:42.819313Z",
     "iopub.status.idle": "2024-02-17T05:55:42.830607Z",
     "shell.execute_reply": "2024-02-17T05:55:42.828964Z",
     "shell.execute_reply.started": "2024-02-17T05:55:42.819888Z"
    }
   },
   "outputs": [
    {
     "data": {
      "text/plain": [
       "array([[15],\n",
       "       [16],\n",
       "       [14],\n",
       "       [13],\n",
       "       [11]])"
      ]
     },
     "execution_count": 10,
     "metadata": {},
     "output_type": "execute_result"
    }
   ],
   "source": [
    "import numpy as np\n",
    "np.array(sample)[:, [0]]"
   ]
  },
  {
   "cell_type": "markdown",
   "id": "3b80a949-cbf1-4a22-b9d1-b836d70646e5",
   "metadata": {},
   "source": [
    "## Torch"
   ]
  },
  {
   "cell_type": "code",
   "execution_count": 28,
   "id": "ea67d4fa-243f-43a0-9f0d-213faee01e93",
   "metadata": {
    "execution": {
     "iopub.execute_input": "2024-02-17T06:44:33.909703Z",
     "iopub.status.busy": "2024-02-17T06:44:33.909231Z",
     "iopub.status.idle": "2024-02-17T06:44:33.927537Z",
     "shell.execute_reply": "2024-02-17T06:44:33.924986Z",
     "shell.execute_reply.started": "2024-02-17T06:44:33.909671Z"
    }
   },
   "outputs": [
    {
     "data": {
      "text/plain": [
       "tensor([[1., 2., 3.],\n",
       "        [4., 5., 6.]])"
      ]
     },
     "execution_count": 28,
     "metadata": {},
     "output_type": "execute_result"
    }
   ],
   "source": [
    "import torch\n",
    "a = torch.Tensor([[1,2,3]])\n",
    "b = torch.Tensor([[4,5,6]])\n",
    "torch.cat((a, b), 0)"
   ]
  },
  {
   "cell_type": "code",
   "execution_count": 29,
   "id": "d1e6c97b-fc82-4d0f-8a3f-a049a74741eb",
   "metadata": {
    "execution": {
     "iopub.execute_input": "2024-02-17T06:44:34.703749Z",
     "iopub.status.busy": "2024-02-17T06:44:34.703240Z",
     "iopub.status.idle": "2024-02-17T06:44:34.719964Z",
     "shell.execute_reply": "2024-02-17T06:44:34.718963Z",
     "shell.execute_reply.started": "2024-02-17T06:44:34.703722Z"
    }
   },
   "outputs": [
    {
     "data": {
      "text/plain": [
       "tensor([[1., 2., 3., 4., 5., 6.]])"
      ]
     },
     "execution_count": 29,
     "metadata": {},
     "output_type": "execute_result"
    }
   ],
   "source": [
    "torch.cat((a, b), 1)"
   ]
  },
  {
   "cell_type": "code",
   "execution_count": null,
   "id": "66bb8eae-94ea-4539-bdad-2c137e03653f",
   "metadata": {},
   "outputs": [],
   "source": []
  }
 ],
 "metadata": {
  "kernelspec": {
   "display_name": "Python 3 (ipykernel)",
   "language": "python",
   "name": "python3"
  },
  "language_info": {
   "codemirror_mode": {
    "name": "ipython",
    "version": 3
   },
   "file_extension": ".py",
   "mimetype": "text/x-python",
   "name": "python",
   "nbconvert_exporter": "python",
   "pygments_lexer": "ipython3",
   "version": "3.11.7"
  }
 },
 "nbformat": 4,
 "nbformat_minor": 5
}
