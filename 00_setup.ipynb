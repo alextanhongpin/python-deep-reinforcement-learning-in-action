{
 "cells": [
  {
   "cell_type": "code",
   "execution_count": 14,
   "id": "52b01dea-73b5-4b22-bbdd-bd4eeb21fc59",
   "metadata": {
    "execution": {
     "iopub.execute_input": "2024-02-18T14:57:07.890612Z",
     "iopub.status.busy": "2024-02-18T14:57:07.890245Z",
     "iopub.status.idle": "2024-02-18T14:57:08.139075Z",
     "shell.execute_reply": "2024-02-18T14:57:08.130552Z",
     "shell.execute_reply.started": "2024-02-18T14:57:07.890587Z"
    }
   },
   "outputs": [
    {
     "name": "stdout",
     "output_type": "stream",
     "text": [
      "Python 3.11.7\n"
     ]
    }
   ],
   "source": [
    "import sys\n",
    "\n",
    "!{sys.executable} --version"
   ]
  },
  {
   "cell_type": "markdown",
   "id": "20b5b805-4287-457b-80a8-27d0dae79cae",
   "metadata": {},
   "source": [
    "https://github.com/DeepReinforcementLearning/DeepReinforcementLearningInAction"
   ]
  },
  {
   "cell_type": "markdown",
   "id": "50eea3b7-9682-4553-ab2e-cc94ade687cc",
   "metadata": {},
   "source": [
    "## Sampling "
   ]
  },
  {
   "cell_type": "code",
   "execution_count": 15,
   "id": "a3b5e680-ca31-4a48-9b42-cbf5becbab8f",
   "metadata": {
    "execution": {
     "iopub.execute_input": "2024-02-18T14:57:08.552728Z",
     "iopub.status.busy": "2024-02-18T14:57:08.550966Z",
     "iopub.status.idle": "2024-02-18T14:57:08.563190Z",
     "shell.execute_reply": "2024-02-18T14:57:08.562021Z",
     "shell.execute_reply.started": "2024-02-18T14:57:08.552612Z"
    }
   },
   "outputs": [
    {
     "data": {
      "text/plain": [
       "deque([10, 11, 12, 13, 14, 15, 16, 17, 18, 19], maxlen=10)"
      ]
     },
     "execution_count": 15,
     "metadata": {},
     "output_type": "execute_result"
    }
   ],
   "source": [
    "from collections import deque\n",
    "\n",
    "replay = deque(maxlen=10)\n",
    "for i in range(20):\n",
    "    replay.append(i)\n",
    "replay"
   ]
  },
  {
   "cell_type": "code",
   "execution_count": 16,
   "id": "aaf39a42-ca02-4f12-b4dc-3aad0475cd97",
   "metadata": {
    "execution": {
     "iopub.execute_input": "2024-02-18T14:57:08.760782Z",
     "iopub.status.busy": "2024-02-18T14:57:08.760154Z",
     "iopub.status.idle": "2024-02-18T14:57:08.769632Z",
     "shell.execute_reply": "2024-02-18T14:57:08.767105Z",
     "shell.execute_reply.started": "2024-02-18T14:57:08.760755Z"
    }
   },
   "outputs": [
    {
     "data": {
      "text/plain": [
       "[16, 13, 15, 10, 19]"
      ]
     },
     "execution_count": 16,
     "metadata": {},
     "output_type": "execute_result"
    }
   ],
   "source": [
    "import random\n",
    "\n",
    "random.sample(replay, 5)"
   ]
  },
  {
   "cell_type": "markdown",
   "id": "55ac5928-18cc-43d8-807f-4cc160368666",
   "metadata": {},
   "source": [
    "## Index"
   ]
  },
  {
   "cell_type": "code",
   "execution_count": 17,
   "id": "c56ee88f-c520-429d-ac7f-d40cab40184e",
   "metadata": {
    "execution": {
     "iopub.execute_input": "2024-02-18T14:57:09.181015Z",
     "iopub.status.busy": "2024-02-18T14:57:09.180677Z",
     "iopub.status.idle": "2024-02-18T14:57:09.190096Z",
     "shell.execute_reply": "2024-02-18T14:57:09.189270Z",
     "shell.execute_reply.started": "2024-02-18T14:57:09.180990Z"
    }
   },
   "outputs": [
    {
     "data": {
      "text/plain": [
       "deque([(10, 11, 12),\n",
       "       (11, 12, 13),\n",
       "       (12, 13, 14),\n",
       "       (13, 14, 15),\n",
       "       (14, 15, 16),\n",
       "       (15, 16, 17),\n",
       "       (16, 17, 18),\n",
       "       (17, 18, 19),\n",
       "       (18, 19, 20),\n",
       "       (19, 20, 21)],\n",
       "      maxlen=10)"
      ]
     },
     "execution_count": 17,
     "metadata": {},
     "output_type": "execute_result"
    }
   ],
   "source": [
    "replay = deque(maxlen=10)\n",
    "for i in range(20):\n",
    "    replay.append((i, i + 1, i + 2))\n",
    "replay"
   ]
  },
  {
   "cell_type": "code",
   "execution_count": 18,
   "id": "ec6cc1df-9a96-4ae5-a3c7-f02a71b07142",
   "metadata": {
    "execution": {
     "iopub.execute_input": "2024-02-18T14:57:09.404898Z",
     "iopub.status.busy": "2024-02-18T14:57:09.404497Z",
     "iopub.status.idle": "2024-02-18T14:57:09.414298Z",
     "shell.execute_reply": "2024-02-18T14:57:09.413482Z",
     "shell.execute_reply.started": "2024-02-18T14:57:09.404869Z"
    }
   },
   "outputs": [
    {
     "data": {
      "text/plain": [
       "[(17, 18, 19), (13, 14, 15), (14, 15, 16), (11, 12, 13), (18, 19, 20)]"
      ]
     },
     "execution_count": 18,
     "metadata": {},
     "output_type": "execute_result"
    }
   ],
   "source": [
    "sample = random.sample(replay, 5)\n",
    "sample"
   ]
  },
  {
   "cell_type": "code",
   "execution_count": 19,
   "id": "8c7dd6eb-7889-4e77-83d0-8b5f893a3129",
   "metadata": {
    "execution": {
     "iopub.execute_input": "2024-02-18T14:57:09.588343Z",
     "iopub.status.busy": "2024-02-18T14:57:09.587765Z",
     "iopub.status.idle": "2024-02-18T14:57:09.601237Z",
     "shell.execute_reply": "2024-02-18T14:57:09.600475Z",
     "shell.execute_reply.started": "2024-02-18T14:57:09.588316Z"
    }
   },
   "outputs": [
    {
     "data": {
      "text/plain": [
       "array([[17],\n",
       "       [13],\n",
       "       [14],\n",
       "       [11],\n",
       "       [18]])"
      ]
     },
     "execution_count": 19,
     "metadata": {},
     "output_type": "execute_result"
    }
   ],
   "source": [
    "import numpy as np\n",
    "\n",
    "np.array(sample)[:, [0]]"
   ]
  },
  {
   "cell_type": "markdown",
   "id": "3b80a949-cbf1-4a22-b9d1-b836d70646e5",
   "metadata": {},
   "source": [
    "## Torch"
   ]
  },
  {
   "cell_type": "code",
   "execution_count": 20,
   "id": "ea67d4fa-243f-43a0-9f0d-213faee01e93",
   "metadata": {
    "execution": {
     "iopub.execute_input": "2024-02-18T14:57:09.966464Z",
     "iopub.status.busy": "2024-02-18T14:57:09.965830Z",
     "iopub.status.idle": "2024-02-18T14:57:12.486326Z",
     "shell.execute_reply": "2024-02-18T14:57:12.485359Z",
     "shell.execute_reply.started": "2024-02-18T14:57:09.966440Z"
    }
   },
   "outputs": [
    {
     "data": {
      "text/plain": [
       "tensor([[1., 2., 3.],\n",
       "        [4., 5., 6.]])"
      ]
     },
     "execution_count": 20,
     "metadata": {},
     "output_type": "execute_result"
    }
   ],
   "source": [
    "import torch\n",
    "\n",
    "a = torch.Tensor([[1, 2, 3]])\n",
    "b = torch.Tensor([[4, 5, 6]])\n",
    "torch.cat((a, b), 0)"
   ]
  },
  {
   "cell_type": "code",
   "execution_count": 21,
   "id": "d1e6c97b-fc82-4d0f-8a3f-a049a74741eb",
   "metadata": {
    "execution": {
     "iopub.execute_input": "2024-02-18T14:57:12.489448Z",
     "iopub.status.busy": "2024-02-18T14:57:12.489053Z",
     "iopub.status.idle": "2024-02-18T14:57:12.537197Z",
     "shell.execute_reply": "2024-02-18T14:57:12.503043Z",
     "shell.execute_reply.started": "2024-02-18T14:57:12.489425Z"
    }
   },
   "outputs": [
    {
     "data": {
      "text/plain": [
       "tensor([[1., 2., 3., 4., 5., 6.]])"
      ]
     },
     "execution_count": 21,
     "metadata": {},
     "output_type": "execute_result"
    }
   ],
   "source": [
    "torch.cat((a, b), 1)"
   ]
  },
  {
   "cell_type": "code",
   "execution_count": 22,
   "id": "66bb8eae-94ea-4539-bdad-2c137e03653f",
   "metadata": {
    "execution": {
     "iopub.execute_input": "2024-02-18T14:57:12.553564Z",
     "iopub.status.busy": "2024-02-18T14:57:12.548826Z",
     "iopub.status.idle": "2024-02-18T14:57:12.600793Z",
     "shell.execute_reply": "2024-02-18T14:57:12.599832Z",
     "shell.execute_reply.started": "2024-02-18T14:57:12.553514Z"
    }
   },
   "outputs": [
    {
     "data": {
      "text/plain": [
       "tensor([9, 8, 7, 6, 5, 4, 3, 2, 1, 0])"
      ]
     },
     "execution_count": 22,
     "metadata": {},
     "output_type": "execute_result"
    }
   ],
   "source": [
    "torch.flip(torch.arange(10), dims=(0,))"
   ]
  },
  {
   "cell_type": "code",
   "execution_count": 23,
   "id": "74205476-a068-4118-9615-ea360a8626bc",
   "metadata": {
    "execution": {
     "iopub.execute_input": "2024-02-18T14:57:12.627508Z",
     "iopub.status.busy": "2024-02-18T14:57:12.624363Z",
     "iopub.status.idle": "2024-02-18T14:57:12.672849Z",
     "shell.execute_reply": "2024-02-18T14:57:12.670688Z",
     "shell.execute_reply.started": "2024-02-18T14:57:12.627468Z"
    }
   },
   "outputs": [
    {
     "data": {
      "text/plain": [
       "tensor([[0.9277, 0.8176, 0.8868, 0.9252],\n",
       "        [0.7309, 0.6490, 0.8936, 0.6641],\n",
       "        [0.4022, 0.4231, 0.4521, 0.3200]])"
      ]
     },
     "execution_count": 23,
     "metadata": {},
     "output_type": "execute_result"
    }
   ],
   "source": [
    "sample = torch.rand(3, 4)\n",
    "sample"
   ]
  },
  {
   "cell_type": "code",
   "execution_count": 24,
   "id": "3efa6708-d5ae-4754-a3ee-c07476548fb5",
   "metadata": {
    "execution": {
     "iopub.execute_input": "2024-02-18T14:57:12.679055Z",
     "iopub.status.busy": "2024-02-18T14:57:12.678382Z",
     "iopub.status.idle": "2024-02-18T14:57:12.712891Z",
     "shell.execute_reply": "2024-02-18T14:57:12.709945Z",
     "shell.execute_reply.started": "2024-02-18T14:57:12.679033Z"
    }
   },
   "outputs": [
    {
     "data": {
      "text/plain": [
       "tensor([[0.4022, 0.4231, 0.4521, 0.3200],\n",
       "        [0.7309, 0.6490, 0.8936, 0.6641],\n",
       "        [0.9277, 0.8176, 0.8868, 0.9252]])"
      ]
     },
     "execution_count": 24,
     "metadata": {},
     "output_type": "execute_result"
    }
   ],
   "source": [
    "torch.flip(sample, dims=(0,))"
   ]
  },
  {
   "cell_type": "code",
   "execution_count": 25,
   "id": "d7b5659c-1198-4a7c-9561-d2e21d45ed3e",
   "metadata": {
    "execution": {
     "iopub.execute_input": "2024-02-18T14:57:12.727126Z",
     "iopub.status.busy": "2024-02-18T14:57:12.726432Z",
     "iopub.status.idle": "2024-02-18T14:57:12.772990Z",
     "shell.execute_reply": "2024-02-18T14:57:12.759248Z",
     "shell.execute_reply.started": "2024-02-18T14:57:12.727034Z"
    }
   },
   "outputs": [
    {
     "data": {
      "text/plain": [
       "tensor([[0.3200, 0.4521, 0.4231, 0.4022],\n",
       "        [0.6641, 0.8936, 0.6490, 0.7309],\n",
       "        [0.9252, 0.8868, 0.8176, 0.9277]])"
      ]
     },
     "execution_count": 25,
     "metadata": {},
     "output_type": "execute_result"
    }
   ],
   "source": [
    "torch.flip(sample, dims=(0, 1))"
   ]
  },
  {
   "cell_type": "code",
   "execution_count": 26,
   "id": "4e456064-e671-4ee8-943c-855c5a2e1e24",
   "metadata": {
    "execution": {
     "iopub.execute_input": "2024-02-18T14:57:12.775655Z",
     "iopub.status.busy": "2024-02-18T14:57:12.774996Z",
     "iopub.status.idle": "2024-02-18T14:57:12.791145Z",
     "shell.execute_reply": "2024-02-18T14:57:12.789809Z",
     "shell.execute_reply.started": "2024-02-18T14:57:12.775631Z"
    }
   },
   "outputs": [
    {
     "data": {
      "text/plain": [
       "tensor([[0.9252, 0.8868, 0.8176, 0.9277],\n",
       "        [0.6641, 0.8936, 0.6490, 0.7309],\n",
       "        [0.3200, 0.4521, 0.4231, 0.4022]])"
      ]
     },
     "execution_count": 26,
     "metadata": {},
     "output_type": "execute_result"
    }
   ],
   "source": [
    "torch.flip(sample, dims=(1,))"
   ]
  },
  {
   "cell_type": "markdown",
   "id": "edd56f28-cfb0-4ab4-a1c1-1ed3944bf047",
   "metadata": {
    "execution": {
     "iopub.execute_input": "2024-02-18T14:57:12.800506Z",
     "iopub.status.busy": "2024-02-18T14:57:12.793407Z",
     "iopub.status.idle": "2024-02-18T14:57:12.812923Z",
     "shell.execute_reply": "2024-02-18T14:57:12.811434Z",
     "shell.execute_reply.started": "2024-02-18T14:57:12.800455Z"
    }
   },
   "source": [
    "## Setting up gym"
   ]
  },
  {
   "cell_type": "code",
   "execution_count": 31,
   "id": "839d07b3-4d70-4645-b51d-1675c74e8e4f",
   "metadata": {
    "execution": {
     "iopub.execute_input": "2024-02-18T14:59:02.063720Z",
     "iopub.status.busy": "2024-02-18T14:59:02.063251Z",
     "iopub.status.idle": "2024-02-18T14:59:20.257473Z",
     "shell.execute_reply": "2024-02-18T14:59:20.256329Z",
     "shell.execute_reply.started": "2024-02-18T14:59:02.063678Z"
    }
   },
   "outputs": [
    {
     "name": "stdout",
     "output_type": "stream",
     "text": [
      "done\n"
     ]
    },
    {
     "data": {
      "image/png": "[encoded data removed]",
      "text/plain": [
       "<Figure size 640x480 with 1 Axes>"
      ]
     },
     "metadata": {},
     "output_type": "display_data"
    }
   ],
   "source": [
    "# pip install gymnasium[classic-control]\n",
    "import gymnasium as gym\n",
    "import matplotlib.pyplot as plt\n",
    "from IPython import display\n",
    "\n",
    "%matplotlib inline\n",
    "\n",
    "env = gym.make(\"CartPole-v1\", render_mode=\"rgb_array\")\n",
    "env.reset()\n",
    "\n",
    "for i in range(25):\n",
    "    plt.imshow(env.render())\n",
    "    display.display(plt.gcf())\n",
    "    display.clear_output(wait=True)\n",
    "    env.step(env.action_space.sample())  # take a random action\n",
    "\n",
    "env.close()\n",
    "print('done')"
   ]
  },
  {
   "cell_type": "code",
   "execution_count": null,
   "id": "227f1524-567b-4371-883d-2923466e9d91",
   "metadata": {},
   "outputs": [],
   "source": []
  }
 ],
 "metadata": {
  "kernelspec": {
   "display_name": "Python 3 (ipykernel)",
   "language": "python",
   "name": "python3"
  },
  "language_info": {
   "codemirror_mode": {
    "name": "ipython",
    "version": 3
   },
   "file_extension": ".py",
   "mimetype": "text/x-python",
   "name": "python",
   "nbconvert_exporter": "python",
   "pygments_lexer": "ipython3",
   "version": "3.11.7"
  }
 },
 "nbformat": 4,
 "nbformat_minor": 5
}
