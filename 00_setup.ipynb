{
 "cells": [
  {
   "cell_type": "code",
   "execution_count": 1,
   "id": "52b01dea-73b5-4b22-bbdd-bd4eeb21fc59",
   "metadata": {},
   "outputs": [
    {
     "name": "stdout",
     "output_type": "stream",
     "text": [
      "Python 3.12.8\n"
     ]
    }
   ],
   "source": [
    "import sys\n",
    "\n",
    "!{sys.executable} --version"
   ]
  },
  {
   "cell_type": "markdown",
   "id": "20b5b805-4287-457b-80a8-27d0dae79cae",
   "metadata": {},
   "source": [
    "https://github.com/DeepReinforcementLearning/DeepReinforcementLearningInAction"
   ]
  },
  {
   "cell_type": "markdown",
   "id": "50eea3b7-9682-4553-ab2e-cc94ade687cc",
   "metadata": {},
   "source": [
    "## Sampling "
   ]
  },
  {
   "cell_type": "code",
   "execution_count": 2,
   "id": "a3b5e680-ca31-4a48-9b42-cbf5becbab8f",
   "metadata": {},
   "outputs": [
    {
     "data": {
      "text/plain": [
       "deque([10, 11, 12, 13, 14, 15, 16, 17, 18, 19], maxlen=10)"
      ]
     },
     "execution_count": 2,
     "metadata": {},
     "output_type": "execute_result"
    }
   ],
   "source": [
    "from collections import deque\n",
    "\n",
    "replay = deque(maxlen=10)\n",
    "for i in range(20):\n",
    "    replay.append(i)\n",
    "\n",
    "replay"
   ]
  },
  {
   "cell_type": "code",
   "execution_count": 3,
   "id": "aaf39a42-ca02-4f12-b4dc-3aad0475cd97",
   "metadata": {},
   "outputs": [
    {
     "data": {
      "text/plain": [
       "[13, 12, 16, 11, 14]"
      ]
     },
     "execution_count": 3,
     "metadata": {},
     "output_type": "execute_result"
    }
   ],
   "source": [
    "import random\n",
    "\n",
    "random.sample(replay, 5)"
   ]
  },
  {
   "cell_type": "markdown",
   "id": "55ac5928-18cc-43d8-807f-4cc160368666",
   "metadata": {},
   "source": [
    "## Index"
   ]
  },
  {
   "cell_type": "code",
   "execution_count": 4,
   "id": "c56ee88f-c520-429d-ac7f-d40cab40184e",
   "metadata": {},
   "outputs": [
    {
     "data": {
      "text/plain": [
       "deque([(10, 11, 12),\n",
       "       (11, 12, 13),\n",
       "       (12, 13, 14),\n",
       "       (13, 14, 15),\n",
       "       (14, 15, 16),\n",
       "       (15, 16, 17),\n",
       "       (16, 17, 18),\n",
       "       (17, 18, 19),\n",
       "       (18, 19, 20),\n",
       "       (19, 20, 21)],\n",
       "      maxlen=10)"
      ]
     },
     "execution_count": 4,
     "metadata": {},
     "output_type": "execute_result"
    }
   ],
   "source": [
    "replay = deque(maxlen=10)\n",
    "for i in range(20):\n",
    "    replay.append((i, i + 1, i + 2))\n",
    "replay"
   ]
  },
  {
   "cell_type": "code",
   "execution_count": 5,
   "id": "ec6cc1df-9a96-4ae5-a3c7-f02a71b07142",
   "metadata": {},
   "outputs": [
    {
     "data": {
      "text/plain": [
       "[(11, 12, 13), (14, 15, 16), (16, 17, 18), (13, 14, 15), (19, 20, 21)]"
      ]
     },
     "execution_count": 5,
     "metadata": {},
     "output_type": "execute_result"
    }
   ],
   "source": [
    "sample = random.sample(replay, 5)\n",
    "sample"
   ]
  },
  {
   "cell_type": "code",
   "execution_count": 6,
   "id": "8c7dd6eb-7889-4e77-83d0-8b5f893a3129",
   "metadata": {},
   "outputs": [
    {
     "data": {
      "text/plain": [
       "array([[11],\n",
       "       [14],\n",
       "       [16],\n",
       "       [13],\n",
       "       [19]])"
      ]
     },
     "execution_count": 6,
     "metadata": {},
     "output_type": "execute_result"
    }
   ],
   "source": [
    "import numpy as np\n",
    "\n",
    "np.array(sample)[:, [0]]"
   ]
  },
  {
   "cell_type": "markdown",
   "id": "3b80a949-cbf1-4a22-b9d1-b836d70646e5",
   "metadata": {},
   "source": [
    "## Torch"
   ]
  },
  {
   "cell_type": "code",
   "execution_count": 7,
   "id": "ea67d4fa-243f-43a0-9f0d-213faee01e93",
   "metadata": {},
   "outputs": [
    {
     "data": {
      "text/plain": [
       "tensor([[1., 2., 3.],\n",
       "        [4., 5., 6.]])"
      ]
     },
     "execution_count": 7,
     "metadata": {},
     "output_type": "execute_result"
    }
   ],
   "source": [
    "import torch\n",
    "\n",
    "a = torch.Tensor([[1, 2, 3]])\n",
    "b = torch.Tensor([[4, 5, 6]])\n",
    "torch.cat((a, b), 0)"
   ]
  },
  {
   "cell_type": "code",
   "execution_count": 8,
   "id": "d1e6c97b-fc82-4d0f-8a3f-a049a74741eb",
   "metadata": {},
   "outputs": [
    {
     "data": {
      "text/plain": [
       "tensor([[1., 2., 3., 4., 5., 6.]])"
      ]
     },
     "execution_count": 8,
     "metadata": {},
     "output_type": "execute_result"
    }
   ],
   "source": [
    "torch.cat((a, b), 1)"
   ]
  },
  {
   "cell_type": "code",
   "execution_count": 9,
   "id": "66bb8eae-94ea-4539-bdad-2c137e03653f",
   "metadata": {},
   "outputs": [
    {
     "data": {
      "text/plain": [
       "tensor([9, 8, 7, 6, 5, 4, 3, 2, 1, 0])"
      ]
     },
     "execution_count": 9,
     "metadata": {},
     "output_type": "execute_result"
    }
   ],
   "source": [
    "torch.flip(torch.arange(10), dims=(0,))"
   ]
  },
  {
   "cell_type": "code",
   "execution_count": 10,
   "id": "74205476-a068-4118-9615-ea360a8626bc",
   "metadata": {},
   "outputs": [
    {
     "data": {
      "text/plain": [
       "tensor([[0.6962, 0.6530, 0.1535, 0.4092],\n",
       "        [0.0253, 0.5769, 0.4183, 0.9447],\n",
       "        [0.1687, 0.6930, 0.1764, 0.7830]])"
      ]
     },
     "execution_count": 10,
     "metadata": {},
     "output_type": "execute_result"
    }
   ],
   "source": [
    "sample = torch.rand(3, 4)\n",
    "sample"
   ]
  },
  {
   "cell_type": "code",
   "execution_count": 11,
   "id": "3efa6708-d5ae-4754-a3ee-c07476548fb5",
   "metadata": {},
   "outputs": [
    {
     "data": {
      "text/plain": [
       "tensor([[0.1687, 0.6930, 0.1764, 0.7830],\n",
       "        [0.0253, 0.5769, 0.4183, 0.9447],\n",
       "        [0.6962, 0.6530, 0.1535, 0.4092]])"
      ]
     },
     "execution_count": 11,
     "metadata": {},
     "output_type": "execute_result"
    }
   ],
   "source": [
    "torch.flip(sample, dims=(0,))"
   ]
  },
  {
   "cell_type": "code",
   "execution_count": 12,
   "id": "d7b5659c-1198-4a7c-9561-d2e21d45ed3e",
   "metadata": {},
   "outputs": [
    {
     "data": {
      "text/plain": [
       "tensor([[0.7830, 0.1764, 0.6930, 0.1687],\n",
       "        [0.9447, 0.4183, 0.5769, 0.0253],\n",
       "        [0.4092, 0.1535, 0.6530, 0.6962]])"
      ]
     },
     "execution_count": 12,
     "metadata": {},
     "output_type": "execute_result"
    }
   ],
   "source": [
    "torch.flip(sample, dims=(0, 1))"
   ]
  },
  {
   "cell_type": "code",
   "execution_count": 13,
   "id": "4e456064-e671-4ee8-943c-855c5a2e1e24",
   "metadata": {},
   "outputs": [
    {
     "data": {
      "text/plain": [
       "tensor([[0.4092, 0.1535, 0.6530, 0.6962],\n",
       "        [0.9447, 0.4183, 0.5769, 0.0253],\n",
       "        [0.7830, 0.1764, 0.6930, 0.1687]])"
      ]
     },
     "execution_count": 13,
     "metadata": {},
     "output_type": "execute_result"
    }
   ],
   "source": [
    "torch.flip(sample, dims=(1,))"
   ]
  },
  {
   "cell_type": "markdown",
   "id": "edd56f28-cfb0-4ab4-a1c1-1ed3944bf047",
   "metadata": {
    "execution": {
     "iopub.execute_input": "2024-02-18T14:57:12.800506Z",
     "iopub.status.busy": "2024-02-18T14:57:12.793407Z",
     "iopub.status.idle": "2024-02-18T14:57:12.812923Z",
     "shell.execute_reply": "2024-02-18T14:57:12.811434Z",
     "shell.execute_reply.started": "2024-02-18T14:57:12.800455Z"
    }
   },
   "source": [
    "## Setting up gym"
   ]
  },
  {
   "cell_type": "code",
   "execution_count": 14,
   "id": "839d07b3-4d70-4645-b51d-1675c74e8e4f",
   "metadata": {},
   "outputs": [
    {
     "name": "stdout",
     "output_type": "stream",
     "text": [
      "done\n"
     ]
    },
    {
     "data": {
      "image/png": "[encoded data removed]",
      "text/plain": [
       "<Figure size 640x480 with 1 Axes>"
      ]
     },
     "metadata": {},
     "output_type": "display_data"
    }
   ],
   "source": [
    "# pip install gymnasium[classic-control]\n",
    "import gymnasium as gym\n",
    "import matplotlib.pyplot as plt\n",
    "from IPython import display\n",
    "\n",
    "%matplotlib inline\n",
    "\n",
    "env = gym.make(\"CartPole-v1\", render_mode=\"rgb_array\")\n",
    "env.reset()\n",
    "img = plt.imshow(env.render())  # Just call this once.\n",
    "for i in range(100):\n",
    "    img.set_data(env.render())\n",
    "    # plt.imshow(env.render())\n",
    "    display.display(plt.gcf())\n",
    "    display.clear_output(wait=True)\n",
    "    env.step(env.action_space.sample())  # take a random action\n",
    "\n",
    "env.close()\n",
    "print(\"done\")"
   ]
  },
  {
   "cell_type": "code",
   "execution_count": 15,
   "id": "227f1524-567b-4371-883d-2923466e9d91",
   "metadata": {},
   "outputs": [
    {
     "data": {
      "text/plain": [
       "'up'"
      ]
     },
     "execution_count": 15,
     "metadata": {},
     "output_type": "execute_result"
    }
   ],
   "source": [
    "from collections import namedtuple\n",
    "\n",
    "Transition = namedtuple(\"Transition\", [\"state\", \"action\", \"reward\"])\n",
    "\n",
    "t = Transition(\"up\", 1, 10)\n",
    "t.state"
   ]
  },
  {
   "cell_type": "code",
   "execution_count": 16,
   "id": "2e9a7c8e-8aa3-4a7e-914a-9e6bc1551b67",
   "metadata": {},
   "outputs": [
    {
     "data": {
      "text/plain": [
       "[Transition(state='up', action=0, reward=10),\n",
       " Transition(state='up', action=1, reward=10),\n",
       " Transition(state='up', action=2, reward=10),\n",
       " Transition(state='up', action=3, reward=10),\n",
       " Transition(state='up', action=4, reward=10),\n",
       " Transition(state='up', action=5, reward=10),\n",
       " Transition(state='up', action=6, reward=10),\n",
       " Transition(state='up', action=7, reward=10),\n",
       " Transition(state='up', action=8, reward=10),\n",
       " Transition(state='up', action=9, reward=10)]"
      ]
     },
     "execution_count": 16,
     "metadata": {},
     "output_type": "execute_result"
    }
   ],
   "source": [
    "transitions = [Transition(\"up\", i, 10) for i in range(10)]\n",
    "transitions"
   ]
  },
  {
   "cell_type": "code",
   "execution_count": 17,
   "id": "d5351d86-7e6e-4f29-940d-25450a245c84",
   "metadata": {},
   "outputs": [
    {
     "data": {
      "text/plain": [
       "Transition(state=('up', 'up', 'up', 'up', 'up', 'up', 'up', 'up', 'up', 'up'), action=(0, 1, 2, 3, 4, 5, 6, 7, 8, 9), reward=(10, 10, 10, 10, 10, 10, 10, 10, 10, 10))"
      ]
     },
     "execution_count": 17,
     "metadata": {},
     "output_type": "execute_result"
    }
   ],
   "source": [
    "batch = Transition(*zip(*transitions))\n",
    "batch"
   ]
  },
  {
   "cell_type": "code",
   "execution_count": 18,
   "id": "698d77d8-98ed-485f-8c27-03c951a374f7",
   "metadata": {},
   "outputs": [
    {
     "data": {
      "text/plain": [
       "('up', 'up', 'up', 'up', 'up', 'up', 'up', 'up', 'up', 'up')"
      ]
     },
     "execution_count": 18,
     "metadata": {},
     "output_type": "execute_result"
    }
   ],
   "source": [
    "batch.state"
   ]
  },
  {
   "cell_type": "code",
   "execution_count": 19,
   "id": "1fc71a26-6990-460c-a5a0-679077c5f8b7",
   "metadata": {},
   "outputs": [
    {
     "data": {
      "text/plain": [
       "(0, 1, 2, 3, 4, 5, 6, 7, 8, 9)"
      ]
     },
     "execution_count": 19,
     "metadata": {},
     "output_type": "execute_result"
    }
   ],
   "source": [
    "batch.action"
   ]
  }
 ],
 "metadata": {
  "kernelspec": {
   "display_name": "Python 3 (ipykernel)",
   "language": "python",
   "name": "python3"
  },
  "language_info": {
   "codemirror_mode": {
    "name": "ipython",
    "version": 3
   },
   "file_extension": ".py",
   "mimetype": "text/x-python",
   "name": "python",
   "nbconvert_exporter": "python",
   "pygments_lexer": "ipython3",
   "version": "3.12.8"
  }
 },
 "nbformat": 4,
 "nbformat_minor": 5
}
