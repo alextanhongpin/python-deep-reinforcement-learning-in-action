{
 "cells": [
  {
   "cell_type": "code",
   "execution_count": 8,
   "id": "26c525ac-013a-48a4-b82a-77f445bfeb8b",
   "metadata": {
    "execution": {
     "iopub.execute_input": "2024-02-17T07:21:01.227773Z",
     "iopub.status.busy": "2024-02-17T07:21:01.227393Z",
     "iopub.status.idle": "2024-02-17T07:21:01.247704Z",
     "shell.execute_reply": "2024-02-17T07:21:01.245194Z",
     "shell.execute_reply.started": "2024-02-17T07:21:01.227745Z"
    }
   },
   "outputs": [
    {
     "data": {
      "text/plain": [
       "['CartPole-v0',\n",
       " 'CartPole-v1',\n",
       " 'MountainCar-v0',\n",
       " 'MountainCarContinuous-v0',\n",
       " 'Pendulum-v1',\n",
       " 'Acrobot-v1',\n",
       " 'LunarLander-v2',\n",
       " 'LunarLanderContinuous-v2',\n",
       " 'BipedalWalker-v3',\n",
       " 'BipedalWalkerHardcore-v3',\n",
       " 'CarRacing-v2',\n",
       " 'Blackjack-v1',\n",
       " 'FrozenLake-v1',\n",
       " 'FrozenLake8x8-v1',\n",
       " 'CliffWalking-v0',\n",
       " 'Taxi-v3',\n",
       " 'Reacher-v2',\n",
       " 'Reacher-v4',\n",
       " 'Pusher-v2',\n",
       " 'Pusher-v4',\n",
       " 'InvertedPendulum-v2',\n",
       " 'InvertedPendulum-v4',\n",
       " 'InvertedDoublePendulum-v2',\n",
       " 'InvertedDoublePendulum-v4',\n",
       " 'HalfCheetah-v2',\n",
       " 'HalfCheetah-v3',\n",
       " 'HalfCheetah-v4',\n",
       " 'Hopper-v2',\n",
       " 'Hopper-v3',\n",
       " 'Hopper-v4',\n",
       " 'Swimmer-v2',\n",
       " 'Swimmer-v3',\n",
       " 'Swimmer-v4',\n",
       " 'Walker2d-v2',\n",
       " 'Walker2d-v3',\n",
       " 'Walker2d-v4',\n",
       " 'Ant-v2',\n",
       " 'Ant-v3',\n",
       " 'Ant-v4',\n",
       " 'Humanoid-v2',\n",
       " 'Humanoid-v3',\n",
       " 'Humanoid-v4',\n",
       " 'HumanoidStandup-v2',\n",
       " 'HumanoidStandup-v4']"
      ]
     },
     "execution_count": 8,
     "metadata": {},
     "output_type": "execute_result"
    }
   ],
   "source": [
    "from gym import envs\n",
    "\n",
    "list(envs.registry.keys())"
   ]
  },
  {
   "cell_type": "code",
   "execution_count": 9,
   "id": "e97a4e3e-28ad-4693-ba44-2cba844862a1",
   "metadata": {
    "execution": {
     "iopub.execute_input": "2024-02-17T07:21:03.875110Z",
     "iopub.status.busy": "2024-02-17T07:21:03.871473Z",
     "iopub.status.idle": "2024-02-17T07:21:03.880629Z",
     "shell.execute_reply": "2024-02-17T07:21:03.879590Z",
     "shell.execute_reply.started": "2024-02-17T07:21:03.875062Z"
    }
   },
   "outputs": [],
   "source": [
    "import gym\n",
    "\n",
    "env = gym.make(\"CartPole-v0\")"
   ]
  },
  {
   "cell_type": "code",
   "execution_count": 40,
   "id": "00191c40-2d45-4ce7-b510-b31382d59ffd",
   "metadata": {
    "execution": {
     "iopub.execute_input": "2024-02-17T07:39:35.533205Z",
     "iopub.status.busy": "2024-02-17T07:39:35.524206Z",
     "iopub.status.idle": "2024-02-17T07:39:35.562552Z",
     "shell.execute_reply": "2024-02-17T07:39:35.561465Z",
     "shell.execute_reply.started": "2024-02-17T07:39:35.533157Z"
    }
   },
   "outputs": [
    {
     "name": "stdout",
     "output_type": "stream",
     "text": [
      "[-0.04766608  0.03018205 -0.02448528  0.03200289] {}\n"
     ]
    }
   ],
   "source": [
    "state1, info = env.reset()\n",
    "print(state1, info)"
   ]
  },
  {
   "cell_type": "code",
   "execution_count": 11,
   "id": "8cfeb1ea-57ca-4fef-bef4-fb17ead7f933",
   "metadata": {
    "execution": {
     "iopub.execute_input": "2024-02-17T07:21:24.379979Z",
     "iopub.status.busy": "2024-02-17T07:21:24.379609Z",
     "iopub.status.idle": "2024-02-17T07:21:24.394051Z",
     "shell.execute_reply": "2024-02-17T07:21:24.391824Z",
     "shell.execute_reply.started": "2024-02-17T07:21:24.379954Z"
    }
   },
   "outputs": [
    {
     "data": {
      "text/plain": [
       "1"
      ]
     },
     "execution_count": 11,
     "metadata": {},
     "output_type": "execute_result"
    }
   ],
   "source": [
    "action = env.action_space.sample()\n",
    "action"
   ]
  },
  {
   "cell_type": "code",
   "execution_count": 80,
   "id": "c0e2ebe7-c2d8-41e7-8311-509328507a23",
   "metadata": {
    "execution": {
     "iopub.execute_input": "2024-02-17T07:51:01.388227Z",
     "iopub.status.busy": "2024-02-17T07:51:01.387867Z",
     "iopub.status.idle": "2024-02-17T07:51:01.415127Z",
     "shell.execute_reply": "2024-02-17T07:51:01.413737Z",
     "shell.execute_reply.started": "2024-02-17T07:51:01.388202Z"
    }
   },
   "outputs": [
    {
     "name": "stderr",
     "output_type": "stream",
     "text": [
      "/Users/alextanhongpin/Documents/python/python-deep-reinforcement-learning-in-action/.venv/lib/python3.11/site-packages/gym/envs/classic_control/cartpole.py:177: UserWarning: \u001b[33mWARN: You are calling 'step()' even though this environment has already returned terminated = True. You should always call 'reset()' once you receive 'terminated = True' -- any further steps are undefined behavior.\u001b[0m\n",
      "  logger.warn(\n"
     ]
    },
    {
     "data": {
      "text/plain": [
       "(array([ 0.18259142,  2.1433735 , -0.28115657, -3.3337643 ], dtype=float32),\n",
       " 0.0,\n",
       " True,\n",
       " False,\n",
       " {})"
      ]
     },
     "execution_count": 80,
     "metadata": {},
     "output_type": "execute_result"
    }
   ],
   "source": [
    "state, reward, done, truncated, info = env.step(action)\n",
    "state, reward, done, truncated, info"
   ]
  },
  {
   "cell_type": "code",
   "execution_count": 27,
   "id": "42fcf122-34e6-4901-8d55-f2e5a7f6a03a",
   "metadata": {
    "execution": {
     "iopub.execute_input": "2024-02-17T07:29:51.635136Z",
     "iopub.status.busy": "2024-02-17T07:29:51.634598Z",
     "iopub.status.idle": "2024-02-17T07:29:51.676274Z",
     "shell.execute_reply": "2024-02-17T07:29:51.675112Z",
     "shell.execute_reply.started": "2024-02-17T07:29:51.635097Z"
    }
   },
   "outputs": [
    {
     "name": "stderr",
     "output_type": "stream",
     "text": [
      "/var/folders/7m/74_ct3hx33d878n626w1wxyc0000gn/T/ipykernel_69021/887698193.py:3: TqdmWarning: IProgress not found. Please update jupyter and ipywidgets. See https://ipywidgets.readthedocs.io/en/stable/user_install.html\n",
      "  from tqdm.autonotebook import tqdm\n"
     ]
    }
   ],
   "source": [
    "import numpy as np\n",
    "import torch\n",
    "from tqdm.autonotebook import tqdm\n",
    "\n",
    "\n",
    "def create_model():\n",
    "    l1 = 4\n",
    "    l2 = 150\n",
    "    l3 = 2\n",
    "\n",
    "    model = torch.nn.Sequential(\n",
    "        torch.nn.Linear(l1, l2),\n",
    "        torch.nn.LeakyReLU(),\n",
    "        torch.nn.Linear(l2, l3),\n",
    "        torch.nn.Softmax(),\n",
    "    )\n",
    "    return model"
   ]
  },
  {
   "cell_type": "code",
   "execution_count": 53,
   "id": "3a278a2a-e47b-4910-8364-14ae5a032f2a",
   "metadata": {
    "execution": {
     "iopub.execute_input": "2024-02-17T07:42:32.942762Z",
     "iopub.status.busy": "2024-02-17T07:42:32.926157Z",
     "iopub.status.idle": "2024-02-17T07:42:32.960656Z",
     "shell.execute_reply": "2024-02-17T07:42:32.958176Z",
     "shell.execute_reply.started": "2024-02-17T07:42:32.942688Z"
    }
   },
   "outputs": [],
   "source": [
    "def discount_rewards(rewards, gamma=0.99):\n",
    "    disc_return = torch.pow(gamma, torch.arange(len(rewards)).float()) * rewards  # a\n",
    "    disc_return /= disc_return.max()  # b\n",
    "    return disc_return\n",
    "\n",
    "\n",
    "# a: computes exponentially decaying rewards\n",
    "# b: normalizes the rewards to be within the [0, 1] interval to improve numerical stability."
   ]
  },
  {
   "cell_type": "code",
   "execution_count": 25,
   "id": "34621734-f85b-46ae-b2a0-3318feb5756c",
   "metadata": {
    "execution": {
     "iopub.execute_input": "2024-02-17T07:27:14.946396Z",
     "iopub.status.busy": "2024-02-17T07:27:14.944081Z",
     "iopub.status.idle": "2024-02-17T07:27:14.988438Z",
     "shell.execute_reply": "2024-02-17T07:27:14.986444Z",
     "shell.execute_reply.started": "2024-02-17T07:27:14.946356Z"
    }
   },
   "outputs": [
    {
     "data": {
      "text/plain": [
       "tensor([1.0000, 0.9900, 0.9801, 0.9703, 0.9606])"
      ]
     },
     "execution_count": 25,
     "metadata": {},
     "output_type": "execute_result"
    }
   ],
   "source": [
    "discount_rewards(torch.ones(5))"
   ]
  },
  {
   "cell_type": "code",
   "execution_count": 45,
   "id": "a94c2ab4-3b4a-46e3-9ca0-5c751f96acc7",
   "metadata": {
    "execution": {
     "iopub.execute_input": "2024-02-17T07:39:56.238111Z",
     "iopub.status.busy": "2024-02-17T07:39:56.237439Z",
     "iopub.status.idle": "2024-02-17T07:39:56.245387Z",
     "shell.execute_reply": "2024-02-17T07:39:56.244395Z",
     "shell.execute_reply.started": "2024-02-17T07:39:56.238082Z"
    }
   },
   "outputs": [],
   "source": [
    "def loss_fn(preds, r):\n",
    "    return -1 * torch.sum(r * torch.log(preds))"
   ]
  },
  {
   "cell_type": "code",
   "execution_count": 81,
   "id": "5b66beb4-f129-41b2-9151-d08694f19fde",
   "metadata": {
    "execution": {
     "iopub.execute_input": "2024-02-17T07:52:16.315361Z",
     "iopub.status.busy": "2024-02-17T07:52:16.314985Z",
     "iopub.status.idle": "2024-02-17T07:52:16.334768Z",
     "shell.execute_reply": "2024-02-17T07:52:16.327545Z",
     "shell.execute_reply.started": "2024-02-17T07:52:16.315333Z"
    }
   },
   "outputs": [],
   "source": [
    "def train_model(model):\n",
    "    MAX_DUR = 200\n",
    "    MAX_EPISODES = 1000\n",
    "    gamma = 0.99\n",
    "    score = []\n",
    "\n",
    "    learning_rate = 0.009\n",
    "    optimizer = torch.optim.Adam(model.parameters(), lr=learning_rate)\n",
    "\n",
    "    for episode in tqdm(range(MAX_EPISODES)):\n",
    "        curr_state, _ = env.reset()\n",
    "        done = False\n",
    "        transitions = []  # (state, action, rewards)\n",
    "\n",
    "        for t in range(MAX_DUR):\n",
    "            act_prob = model(torch.from_numpy(curr_state).float())\n",
    "            action = np.random.choice(np.array([0, 1]), p=act_prob.data.numpy())\n",
    "            prev_state = curr_state\n",
    "            curr_state, _, done, truncated, info = env.step(action)\n",
    "            transitions.append((prev_state, action, t + 1))\n",
    "            if done:\n",
    "                break\n",
    "\n",
    "        ep_len = len(transitions)\n",
    "        score.append(ep_len)\n",
    "        reward_batch = torch.Tensor([r for (s, a, r) in transitions]).flip(dims=(0,))\n",
    "        disc_rewards = discount_rewards(reward_batch)\n",
    "        state_batch = torch.Tensor([s for (s, a, r) in transitions])\n",
    "        action_batch = torch.Tensor([a for (s, a, r) in transitions])\n",
    "        pred_batch = model(state_batch)\n",
    "        prob_batch = pred_batch.gather(\n",
    "            dim=1, index=action_batch.long().view(-1, 1)\n",
    "        ).squeeze()\n",
    "        loss = loss_fn(prob_batch, disc_rewards)\n",
    "        optimizer.zero_grad()\n",
    "        loss.backward()\n",
    "        optimizer.step()\n",
    "    return np.array(score)"
   ]
  },
  {
   "cell_type": "code",
   "execution_count": 82,
   "id": "9e3c1d71-d4fc-48e3-84b4-8124c30989a4",
   "metadata": {
    "execution": {
     "iopub.execute_input": "2024-02-17T07:52:16.827489Z",
     "iopub.status.busy": "2024-02-17T07:52:16.827177Z",
     "iopub.status.idle": "2024-02-17T07:52:42.184339Z",
     "shell.execute_reply": "2024-02-17T07:52:42.182812Z",
     "shell.execute_reply.started": "2024-02-17T07:52:16.827467Z"
    }
   },
   "outputs": [
    {
     "name": "stderr",
     "output_type": "stream",
     "text": [
      "100%|██████████████████████████████████████████████████████████████████████████████████████████████████████████████| 1000/1000 [00:25<00:00, 39.45it/s]\n"
     ]
    }
   ],
   "source": [
    "model = create_model()\n",
    "score = train_model(model)"
   ]
  },
  {
   "cell_type": "code",
   "execution_count": 83,
   "id": "b331f08e-b605-4d76-88b6-bca1c3976b85",
   "metadata": {
    "execution": {
     "iopub.execute_input": "2024-02-17T07:52:42.188867Z",
     "iopub.status.busy": "2024-02-17T07:52:42.188410Z",
     "iopub.status.idle": "2024-02-17T07:52:42.235826Z",
     "shell.execute_reply": "2024-02-17T07:52:42.234501Z",
     "shell.execute_reply.started": "2024-02-17T07:52:42.188833Z"
    }
   },
   "outputs": [],
   "source": [
    "def running_mean(x, N=50):\n",
    "    kernel = np.ones(N)\n",
    "    conv_len = x.shape[0] - N\n",
    "    y = np.zeros(conv_len)\n",
    "    for i in range(conv_len):\n",
    "        y[i] = kernel @ x[i : i + N]\n",
    "        y[i] /= N\n",
    "    return y"
   ]
  },
  {
   "cell_type": "code",
   "execution_count": 84,
   "id": "515a6411-ffff-4125-93f7-9959e5e26f53",
   "metadata": {
    "execution": {
     "iopub.execute_input": "2024-02-17T07:52:42.238835Z",
     "iopub.status.busy": "2024-02-17T07:52:42.238339Z",
     "iopub.status.idle": "2024-02-17T07:52:42.490167Z",
     "shell.execute_reply": "2024-02-17T07:52:42.489141Z",
     "shell.execute_reply.started": "2024-02-17T07:52:42.238800Z"
    },
    "scrolled": true
   },
   "outputs": [
    {
     "data": {
      "text/plain": [
       "Text(0, 0.5, 'Episode Duration')"
      ]
     },
     "execution_count": 84,
     "metadata": {},
     "output_type": "execute_result"
    },
    {
     "data": {
      "image/png": "[encoded data removed]",
      "text/plain": [
       "<Figure size 640x480 with 1 Axes>"
      ]
     },
     "metadata": {},
     "output_type": "display_data"
    }
   ],
   "source": [
    "import matplotlib.pyplot as plt\n",
    "\n",
    "plt.plot(running_mean(score))\n",
    "plt.xlabel(\"Training Epoch\")\n",
    "plt.ylabel(\"Episode Duration\")"
   ]
  }
 ],
 "metadata": {
  "kernelspec": {
   "display_name": "Python 3 (ipykernel)",
   "language": "python",
   "name": "python3"
  },
  "language_info": {
   "codemirror_mode": {
    "name": "ipython",
    "version": 3
   },
   "file_extension": ".py",
   "mimetype": "text/x-python",
   "name": "python",
   "nbconvert_exporter": "python",
   "pygments_lexer": "ipython3",
   "version": "3.11.7"
  }
 },
 "nbformat": 4,
 "nbformat_minor": 5
}
