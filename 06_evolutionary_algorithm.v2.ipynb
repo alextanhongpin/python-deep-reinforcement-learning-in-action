{
 "cells": [
  {
   "cell_type": "markdown",
   "id": "17926021-7de2-478a-a7a2-33f22aa882d4",
   "metadata": {},
   "source": [
    "# Evolutionary Algorithm"
   ]
  },
  {
   "cell_type": "code",
   "execution_count": 2,
   "id": "e0472ddf-48e8-477d-b40e-20d63bc300c0",
   "metadata": {},
   "outputs": [],
   "source": [
    "import random\n",
    "\n",
    "import matplotlib.pyplot as plt"
   ]
  },
  {
   "cell_type": "code",
   "execution_count": 60,
   "id": "5d504206-ca2f-47fb-958a-9da2cff21397",
   "metadata": {},
   "outputs": [],
   "source": [
    "class Individual:\n",
    "    def __init__(self, string, fitness=0):\n",
    "        self.string = string\n",
    "        self.fitness = fitness"
   ]
  },
  {
   "cell_type": "code",
   "execution_count": 61,
   "id": "34331ef5-baba-4a26-8e82-ebfee4423827",
   "metadata": {},
   "outputs": [
    {
     "data": {
      "text/plain": [
       "(0.0, 0.8, 1.0)"
      ]
     },
     "execution_count": 61,
     "metadata": {},
     "output_type": "execute_result"
    }
   ],
   "source": [
    "from difflib import SequenceMatcher\n",
    "\n",
    "\n",
    "def similar(a, b):\n",
    "    return SequenceMatcher(None, a, b).ratio()\n",
    "\n",
    "\n",
    "similar(\"foo\", \"bar\"), similar(\"hello\", \"Hello\"), similar(\"foo\", \"foo\")"
   ]
  },
  {
   "cell_type": "code",
   "execution_count": 62,
   "id": "d8fae9bf-c7a3-46cf-9f89-6603e2f68f2d",
   "metadata": {},
   "outputs": [],
   "source": [
    "def spawn_population(length=26, size=100):\n",
    "    population = []\n",
    "    for i in range(size):\n",
    "        string = \"\".join(random.choices(alphabet, k=length))\n",
    "        individual = Individual(string)\n",
    "        population.append(individual)\n",
    "    return population"
   ]
  },
  {
   "cell_type": "code",
   "execution_count": 53,
   "id": "55d0e0e2-c8ce-45e6-80c8-069b54f5ee04",
   "metadata": {},
   "outputs": [],
   "source": [
    "def recombine(p1, p2):\n",
    "    i = random.randint(0, len(p1.string))\n",
    "    child1 = p1.string[:i] + p2.string[i:]\n",
    "    child2 = p2.string[:i] + p1.string[i:]\n",
    "    return Individual(child1), Individual(child2)"
   ]
  },
  {
   "cell_type": "code",
   "execution_count": 54,
   "id": "cc9c743a-87db-48c4-9e98-4f44798a9474",
   "metadata": {},
   "outputs": [],
   "source": [
    "def mutate(x, mut_rate=0.01):\n",
    "    new_x = []\n",
    "    for char in x.string:\n",
    "        if random.random() < mut_rate:\n",
    "            new_x.append(random.choice(alphabet))\n",
    "        else:\n",
    "            new_x.append(char)\n",
    "    return Individual(\"\".join(new_x))"
   ]
  },
  {
   "cell_type": "code",
   "execution_count": 55,
   "id": "f1779e79-0622-45d1-8df2-8bbbe328113e",
   "metadata": {},
   "outputs": [],
   "source": [
    "def evaluate_population(population, target):\n",
    "    avg_fit = 0\n",
    "    for i in range(len(population)):\n",
    "        fit = similar(population[i].string, target)\n",
    "        population[i].fitness = fit\n",
    "        avg_fit += fit\n",
    "    return population, avg_fit / len(population)"
   ]
  },
  {
   "cell_type": "code",
   "execution_count": 56,
   "id": "cbf82840-165d-4a99-9921-883348feacae",
   "metadata": {},
   "outputs": [],
   "source": [
    "def next_generation(population, size=100, length=26, mut_rate=0.01):\n",
    "    new_population = []\n",
    "    while len(new_population) < size:\n",
    "        parents = random.choices(\n",
    "            population, k=2, weights=[x.fitness for x in population]\n",
    "        )\n",
    "        offspring = recombine(*parents)\n",
    "        offspring = [mutate(o, mut_rate=mut_rate) for o in offspring]\n",
    "        new_population.extend(offspring)\n",
    "    return new_population"
   ]
  },
  {
   "cell_type": "code",
   "execution_count": 125,
   "id": "47da3b3b-bf66-45b6-9aa9-ee99ef093350",
   "metadata": {},
   "outputs": [],
   "source": [
    "alphabet = \"abcdefghijklmnopqrstuvwxyzABCDEFGHIJKLMNOPQRSTUVWXYZ,.! \"\n",
    "target = \"Hello World!\"\n",
    "\n",
    "num_generations = 300\n",
    "population_size = 1000\n",
    "str_len = len(target)\n",
    "mutation_rate = 0.0001\n",
    "\n",
    "population_fit = []\n",
    "population = spawn_population(size=population_size, length=str_len)"
   ]
  },
  {
   "cell_type": "code",
   "execution_count": 126,
   "id": "a145a37a-d17d-4c8b-90fc-129271e1a2b3",
   "metadata": {},
   "outputs": [
    {
     "data": {
      "text/plain": [
       "0.11258333333333306"
      ]
     },
     "execution_count": 126,
     "metadata": {},
     "output_type": "execute_result"
    }
   ],
   "source": [
    "population, avg_fit = evaluate_population(population, target)\n",
    "population.sort(key=lambda x: x.fitness, reverse=True)\n",
    "avg_fit"
   ]
  },
  {
   "cell_type": "code",
   "execution_count": 127,
   "id": "3f29d840-6745-40f8-8afd-f84fa6c713ee",
   "metadata": {},
   "outputs": [
    {
     "name": "stdout",
     "output_type": "stream",
     "text": [
      "!eoMywIzlom! 0.3333333333333333\n",
      "XeWLowffhulc 0.3333333333333333\n",
      "LeWr!UhOy tm 0.3333333333333333\n"
     ]
    }
   ],
   "source": [
    "for p in population[:3]:\n",
    "    print(p.string, p.fitness)"
   ]
  },
  {
   "cell_type": "code",
   "execution_count": 128,
   "id": "8cb99dae-a0ac-47df-9432-7cd9eb7e723c",
   "metadata": {},
   "outputs": [],
   "source": [
    "for gen in range(num_generations):\n",
    "    population, avg_fit = evaluate_population(population, target)\n",
    "    population_fit.append(avg_fit)\n",
    "    population = next_generation(\n",
    "        population, size=population_size, length=str_len, mut_rate=mutation_rate\n",
    "    )"
   ]
  },
  {
   "cell_type": "code",
   "execution_count": 129,
   "id": "26183652-c55a-4983-9f58-c627f4a1be7d",
   "metadata": {},
   "outputs": [
    {
     "data": {
      "text/plain": [
       "0.913916666666655"
      ]
     },
     "execution_count": 129,
     "metadata": {},
     "output_type": "execute_result"
    }
   ],
   "source": [
    "population, avg_fit = evaluate_population(population, target)\n",
    "population.sort(key=lambda x: x.fitness, reverse=True)\n",
    "avg_fit"
   ]
  },
  {
   "cell_type": "code",
   "execution_count": 130,
   "id": "98fddee4-72d9-42d9-b3ff-41f39d4e7fd7",
   "metadata": {},
   "outputs": [
    {
     "name": "stdout",
     "output_type": "stream",
     "text": [
      "Hello orldd! 0.9166666666666666\n",
      "HelloWorldm! 0.9166666666666666\n",
      "HelloWorld!! 0.9166666666666666\n"
     ]
    }
   ],
   "source": [
    "for p in population[:3]:\n",
    "    print(p.string, p.fitness)"
   ]
  },
  {
   "cell_type": "code",
   "execution_count": 131,
   "id": "b1a6b40e-1b58-4d0e-bdc9-780aefc72bf9",
   "metadata": {},
   "outputs": [
    {
     "data": {
      "image/png": "[encoded data removed]",
      "text/plain": [
       "<Figure size 640x480 with 1 Axes>"
      ]
     },
     "metadata": {},
     "output_type": "display_data"
    }
   ],
   "source": [
    "plt.plot(population_fit)\n",
    "plt.xlabel(\"Generations\")\n",
    "plt.ylabel(\"Fitness\");"
   ]
  },
  {
   "cell_type": "markdown",
   "id": "5c31bf5b-982b-4bc2-9f59-af04f16b5c43",
   "metadata": {},
   "source": [
    "## Genetic Algorithm for Cart Pole"
   ]
  },
  {
   "cell_type": "code",
   "execution_count": 186,
   "id": "671b349e-4294-4d28-bcc0-0a977d8e1696",
   "metadata": {},
   "outputs": [],
   "source": [
    "import numpy as np\n",
    "import torch\n",
    "import torch.nn.functional as F\n",
    "from tqdm.notebook import trange\n",
    "\n",
    "\n",
    "def model(x, unpacked_params):\n",
    "    l1, b1, l2, b2, l3, b3 = unpacked_params\n",
    "    y = F.relu(F.linear(x, l1, b1))\n",
    "    y = F.relu(F.linear(y, l2, b2))\n",
    "    y = F.log_softmax(F.linear(y, l3, b3), dim=0)\n",
    "    return y"
   ]
  },
  {
   "cell_type": "code",
   "execution_count": 137,
   "id": "e8d6f5d7-7b81-455f-b407-cdc2282e6ee9",
   "metadata": {},
   "outputs": [],
   "source": [
    "def unpack_params(params, layers=[(25, 4), (10, 25), (2, 10)]):\n",
    "    unpacked_params = []\n",
    "    i = 0\n",
    "    for out, inp in layers:\n",
    "        s, e = i, i + inp * out\n",
    "        weights = params[s:e].view((out, inp))\n",
    "        s, e = e, e + out\n",
    "        bias = params[s:e]\n",
    "        i = e\n",
    "        unpacked_params.extend([weights, bias])\n",
    "    return unpacked_params"
   ]
  },
  {
   "cell_type": "code",
   "execution_count": 140,
   "id": "ebf60e68-4784-43d4-b0dc-0a8ca5f22e61",
   "metadata": {},
   "outputs": [
    {
     "data": {
      "text/plain": [
       "407"
      ]
     },
     "execution_count": 140,
     "metadata": {},
     "output_type": "execute_result"
    }
   ],
   "source": [
    "layers = [(25, 4), (10, 25), (2, 10)]\n",
    "np.sum([(np.prod(layer) + layer[0]) for layer in layers])"
   ]
  },
  {
   "cell_type": "code",
   "execution_count": 144,
   "id": "9041b150-d3ac-4592-9274-91da38f5f8a3",
   "metadata": {},
   "outputs": [
    {
     "name": "stdout",
     "output_type": "stream",
     "text": [
      "torch.Size([25, 4])\n",
      "torch.Size([25])\n",
      "torch.Size([10, 25])\n",
      "torch.Size([10])\n",
      "torch.Size([2, 10])\n",
      "torch.Size([2])\n"
     ]
    },
    {
     "data": {
      "text/plain": [
       "407"
      ]
     },
     "execution_count": 144,
     "metadata": {},
     "output_type": "execute_result"
    }
   ],
   "source": [
    "total = 0\n",
    "for l in unpack_params(torch.rand(407)):\n",
    "    print(l.shape)\n",
    "    total += np.prod(l.shape)\n",
    "total"
   ]
  },
  {
   "cell_type": "code",
   "execution_count": 145,
   "id": "897f7434-fb3b-4501-bdb3-5702a53f6659",
   "metadata": {},
   "outputs": [],
   "source": [
    "def spawn_population(n=50, size=407):\n",
    "    population = []\n",
    "    for i in range(n):\n",
    "        vec = torch.randn(size) / 2.0\n",
    "        fit = 0\n",
    "        p = {\"params\": vec, \"fitness\": fit}\n",
    "        population.append(p)\n",
    "    return population"
   ]
  },
  {
   "cell_type": "code",
   "execution_count": 180,
   "id": "4a4b0d64-b808-4be5-b332-64b2d9120254",
   "metadata": {},
   "outputs": [],
   "source": [
    "def recombine(x1, x2):\n",
    "    x1 = x1[\"params\"]\n",
    "    x2 = x2[\"params\"]\n",
    "    l = x1.shape[0]\n",
    "    i = np.random.randint(l)\n",
    "    child1 = torch.cat([x1[:i], x2[i:]])\n",
    "    child2 = torch.cat([x2[:i], x1[i:]])\n",
    "    c1 = {\"params\": child1, \"fitness\": 0.0}\n",
    "    c2 = {\"params\": child2, \"fitness\": 0.0}\n",
    "    return c1, c2"
   ]
  },
  {
   "cell_type": "code",
   "execution_count": 181,
   "id": "159a2e75-1fa5-4f93-a505-8e48ecf39cba",
   "metadata": {},
   "outputs": [],
   "source": [
    "def mutate(x, rate=0.01):\n",
    "    x_ = x[\"params\"]\n",
    "    num_to_change = int(rate * x_.shape[0])\n",
    "    idx = np.random.randint(low=0, high=x_.shape[0], size=(num_to_change,))\n",
    "    x_[idx] = torch.randn(num_to_change) / 10.0\n",
    "    x[\"params\"] = x_\n",
    "    return x"
   ]
  },
  {
   "cell_type": "code",
   "execution_count": 182,
   "id": "dd835429-cd81-4791-96c4-aac1c488a24e",
   "metadata": {},
   "outputs": [],
   "source": [
    "import gymnasium as gym\n",
    "\n",
    "env = gym.make(\"CartPole-v1\")\n",
    "\n",
    "\n",
    "def test_model(agent):\n",
    "    observation, _info = env.reset()\n",
    "    score = 0\n",
    "    while True:\n",
    "        state = torch.from_numpy(observation)\n",
    "        params = unpack_params(agent[\"params\"])\n",
    "        probs = model(state, params)\n",
    "        # action = torch.multinomial(probs, 1)\n",
    "        action = torch.distributions.Categorical(probs=probs).sample()\n",
    "        observation, _reward, done, trunc, _info = env.step(action.item())\n",
    "        if done or trunc:\n",
    "            break\n",
    "        score += 1\n",
    "    return score"
   ]
  },
  {
   "cell_type": "code",
   "execution_count": 183,
   "id": "4afa9054-19b8-4d30-b8fa-a87e1c83a365",
   "metadata": {},
   "outputs": [],
   "source": [
    "def evaluate_population(population):\n",
    "    total_fit = 0\n",
    "    for agent in population:\n",
    "        score = test_model(agent)\n",
    "        agent[\"fitness\"] = score\n",
    "        total_fit += score\n",
    "    return population, total_fit / len(population)"
   ]
  },
  {
   "cell_type": "code",
   "execution_count": 184,
   "id": "03f667a0-8ae1-4fac-8d63-7872eb80743b",
   "metadata": {},
   "outputs": [],
   "source": [
    "def next_generation(population, mut_rate=0.001, tournament_size=0.2):\n",
    "    new_population = []\n",
    "    while len(new_population) < len(population):\n",
    "        rids = np.random.randint(\n",
    "            low=0, high=len(population), size=(int(tournament_size * len(population)))\n",
    "        )\n",
    "        batch = np.array(\n",
    "            [[i, x[\"fitness\"]] for (i, x) in enumerate(population) if i in rids]\n",
    "        )\n",
    "        scores = batch[batch[:, 1].argsort()]\n",
    "        i0, i1 = int(scores[-1][0]), int(scores[-2][0])\n",
    "        parent0, parent1 = population[i0], population[i1]\n",
    "        offspring = recombine(parent0, parent1)\n",
    "        offspring = [mutate(off, rate=mut_rate) for off in offspring]\n",
    "        new_population.extend(offspring)\n",
    "    return new_population"
   ]
  },
  {
   "cell_type": "code",
   "execution_count": 187,
   "id": "b13bc262-11d1-457f-b6b9-cefcb810cb3d",
   "metadata": {},
   "outputs": [
    {
     "data": {
      "application/vnd.jupyter.widget-view+json": {
       "model_id": "f22334730ae04b3eba8cb74c187f999a",
       "version_major": 2,
       "version_minor": 0
      },
      "text/plain": [
       "  0%|          | 0/25 [00:00<?, ?it/s]"
      ]
     },
     "metadata": {},
     "output_type": "display_data"
    }
   ],
   "source": [
    "num_generations = 25\n",
    "population_size = 500\n",
    "mutation_rate = 0.01\n",
    "population_fit = []\n",
    "population = spawn_population(n=population_size, size=407)\n",
    "for i in trange(num_generations):\n",
    "    population, avg_fit = evaluate_population(population)\n",
    "    population_fit.append(avg_fit)\n",
    "    population = next_generation(\n",
    "        population, mut_rate=mutation_rate, tournament_size=0.2\n",
    "    )"
   ]
  },
  {
   "cell_type": "code",
   "execution_count": 190,
   "id": "d7cf8f4e-dbd2-4cc5-804d-d3f96baf79f2",
   "metadata": {},
   "outputs": [
    {
     "data": {
      "image/png": "[encoded data removed]",
      "text/plain": [
       "<Figure size 640x480 with 1 Axes>"
      ]
     },
     "metadata": {},
     "output_type": "display_data"
    }
   ],
   "source": [
    "plt.plot(population_fit)\n",
    "plt.xlabel(\"Generations\")\n",
    "plt.ylabel(\"Episodes\");"
   ]
  }
 ],
 "metadata": {
  "kernelspec": {
   "display_name": "Python 3 (ipykernel)",
   "language": "python",
   "name": "python3"
  },
  "language_info": {
   "codemirror_mode": {
    "name": "ipython",
    "version": 3
   },
   "file_extension": ".py",
   "mimetype": "text/x-python",
   "name": "python",
   "nbconvert_exporter": "python",
   "pygments_lexer": "ipython3",
   "version": "3.12.8"
  }
 },
 "nbformat": 4,
 "nbformat_minor": 5
}
