{
 "cells": [
  {
   "cell_type": "code",
   "execution_count": 16,
   "id": "3f508d36-27ad-4fee-99e2-f49cf2330ed1",
   "metadata": {},
   "outputs": [
    {
     "name": "stdout",
     "output_type": "stream",
     "text": [
      "The tensorboard extension is already loaded. To reload it, use:\n",
      "  %reload_ext tensorboard\n"
     ]
    }
   ],
   "source": [
    "%load_ext tensorboard\n",
    "!rm -rf ./logs"
   ]
  },
  {
   "cell_type": "code",
   "execution_count": 17,
   "id": "c14a492f-56dc-42e0-b53b-8e471f5e7315",
   "metadata": {},
   "outputs": [
    {
     "data": {
      "text/html": [
       "\n",
       "      <iframe id=\"tensorboard-frame-85bcc7e1be6b723f\" width=\"100%\" height=\"800\" frameborder=\"0\">\n",
       "      </iframe>\n",
       "      <script>\n",
       "        (function() {\n",
       "          const frame = document.getElementById(\"tensorboard-frame-85bcc7e1be6b723f\");\n",
       "          const url = new URL(\"/\", window.location);\n",
       "          const port = 6006;\n",
       "          if (port) {\n",
       "            url.port = port;\n",
       "          }\n",
       "          frame.src = url;\n",
       "        })();\n",
       "      </script>\n",
       "    "
      ],
      "text/plain": [
       "<IPython.core.display.HTML object>"
      ]
     },
     "metadata": {},
     "output_type": "display_data"
    }
   ],
   "source": [
    "%tensorboard --logdir logs"
   ]
  },
  {
   "cell_type": "code",
   "execution_count": 11,
   "id": "d4135aa6-0113-4d0c-aa0e-bd0be1570220",
   "metadata": {},
   "outputs": [],
   "source": [
    "import torch\n",
    "from torch.utils.tensorboard import SummaryWriter\n",
    "\n",
    "writer = SummaryWriter(\"logs\")\n",
    "# writer.close()"
   ]
  },
  {
   "cell_type": "code",
   "execution_count": 12,
   "id": "a74643fe-c245-4c04-809c-ce63b3194634",
   "metadata": {},
   "outputs": [],
   "source": [
    "import random\n",
    "\n",
    "for epoch in range(10):\n",
    "    loss = random.random()\n",
    "    writer.add_scalar(\"Loss/train\", loss, epoch)"
   ]
  },
  {
   "cell_type": "code",
   "execution_count": 14,
   "id": "e65f5a5e-b0cf-4afb-aa71-f329bc3ab48a",
   "metadata": {},
   "outputs": [],
   "source": [
    "for i in range(5):\n",
    "    writer.add_hparams(\n",
    "        {\n",
    "            \"num\": i,\n",
    "            \"str\": True,\n",
    "            \"none\": None,\n",
    "            # \"list\": [1, 2, 3],\n",
    "            # \"tuple\": (45, 100),\n",
    "            # \"dict\": {\"one\": 1, \"two\": 2},\n",
    "        },\n",
    "        {\"hparam/accuracy\": i, \"hparam/loss\": i},\n",
    "        run_name=\"hello\",\n",
    "        global_step=i,\n",
    "    )"
   ]
  },
  {
   "cell_type": "code",
   "execution_count": 15,
   "id": "65216f38-69ac-47ce-bf7b-a1ebc1e90093",
   "metadata": {},
   "outputs": [],
   "source": [
    "for i in range(20):\n",
    "    x = random.random()\n",
    "    writer.add_histogram(\"distribution centers\", x + i, i)"
   ]
  },
  {
   "cell_type": "code",
   "execution_count": 8,
   "id": "b05ca907-4915-4b0d-9a83-c9ba41b1747c",
   "metadata": {},
   "outputs": [],
   "source": [
    "import numpy as np\n",
    "\n",
    "for step in range(5):\n",
    "    writer.add_histogram(\"activation\", np.arange(10), step)"
   ]
  },
  {
   "cell_type": "code",
   "execution_count": 9,
   "id": "1062f938-26a4-452f-ac03-a9e28d1fba3c",
   "metadata": {},
   "outputs": [],
   "source": [
    "writer.close()"
   ]
  },
  {
   "cell_type": "code",
   "execution_count": null,
   "id": "e01679a9-71e1-4c59-9e79-3c886ecbd15b",
   "metadata": {},
   "outputs": [],
   "source": []
  }
 ],
 "metadata": {
  "kernelspec": {
   "display_name": "Python 3 (ipykernel)",
   "language": "python",
   "name": "python3"
  },
  "language_info": {
   "codemirror_mode": {
    "name": "ipython",
    "version": 3
   },
   "file_extension": ".py",
   "mimetype": "text/x-python",
   "name": "python",
   "nbconvert_exporter": "python",
   "pygments_lexer": "ipython3",
   "version": "3.12.8"
  }
 },
 "nbformat": 4,
 "nbformat_minor": 5
}
