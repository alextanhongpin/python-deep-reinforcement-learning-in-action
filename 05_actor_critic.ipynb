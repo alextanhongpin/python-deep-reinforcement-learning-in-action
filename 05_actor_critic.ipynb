{
 "cells": [
  {
   "cell_type": "markdown",
   "id": "1d74039e-ea50-479e-9ffe-828b3569ec42",
   "metadata": {},
   "source": [
    "# Actor-critic"
   ]
  },
  {
   "cell_type": "code",
   "execution_count": 1,
   "id": "e40d603b-778a-40ce-a65c-4e2268dc7f09",
   "metadata": {
    "execution": {
     "iopub.execute_input": "2024-02-17T17:41:58.815524Z",
     "iopub.status.busy": "2024-02-17T17:41:58.806799Z",
     "iopub.status.idle": "2024-02-17T17:42:01.203857Z",
     "shell.execute_reply": "2024-02-17T17:42:01.202927Z",
     "shell.execute_reply.started": "2024-02-17T17:41:58.815430Z"
    }
   },
   "outputs": [],
   "source": [
    "import gym\n",
    "import torch\n",
    "import torch.multiprocessing as mp"
   ]
  },
  {
   "cell_type": "code",
   "execution_count": 14,
   "id": "b854baf1-52d2-46d7-9875-64322f636e9a",
   "metadata": {
    "execution": {
     "iopub.execute_input": "2024-02-17T17:29:29.748808Z",
     "iopub.status.busy": "2024-02-17T17:29:29.748172Z",
     "iopub.status.idle": "2024-02-17T17:30:24.217632Z",
     "shell.execute_reply": "2024-02-17T17:30:24.215778Z",
     "shell.execute_reply.started": "2024-02-17T17:29:29.748767Z"
    }
   },
   "outputs": [
    {
     "name": "stderr",
     "output_type": "stream",
     "text": [
      "/Users/alextanhongpin/Documents/python/python-deep-reinforcement-learning-in-action/.venv/lib/python3.11/site-packages/gym/utils/passive_env_checker.py:233: DeprecationWarning: `np.bool8` is a deprecated alias for `np.bool_`.  (Deprecated NumPy 1.24)\n",
      "  if not isinstance(terminated, (bool, np.bool8)):\n",
      "/Users/alextanhongpin/Documents/python/python-deep-reinforcement-learning-in-action/.venv/lib/python3.11/site-packages/gym/utils/passive_env_checker.py:233: DeprecationWarning: `np.bool8` is a deprecated alias for `np.bool_`.  (Deprecated NumPy 1.24)\n",
      "  if not isinstance(terminated, (bool, np.bool8)):\n"
     ]
    },
    {
     "name": "stdout",
     "output_type": "stream",
     "text": [
      "2000 0\n"
     ]
    }
   ],
   "source": [
    "from worker.worker import ActorCritic, worker\n",
    "\n",
    "if __name__ == \"__main__\":\n",
    "    MasterNode = ActorCritic()\n",
    "\n",
    "    # The share_memory() will allow the parameters of the model to be shared\n",
    "    # across processes rather than being copied.\n",
    "    MasterNode.share_memory()\n",
    "\n",
    "    processes = []\n",
    "    params = {\"epochs\": 1000, \"n_workers\": 2}\n",
    "    counter = mp.Value(\"i\", 0)\n",
    "    for i in range(params[\"n_workers\"]):\n",
    "        p = mp.Process(target=worker, args=(i, MasterNode, counter, params))\n",
    "        p.start()\n",
    "        processes.append(p)\n",
    "\n",
    "    for p in processes:\n",
    "        p.join()\n",
    "\n",
    "    for p in processes:\n",
    "        p.terminate()\n",
    "\n",
    "    print(counter.value, processes[1].exitcode)"
   ]
  },
  {
   "cell_type": "code",
   "execution_count": 2,
   "id": "48c641ae-1f67-4d38-b4a7-1573e4760d2a",
   "metadata": {
    "execution": {
     "iopub.execute_input": "2024-02-17T17:42:01.672494Z",
     "iopub.status.busy": "2024-02-17T17:42:01.671979Z",
     "iopub.status.idle": "2024-02-17T17:42:01.685124Z",
     "shell.execute_reply": "2024-02-17T17:42:01.681621Z",
     "shell.execute_reply.started": "2024-02-17T17:42:01.672463Z"
    }
   },
   "outputs": [],
   "source": [
    "import numpy as np\n",
    "\n",
    "\n",
    "def evaluate(model):\n",
    "    env = gym.make(\"CartPole-v1\")\n",
    "\n",
    "    curr_state, _ = env.reset()\n",
    "    transitions = []  # (state, action, rewards)\n",
    "    MAX_DUR = 500\n",
    "\n",
    "    for t in range(MAX_DUR):\n",
    "        policy, value = model(torch.from_numpy(curr_state).float())\n",
    "        logits = policy.view(-1)\n",
    "\n",
    "        action_dist = torch.distributions.Categorical(logits=logits)\n",
    "        action = action_dist.sample()\n",
    "\n",
    "        prev_state = curr_state\n",
    "        curr_state, _, done, truncated, info = env.step(action.detach().numpy())\n",
    "        transitions.append((prev_state, action, t + 1))\n",
    "        if done:\n",
    "            break\n",
    "    return len(transitions)"
   ]
  },
  {
   "cell_type": "code",
   "execution_count": 52,
   "id": "4dc877d5-855e-429c-8012-9e16429558c2",
   "metadata": {
    "execution": {
     "iopub.execute_input": "2024-02-17T17:36:25.432292Z",
     "iopub.status.busy": "2024-02-17T17:36:25.431405Z",
     "iopub.status.idle": "2024-02-17T17:36:25.600423Z",
     "shell.execute_reply": "2024-02-17T17:36:25.597059Z",
     "shell.execute_reply.started": "2024-02-17T17:36:25.432247Z"
    }
   },
   "outputs": [
    {
     "data": {
      "text/plain": [
       "58"
      ]
     },
     "execution_count": 52,
     "metadata": {},
     "output_type": "execute_result"
    }
   ],
   "source": [
    "evaluate(MasterNode)"
   ]
  },
  {
   "cell_type": "code",
   "execution_count": 17,
   "id": "74fb6481-a357-4662-92d0-9eaddac4a8eb",
   "metadata": {
    "execution": {
     "iopub.execute_input": "2024-02-17T17:44:51.138402Z",
     "iopub.status.busy": "2024-02-17T17:44:51.137511Z",
     "iopub.status.idle": "2024-02-17T17:46:16.621248Z",
     "shell.execute_reply": "2024-02-17T17:46:16.619201Z",
     "shell.execute_reply.started": "2024-02-17T17:44:51.138367Z"
    }
   },
   "outputs": [
    {
     "name": "stderr",
     "output_type": "stream",
     "text": [
      "/Users/alextanhongpin/Documents/python/python-deep-reinforcement-learning-in-action/.venv/lib/python3.11/site-packages/gym/utils/passive_env_checker.py:233: DeprecationWarning: `np.bool8` is a deprecated alias for `np.bool_`.  (Deprecated NumPy 1.24)\n",
      "  if not isinstance(terminated, (bool, np.bool8)):\n",
      "/Users/alextanhongpin/Documents/python/python-deep-reinforcement-learning-in-action/.venv/lib/python3.11/site-packages/gym/utils/passive_env_checker.py:233: DeprecationWarning: `np.bool8` is a deprecated alias for `np.bool_`.  (Deprecated NumPy 1.24)\n",
      "  if not isinstance(terminated, (bool, np.bool8)):\n",
      "/Users/alextanhongpin/Documents/python/python-deep-reinforcement-learning-in-action/.venv/lib/python3.11/site-packages/gym/utils/passive_env_checker.py:233: DeprecationWarning: `np.bool8` is a deprecated alias for `np.bool_`.  (Deprecated NumPy 1.24)\n",
      "  if not isinstance(terminated, (bool, np.bool8)):\n",
      "/Users/alextanhongpin/Documents/python/python-deep-reinforcement-learning-in-action/.venv/lib/python3.11/site-packages/gym/utils/passive_env_checker.py:233: DeprecationWarning: `np.bool8` is a deprecated alias for `np.bool_`.  (Deprecated NumPy 1.24)\n",
      "  if not isinstance(terminated, (bool, np.bool8)):\n"
     ]
    },
    {
     "name": "stdout",
     "output_type": "stream",
     "text": [
      "19877 0\n"
     ]
    }
   ],
   "source": [
    "from worker.worker_n_step import ActorCritic, worker\n",
    "\n",
    "if __name__ == \"__main__\":\n",
    "    MasterNode = ActorCritic()\n",
    "\n",
    "    # The share_memory() will allow the parameters of the model to be shared\n",
    "    # across processes rather than being copied.\n",
    "    MasterNode.share_memory()\n",
    "\n",
    "    processes = []\n",
    "    params = {\"epochs\": 5000, \"n_workers\": 4}\n",
    "    counter = mp.Value(\"i\", 0)\n",
    "    for i in range(params[\"n_workers\"]):\n",
    "        p = mp.Process(target=worker, args=(i, MasterNode, counter, params))\n",
    "        p.start()\n",
    "        processes.append(p)\n",
    "\n",
    "    for p in processes:\n",
    "        p.join()\n",
    "\n",
    "    for p in processes:\n",
    "        p.terminate()\n",
    "\n",
    "    print(counter.value, processes[1].exitcode)"
   ]
  },
  {
   "cell_type": "code",
   "execution_count": 18,
   "id": "2cb76ccf-2043-4e90-a4e6-d2a45c30e7ca",
   "metadata": {
    "execution": {
     "iopub.execute_input": "2024-02-17T17:46:16.638948Z",
     "iopub.status.busy": "2024-02-17T17:46:16.627874Z",
     "iopub.status.idle": "2024-02-17T17:46:39.083233Z",
     "shell.execute_reply": "2024-02-17T17:46:39.082236Z",
     "shell.execute_reply.started": "2024-02-17T17:46:16.638892Z"
    }
   },
   "outputs": [
    {
     "data": {
      "text/plain": [
       "408.7"
      ]
     },
     "execution_count": 18,
     "metadata": {},
     "output_type": "execute_result"
    }
   ],
   "source": [
    "values = []\n",
    "for i in range(100):\n",
    "    value = evaluate(MasterNode)\n",
    "    values.append(value)\n",
    "np.mean(values)"
   ]
  }
 ],
 "metadata": {
  "kernelspec": {
   "display_name": "Python 3 (ipykernel)",
   "language": "python",
   "name": "python3"
  },
  "language_info": {
   "codemirror_mode": {
    "name": "ipython",
    "version": 3
   },
   "file_extension": ".py",
   "mimetype": "text/x-python",
   "name": "python",
   "nbconvert_exporter": "python",
   "pygments_lexer": "ipython3",
   "version": "3.11.7"
  }
 },
 "nbformat": 4,
 "nbformat_minor": 5
}
