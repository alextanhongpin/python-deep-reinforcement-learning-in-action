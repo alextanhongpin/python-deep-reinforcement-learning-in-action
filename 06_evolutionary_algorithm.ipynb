{
 "cells": [
  {
   "cell_type": "markdown",
   "id": "a8edcdc8-8023-409a-ba19-74b36577328d",
   "metadata": {},
   "source": [
    "# Evolutionary Algorithm"
   ]
  },
  {
   "cell_type": "markdown",
   "id": "26d98ec7-e5e4-49a4-a0ae-0b988e7b15d0",
   "metadata": {},
   "source": [
    "## Evolving Strings"
   ]
  },
  {
   "cell_type": "code",
   "execution_count": 1,
   "id": "5209cb1e-0319-4e75-bc9b-ac518f35080d",
   "metadata": {
    "execution": {
     "iopub.execute_input": "2024-02-18T07:36:33.066327Z",
     "iopub.status.busy": "2024-02-18T07:36:33.053801Z",
     "iopub.status.idle": "2024-02-18T07:36:35.131678Z",
     "shell.execute_reply": "2024-02-18T07:36:35.130792Z",
     "shell.execute_reply.started": "2024-02-18T07:36:33.066226Z"
    }
   },
   "outputs": [],
   "source": [
    "import random\n",
    "\n",
    "import matplotlib.pyplot as plt\n",
    "\n",
    "alphabet = \"abcdefghijklmnopqrstuvwxyzABCDEFGHIJKLMNOPQRSTUVWZXYZ,.! \"\n",
    "target = \"Hello World!\"\n",
    "\n",
    "\n",
    "class Individual:\n",
    "    def __init__(self, string, fitness=0):\n",
    "        self.string = string\n",
    "        self.fitness = fitness"
   ]
  },
  {
   "cell_type": "code",
   "execution_count": 6,
   "id": "9d90616f-021a-4c5d-acf0-70f38d334cca",
   "metadata": {
    "execution": {
     "iopub.execute_input": "2024-02-18T07:38:17.999104Z",
     "iopub.status.busy": "2024-02-18T07:38:17.998598Z",
     "iopub.status.idle": "2024-02-18T07:38:18.014848Z",
     "shell.execute_reply": "2024-02-18T07:38:18.013578Z",
     "shell.execute_reply.started": "2024-02-18T07:38:17.999072Z"
    }
   },
   "outputs": [],
   "source": [
    "from difflib import SequenceMatcher\n",
    "\n",
    "\n",
    "def similar(a, b):\n",
    "    \"\"\"returns 1 if exact, else a ratio of similarity\"\"\"\n",
    "    return SequenceMatcher(None, a, b).ratio()\n",
    "\n",
    "\n",
    "def spawn_population(length=256, size=100):\n",
    "    pop = []\n",
    "    for i in range(size):\n",
    "        string = \"\".join(random.choices(alphabet, k=length))\n",
    "        individual = Individual(string)\n",
    "        pop.append(individual)\n",
    "    return pop"
   ]
  },
  {
   "cell_type": "code",
   "execution_count": 11,
   "id": "fe008784-2e6e-414d-8129-05a1aaf01621",
   "metadata": {
    "execution": {
     "iopub.execute_input": "2024-02-18T08:02:17.331028Z",
     "iopub.status.busy": "2024-02-18T08:02:17.302270Z",
     "iopub.status.idle": "2024-02-18T08:02:17.353405Z",
     "shell.execute_reply": "2024-02-18T08:02:17.349074Z",
     "shell.execute_reply.started": "2024-02-18T08:02:17.330983Z"
    }
   },
   "outputs": [],
   "source": [
    "def recombine(p1_, p2_):\n",
    "    p1 = p1_.string\n",
    "    p2 = p2_.string\n",
    "    child1 = []\n",
    "    child2 = []\n",
    "\n",
    "    cross_pt = random.randint(0, len(p1))\n",
    "    child1.extend(p1[0:cross_pt])\n",
    "    child1.extend(p2[cross_pt:])\n",
    "    child2.extend(p2[0:cross_pt])\n",
    "    child2.extend(p1[cross_pt:])\n",
    "    c1 = Individual(\"\".join(child1))\n",
    "    c2 = Individual(\"\".join(child2))\n",
    "    return c1, c2"
   ]
  },
  {
   "cell_type": "code",
   "execution_count": 34,
   "id": "844b1e13-c5af-49f9-9ea1-edc2e14a709f",
   "metadata": {
    "execution": {
     "iopub.execute_input": "2024-02-18T08:13:54.829567Z",
     "iopub.status.busy": "2024-02-18T08:13:54.829105Z",
     "iopub.status.idle": "2024-02-18T08:13:54.838432Z",
     "shell.execute_reply": "2024-02-18T08:13:54.835027Z",
     "shell.execute_reply.started": "2024-02-18T08:13:54.829537Z"
    }
   },
   "outputs": [],
   "source": [
    "def evaluate_population(pop, target):\n",
    "    avg_fit = 0\n",
    "    for i in range(len(pop)):\n",
    "        fit = similar(pop[i].string, target)\n",
    "        pop[i].fitness = fit\n",
    "        avg_fit += fit\n",
    "    avg_fit /= len(pop)\n",
    "    return pop, avg_fit"
   ]
  },
  {
   "cell_type": "code",
   "execution_count": 35,
   "id": "3afaceea-328d-48f2-bb7e-1e299aa1b62d",
   "metadata": {
    "execution": {
     "iopub.execute_input": "2024-02-18T08:13:55.161488Z",
     "iopub.status.busy": "2024-02-18T08:13:55.160916Z",
     "iopub.status.idle": "2024-02-18T08:13:55.168520Z",
     "shell.execute_reply": "2024-02-18T08:13:55.165931Z",
     "shell.execute_reply.started": "2024-02-18T08:13:55.161462Z"
    }
   },
   "outputs": [],
   "source": [
    "def mutate(x, mut_rate=0.01):\n",
    "    new_x_ = []\n",
    "    for char in x.string:\n",
    "        if random.random() < mut_rate:\n",
    "            new_x_.extend(random.choices(alphabet, k=1))\n",
    "        else:\n",
    "            new_x_.append(char)\n",
    "    new_x = Individual(\"\".join(new_x_))\n",
    "    return new_x"
   ]
  },
  {
   "cell_type": "code",
   "execution_count": 39,
   "id": "5144efb7-c3c6-4913-af7c-08f8cb4a38e4",
   "metadata": {
    "execution": {
     "iopub.execute_input": "2024-02-18T08:15:14.258650Z",
     "iopub.status.busy": "2024-02-18T08:15:14.257909Z",
     "iopub.status.idle": "2024-02-18T08:15:14.269701Z",
     "shell.execute_reply": "2024-02-18T08:15:14.264848Z",
     "shell.execute_reply.started": "2024-02-18T08:15:14.258612Z"
    }
   },
   "outputs": [],
   "source": [
    "def next_generation(pop, size=100, length=26, mut_rate=0.01):\n",
    "    new_pop = []\n",
    "    while len(new_pop) < size:\n",
    "        parents = random.choices(pop, k=2, weights=[x.fitness for x in pop])\n",
    "        offspring_ = recombine(parents[0], parents[1])\n",
    "        child1 = mutate(offspring_[0], mut_rate=mut_rate)\n",
    "        child2 = mutate(offspring_[1], mut_rate=mut_rate)\n",
    "        child1.fitness = similar(child1.string, target)\n",
    "        child2.fitness = similar(child2.string, target)\n",
    "        offspring = [child1, child2]\n",
    "        new_pop.extend(offspring)\n",
    "    return new_pop"
   ]
  },
  {
   "cell_type": "code",
   "execution_count": 40,
   "id": "c1d80ee7-57a6-449f-8e09-a55650e55f6a",
   "metadata": {
    "execution": {
     "iopub.execute_input": "2024-02-18T08:15:14.714771Z",
     "iopub.status.busy": "2024-02-18T08:15:14.714302Z",
     "iopub.status.idle": "2024-02-18T08:15:28.524107Z",
     "shell.execute_reply": "2024-02-18T08:15:28.522858Z",
     "shell.execute_reply.started": "2024-02-18T08:15:14.714742Z"
    }
   },
   "outputs": [
    {
     "name": "stderr",
     "output_type": "stream",
     "text": [
      "100%|████████████████████████████████████████████████████████████████████████████████████████████████████████████████| 150/150 [00:13<00:00, 10.88it/s]\n"
     ]
    },
    {
     "data": {
      "text/plain": [
       "'Helloorldr!l'"
      ]
     },
     "execution_count": 40,
     "metadata": {},
     "output_type": "execute_result"
    }
   ],
   "source": [
    "from tqdm.autonotebook import tqdm\n",
    "\n",
    "num_generations = 150\n",
    "population_size = 900\n",
    "str_len = len(target)\n",
    "mutation_rate = 0.00001\n",
    "\n",
    "pop_fit = []\n",
    "pop = spawn_population(size=population_size, length=str_len)\n",
    "for gen in tqdm(range(num_generations)):\n",
    "    pop, avg_fit = evaluate_population(pop, target)\n",
    "    pop_fit.append(avg_fit)\n",
    "    new_pop = next_generation(\n",
    "        pop, size=population_size, length=str_len, mut_rate=mutation_rate\n",
    "    )\n",
    "    pop = new_pop\n",
    "\n",
    "pop.sort(key=lambda x: x.fitness, reverse=True)\n",
    "pop[0].string"
   ]
  },
  {
   "cell_type": "code",
   "execution_count": 41,
   "id": "5afb6d6b-298e-46fd-93dc-f49de4019155",
   "metadata": {
    "execution": {
     "iopub.execute_input": "2024-02-18T08:15:28.538362Z",
     "iopub.status.busy": "2024-02-18T08:15:28.530722Z",
     "iopub.status.idle": "2024-02-18T08:15:28.576276Z",
     "shell.execute_reply": "2024-02-18T08:15:28.554514Z",
     "shell.execute_reply.started": "2024-02-18T08:15:28.538321Z"
    }
   },
   "outputs": [
    {
     "name": "stdout",
     "output_type": "stream",
     "text": [
      "Helloorldr!l 0.8333333333333334\n",
      "Helloorld!ud 0.8333333333333334\n",
      "Helloorld!!d 0.8333333333333334\n",
      "Helloorld!!d 0.8333333333333334\n",
      "Hello rld!!o 0.8333333333333334\n",
      "Helloorld!!d 0.8333333333333334\n",
      "Helloorld!!l 0.8333333333333334\n",
      "Helloorld!!o 0.8333333333333334\n",
      "Helloorldr!o 0.8333333333333334\n",
      "Helloorld!!o 0.8333333333333334\n"
     ]
    }
   ],
   "source": [
    "for p in pop[:10]:\n",
    "    print(p.string, p.fitness)"
   ]
  },
  {
   "cell_type": "code",
   "execution_count": 49,
   "id": "597913c4-c99e-4cf5-9832-e8e4346c6f7f",
   "metadata": {
    "execution": {
     "iopub.execute_input": "2024-02-18T08:34:02.719068Z",
     "iopub.status.busy": "2024-02-18T08:34:02.717612Z",
     "iopub.status.idle": "2024-02-18T08:34:03.509337Z",
     "shell.execute_reply": "2024-02-18T08:34:03.507637Z",
     "shell.execute_reply.started": "2024-02-18T08:34:02.719020Z"
    }
   },
   "outputs": [
    {
     "data": {
      "text/plain": [
       "[<matplotlib.lines.Line2D at 0x11f24fc50>]"
      ]
     },
     "execution_count": 49,
     "metadata": {},
     "output_type": "execute_result"
    },
    {
     "data": {
      "image/png": "[encoded data removed]",
      "text/plain": [
       "<Figure size 1200x700 with 1 Axes>"
      ]
     },
     "metadata": {},
     "output_type": "display_data"
    }
   ],
   "source": [
    "plt.figure(figsize=(12, 7))\n",
    "plt.xlabel(\"Generations\", fontsize=22)\n",
    "plt.ylabel(\"Fitness\", fontsize=22)\n",
    "plt.plot(pop_fit)"
   ]
  },
  {
   "cell_type": "markdown",
   "id": "d034f6cb-92d5-4cec-aa02-9ce542bc0255",
   "metadata": {},
   "source": [
    "## CartPole"
   ]
  },
  {
   "cell_type": "markdown",
   "id": "7124a9b4-c625-45f7-8155-cf78a965dec0",
   "metadata": {},
   "source": [
    "Total number of parameters:"
   ]
  },
  {
   "cell_type": "code",
   "execution_count": 51,
   "id": "ddcf7527-11a3-454b-ae34-c03cde115c9f",
   "metadata": {
    "execution": {
     "iopub.execute_input": "2024-02-18T08:35:45.816730Z",
     "iopub.status.busy": "2024-02-18T08:35:45.815999Z",
     "iopub.status.idle": "2024-02-18T08:35:45.833745Z",
     "shell.execute_reply": "2024-02-18T08:35:45.831058Z",
     "shell.execute_reply.started": "2024-02-18T08:35:45.816654Z"
    }
   },
   "outputs": [
    {
     "data": {
      "text/plain": [
       "407"
      ]
     },
     "execution_count": 51,
     "metadata": {},
     "output_type": "execute_result"
    }
   ],
   "source": [
    "4 * 25 + 25 + 10 * 25 + 10 + 2 * 10 + 2"
   ]
  },
  {
   "cell_type": "code",
   "execution_count": 62,
   "id": "7eed5f05-143f-45cd-94f0-0812678e0ae7",
   "metadata": {
    "execution": {
     "iopub.execute_input": "2024-02-18T08:57:12.859103Z",
     "iopub.status.busy": "2024-02-18T08:57:12.858304Z",
     "iopub.status.idle": "2024-02-18T08:57:12.886335Z",
     "shell.execute_reply": "2024-02-18T08:57:12.881989Z",
     "shell.execute_reply.started": "2024-02-18T08:57:12.859050Z"
    }
   },
   "outputs": [],
   "source": [
    "import numpy as np\n",
    "import torch\n",
    "\n",
    "\n",
    "def model(x, unpacked_params):\n",
    "    \"\"\"\n",
    "    a 3-layer neural network\n",
    "    the output is a log probabilities over actions\n",
    "    \"\"\"\n",
    "    l1, b1, l2, b2, l3, b3 = unpacked_params\n",
    "    y = torch.nn.functional.linear(x, l1, b1)\n",
    "    y = torch.relu(y)\n",
    "    y = torch.nn.functional.linear(y, l2, b2)\n",
    "    y = torch.relu(y)\n",
    "    y = torch.nn.functional.linear(y, l3, b3)\n",
    "    y = torch.log_softmax(y, dim=0)\n",
    "    return y\n",
    "\n",
    "\n",
    "def unpack_params(params, layers=[(25, 4), (10, 25), (2, 10)]):\n",
    "    unpacked_params = []\n",
    "    e = 0\n",
    "    for i, l in enumerate(layers):\n",
    "        s, e = e, e + np.prod(l)\n",
    "        weights = params[s:e].view(l)\n",
    "        s, e = e, e + l[0]\n",
    "        bias = params[s:e]\n",
    "        unpacked_params.extend([weights, bias])\n",
    "    return unpacked_params"
   ]
  },
  {
   "cell_type": "code",
   "execution_count": 45,
   "id": "e18c644e-4448-44c7-b888-96fe55f76d23",
   "metadata": {
    "execution": {
     "iopub.execute_input": "2024-02-18T08:25:44.820152Z",
     "iopub.status.busy": "2024-02-18T08:25:44.819722Z",
     "iopub.status.idle": "2024-02-18T08:25:44.826879Z",
     "shell.execute_reply": "2024-02-18T08:25:44.825779Z",
     "shell.execute_reply.started": "2024-02-18T08:25:44.820115Z"
    }
   },
   "outputs": [],
   "source": [
    "def spawn_population(N=50, size=407):\n",
    "    pop = []\n",
    "    for i in range(N):\n",
    "        vec = torch.randn(size) / 2.0\n",
    "        fit = 0\n",
    "        p = {\"params\": vec, \"fitness\": fit}\n",
    "        pop.append(p)\n",
    "    return pop"
   ]
  },
  {
   "cell_type": "code",
   "execution_count": 64,
   "id": "b2a0c568-89e7-424d-8025-0def37d83d65",
   "metadata": {
    "execution": {
     "iopub.execute_input": "2024-02-18T08:57:44.621555Z",
     "iopub.status.busy": "2024-02-18T08:57:44.617339Z",
     "iopub.status.idle": "2024-02-18T08:57:44.633473Z",
     "shell.execute_reply": "2024-02-18T08:57:44.631568Z",
     "shell.execute_reply.started": "2024-02-18T08:57:44.621507Z"
    }
   },
   "outputs": [],
   "source": [
    "def recombine(x1, x2):\n",
    "    \"\"\"shuffles around information that already exists\"\"\"\n",
    "    x1 = x1[\"params\"]\n",
    "    x2 = x2[\"params\"]\n",
    "    l = x1.shape[0]\n",
    "    split_pt = np.random.randint(l)\n",
    "    child1 = torch.zeros(l)\n",
    "    child2 = torch.zeros(l)\n",
    "\n",
    "    child1[0:split_pt] = x1[0:split_pt]\n",
    "    child1[split_pt:] = x2[split_pt:]\n",
    "    child2[0:split_pt] = x2[0:split_pt]\n",
    "    child2[split_pt:] = x1[split_pt:]\n",
    "    c1 = {\"params\": child1, \"fitness\": 0.0}\n",
    "    c2 = {\"params\": child2, \"fitness\": 0.0}\n",
    "    return c1, c2"
   ]
  },
  {
   "cell_type": "code",
   "execution_count": 52,
   "id": "7ec251b8-88bb-4756-a12e-5f5dd05ac612",
   "metadata": {
    "execution": {
     "iopub.execute_input": "2024-02-18T08:38:18.212438Z",
     "iopub.status.busy": "2024-02-18T08:38:18.210858Z",
     "iopub.status.idle": "2024-02-18T08:38:18.247134Z",
     "shell.execute_reply": "2024-02-18T08:38:18.244933Z",
     "shell.execute_reply.started": "2024-02-18T08:38:18.212391Z"
    }
   },
   "outputs": [],
   "source": [
    "def mutate(x, rate=0.01):\n",
    "    \"\"\"mutation is the only source of new genetic information in each generation\"\"\"\n",
    "    x_ = x[\"params\"]\n",
    "    num_to_change = int(rate * x_.shape[0])\n",
    "    idx = np.random.randint(low=0, high=x_.shape[0], size=(num_to_change,))\n",
    "    x_[idx] = torch.randn(num_to_change) / 10.0\n",
    "    x[\"params\"] = x_\n",
    "    return x"
   ]
  },
  {
   "cell_type": "code",
   "execution_count": 56,
   "id": "9a741f21-504c-4c43-8fa0-eafa50197ab0",
   "metadata": {
    "execution": {
     "iopub.execute_input": "2024-02-18T08:41:59.862803Z",
     "iopub.status.busy": "2024-02-18T08:41:59.862189Z",
     "iopub.status.idle": "2024-02-18T08:41:59.883243Z",
     "shell.execute_reply": "2024-02-18T08:41:59.882091Z",
     "shell.execute_reply.started": "2024-02-18T08:41:59.862759Z"
    }
   },
   "outputs": [],
   "source": [
    "import gymnasium as gym\n",
    "\n",
    "env = gym.make(\"CartPole-v1\")\n",
    "\n",
    "\n",
    "def test_model(agent):\n",
    "    obs, _ = env.reset()\n",
    "    state = torch.from_numpy(obs).float()\n",
    "    score = 0\n",
    "    done = False\n",
    "    while not done:\n",
    "        params = unpack_params(agent[\"params\"])\n",
    "        probs = model(state, params)\n",
    "        action = torch.distributions.Categorical(probs=probs).sample()\n",
    "        state_, reward, done, truncated, info = env.step(action.item())\n",
    "        state = torch.from_numpy(state_).float()\n",
    "        score += 1\n",
    "    return score"
   ]
  },
  {
   "cell_type": "code",
   "execution_count": 58,
   "id": "9fe8a2ba-257b-467e-8f53-07bee128f035",
   "metadata": {
    "execution": {
     "iopub.execute_input": "2024-02-18T08:42:45.798265Z",
     "iopub.status.busy": "2024-02-18T08:42:45.797824Z",
     "iopub.status.idle": "2024-02-18T08:42:45.805096Z",
     "shell.execute_reply": "2024-02-18T08:42:45.803593Z",
     "shell.execute_reply.started": "2024-02-18T08:42:45.798227Z"
    }
   },
   "outputs": [],
   "source": [
    "def evaluate_population(pop):\n",
    "    tot_fit = 0\n",
    "    lp = len(pop)\n",
    "    for agent in pop:\n",
    "        score = test_model(agent)\n",
    "        agent[\"fitness\"] = score\n",
    "        tot_fit += score\n",
    "    avg_fit = tot_fit / lp\n",
    "    return pop, avg_fit"
   ]
  },
  {
   "cell_type": "code",
   "execution_count": 60,
   "id": "3af9446b-fa29-4cc5-9df4-00213d41fe85",
   "metadata": {
    "execution": {
     "iopub.execute_input": "2024-02-18T08:55:11.264739Z",
     "iopub.status.busy": "2024-02-18T08:55:11.261591Z",
     "iopub.status.idle": "2024-02-18T08:55:11.280251Z",
     "shell.execute_reply": "2024-02-18T08:55:11.278553Z",
     "shell.execute_reply.started": "2024-02-18T08:55:11.264692Z"
    }
   },
   "outputs": [],
   "source": [
    "def next_generation(pop, mut_rate=0.001, tournament_size=0.2):\n",
    "    new_pop = []\n",
    "    lp = len(pop)\n",
    "    while len(new_pop) < len(pop):\n",
    "        rids = np.random.randint(low=0, high=lp, size=(int(tournament_size * lp)))\n",
    "        batch = np.array([[i, x[\"fitness\"]] for (i, x) in enumerate(pop) if i in rids])\n",
    "        scores = batch[batch[:, 1].argsort()]\n",
    "        i0, i1 = int(scores[-1][0]), int(scores[-2][0])\n",
    "        parent0, parent1 = pop[i0], pop[i1]\n",
    "        offspring_ = recombine(parent0, parent1)\n",
    "        child1 = mutate(offspring_[0], rate=mut_rate)\n",
    "        child2 = mutate(offspring_[1], rate=mut_rate)\n",
    "        offspring = [child1, child2]\n",
    "        new_pop.extend(offspring)\n",
    "    return new_pop"
   ]
  },
  {
   "cell_type": "code",
   "execution_count": 66,
   "id": "ebf3f60c-381b-4c00-9055-86f4d8151262",
   "metadata": {
    "execution": {
     "iopub.execute_input": "2024-02-18T08:58:22.999632Z",
     "iopub.status.busy": "2024-02-18T08:58:22.999263Z",
     "iopub.status.idle": "2024-02-18T09:15:30.432815Z",
     "shell.execute_reply": "2024-02-18T09:15:30.429709Z",
     "shell.execute_reply.started": "2024-02-18T08:58:22.999604Z"
    }
   },
   "outputs": [
    {
     "name": "stderr",
     "output_type": "stream",
     "text": [
      "100%|██████████████████████████████████████████████████████████████████████████████████████████████████████████████████| 25/25 [17:07<00:00, 41.10s/it]\n"
     ]
    }
   ],
   "source": [
    "from tqdm.autonotebook import tqdm\n",
    "\n",
    "num_generations = 25\n",
    "population_size = 500\n",
    "mutation_rate = 0.01\n",
    "pop_fit = []\n",
    "pop = spawn_population(N=population_size, size=407)\n",
    "\n",
    "for i in tqdm(range(num_generations)):\n",
    "    pop, avg_fit = evaluate_population(pop)\n",
    "    pop_fit.append(avg_fit)\n",
    "    pop = next_generation(pop, mut_rate=mutation_rate, tournament_size=0.2)"
   ]
  },
  {
   "cell_type": "code",
   "execution_count": null,
   "id": "3eb4d8d7-d4fa-4096-bd59-a1ac7374f0bb",
   "metadata": {},
   "outputs": [],
   "source": [
    "def running_mean(x, n=5):\n",
    "    conv = np.ones(n)\n",
    "    y = np.zeros(x.shape[0] - n)\n",
    "    for i in range(x.shape[0] - n):\n",
    "        y[i] = (conv @ x[i : i + n]) / n\n",
    "    return y"
   ]
  },
  {
   "cell_type": "code",
   "execution_count": null,
   "id": "b889d3a2-7e31-4bc2-a1e7-8b27f55ab0ec",
   "metadata": {},
   "outputs": [],
   "source": [
    "plt.figure(figsize=(12, 7))\n",
    "plt.xlabel(\"Generations\", fontsize=22)\n",
    "plt.ylabel(\"Score\", fontsize=22)\n",
    "plt.plot(running_mean(np.array(pop_fit), 3))"
   ]
  }
 ],
 "metadata": {
  "kernelspec": {
   "display_name": "Python 3 (ipykernel)",
   "language": "python",
   "name": "python3"
  },
  "language_info": {
   "codemirror_mode": {
    "name": "ipython",
    "version": 3
   },
   "file_extension": ".py",
   "mimetype": "text/x-python",
   "name": "python",
   "nbconvert_exporter": "python",
   "pygments_lexer": "ipython3",
   "version": "3.12.8"
  }
 },
 "nbformat": 4,
 "nbformat_minor": 5
}
