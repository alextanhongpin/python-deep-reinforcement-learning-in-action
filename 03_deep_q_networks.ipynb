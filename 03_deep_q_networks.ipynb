{
 "cells": [
  {
   "cell_type": "markdown",
   "id": "432e9642-17e3-47d6-8881-7330a5074005",
   "metadata": {},
   "source": [
    "## GridWorld"
   ]
  },
  {
   "cell_type": "code",
   "execution_count": 17,
   "id": "d93e7a9f-5d77-4d22-acf8-8e006cb94ce1",
   "metadata": {
    "execution": {
     "iopub.execute_input": "2024-02-17T05:39:32.897159Z",
     "iopub.status.busy": "2024-02-17T05:39:32.896483Z",
     "iopub.status.idle": "2024-02-17T05:39:33.064140Z",
     "shell.execute_reply": "2024-02-17T05:39:33.035192Z",
     "shell.execute_reply.started": "2024-02-17T05:39:32.897121Z"
    }
   },
   "outputs": [
    {
     "data": {
      "text/plain": [
       "array([['+', '-', ' ', 'P'],\n",
       "       [' ', 'W', ' ', ' '],\n",
       "       [' ', ' ', ' ', ' '],\n",
       "       [' ', ' ', ' ', ' ']], dtype='<U2')"
      ]
     },
     "execution_count": 17,
     "metadata": {},
     "output_type": "execute_result"
    }
   ],
   "source": [
    "from environment import Gridworld\n",
    "\n",
    "game = Gridworld(size=4, mode='static')\n",
    "game.display()"
   ]
  },
  {
   "cell_type": "code",
   "execution_count": 18,
   "id": "08558017-e021-4207-ae7b-71f8b61511ed",
   "metadata": {
    "execution": {
     "iopub.execute_input": "2024-02-17T05:39:33.133605Z",
     "iopub.status.busy": "2024-02-17T05:39:33.133204Z",
     "iopub.status.idle": "2024-02-17T05:39:33.142622Z",
     "shell.execute_reply": "2024-02-17T05:39:33.141393Z",
     "shell.execute_reply.started": "2024-02-17T05:39:33.133581Z"
    }
   },
   "outputs": [
    {
     "data": {
      "text/plain": [
       "array([['+', '-', ' ', ' '],\n",
       "       [' ', 'W', ' ', 'P'],\n",
       "       [' ', ' ', ' ', ' '],\n",
       "       [' ', ' ', ' ', ' ']], dtype='<U2')"
      ]
     },
     "execution_count": 18,
     "metadata": {},
     "output_type": "execute_result"
    }
   ],
   "source": [
    "game.makeMove('d')\n",
    "game.display()"
   ]
  },
  {
   "cell_type": "code",
   "execution_count": 19,
   "id": "dfc43001-13f9-488d-8564-5413b3e1066a",
   "metadata": {
    "execution": {
     "iopub.execute_input": "2024-02-17T05:39:33.319973Z",
     "iopub.status.busy": "2024-02-17T05:39:33.318398Z",
     "iopub.status.idle": "2024-02-17T05:39:33.343875Z",
     "shell.execute_reply": "2024-02-17T05:39:33.334650Z",
     "shell.execute_reply.started": "2024-02-17T05:39:33.319946Z"
    }
   },
   "outputs": [
    {
     "data": {
      "text/plain": [
       "-1"
      ]
     },
     "execution_count": 19,
     "metadata": {},
     "output_type": "execute_result"
    }
   ],
   "source": [
    "game.reward()"
   ]
  },
  {
   "cell_type": "code",
   "execution_count": 20,
   "id": "e3ea5036-620b-435a-9798-423c76f740c7",
   "metadata": {
    "execution": {
     "iopub.execute_input": "2024-02-17T05:39:33.528813Z",
     "iopub.status.busy": "2024-02-17T05:39:33.528248Z",
     "iopub.status.idle": "2024-02-17T05:39:33.534591Z",
     "shell.execute_reply": "2024-02-17T05:39:33.533899Z",
     "shell.execute_reply.started": "2024-02-17T05:39:33.528791Z"
    }
   },
   "outputs": [
    {
     "data": {
      "text/plain": [
       "(array([[0, 0, 0, 0],\n",
       "        [0, 0, 0, 1],\n",
       "        [0, 0, 0, 0],\n",
       "        [0, 0, 0, 0]], dtype=uint8),\n",
       " array([[1, 0, 0, 0],\n",
       "        [0, 0, 0, 0],\n",
       "        [0, 0, 0, 0],\n",
       "        [0, 0, 0, 0]], dtype=uint8),\n",
       " array([[0, 1, 0, 0],\n",
       "        [0, 0, 0, 0],\n",
       "        [0, 0, 0, 0],\n",
       "        [0, 0, 0, 0]], dtype=uint8),\n",
       " array([[0, 0, 0, 0],\n",
       "        [0, 1, 0, 0],\n",
       "        [0, 0, 0, 0],\n",
       "        [0, 0, 0, 0]], dtype=uint8))"
      ]
     },
     "execution_count": 20,
     "metadata": {},
     "output_type": "execute_result"
    }
   ],
   "source": [
    "player, goal, pit, wall = game.board.render_np()\n",
    "player, goal, pit, wall"
   ]
  },
  {
   "cell_type": "markdown",
   "id": "0d7b743d-49aa-4b9d-9ae1-82743fcf277f",
   "metadata": {},
   "source": [
    "## Neural Network Q Function"
   ]
  },
  {
   "cell_type": "code",
   "execution_count": 21,
   "id": "209a2c46-7b38-45e7-93da-c95a2c7bfcee",
   "metadata": {
    "execution": {
     "iopub.execute_input": "2024-02-17T05:39:34.284139Z",
     "iopub.status.busy": "2024-02-17T05:39:34.283762Z",
     "iopub.status.idle": "2024-02-17T05:39:34.290987Z",
     "shell.execute_reply": "2024-02-17T05:39:34.288987Z",
     "shell.execute_reply.started": "2024-02-17T05:39:34.284113Z"
    }
   },
   "outputs": [],
   "source": [
    "import numpy as np\n",
    "import torch\n",
    "import random\n",
    "from tqdm.autonotebook import tqdm\n",
    "import matplotlib.pyplot as plt"
   ]
  },
  {
   "cell_type": "code",
   "execution_count": 22,
   "id": "ea6cc04e-d380-4b42-976b-e0636a321904",
   "metadata": {
    "execution": {
     "iopub.execute_input": "2024-02-17T05:39:35.127335Z",
     "iopub.status.busy": "2024-02-17T05:39:35.126887Z",
     "iopub.status.idle": "2024-02-17T05:39:35.134272Z",
     "shell.execute_reply": "2024-02-17T05:39:35.132681Z",
     "shell.execute_reply.started": "2024-02-17T05:39:35.127293Z"
    }
   },
   "outputs": [],
   "source": [
    "def create_model():\n",
    "    model = torch.nn.Sequential(\n",
    "        torch.nn.Linear(64, 150),\n",
    "        torch.nn.ReLU(),\n",
    "        torch.nn.Linear(150, 100),\n",
    "        torch.nn.ReLU(),\n",
    "        torch.nn.Linear(100, 4)\n",
    "    )\n",
    "    return model"
   ]
  },
  {
   "cell_type": "code",
   "execution_count": 23,
   "id": "7e24e79f-5d3b-4d34-8028-327c76b30fe4",
   "metadata": {
    "execution": {
     "iopub.execute_input": "2024-02-17T05:39:35.722434Z",
     "iopub.status.busy": "2024-02-17T05:39:35.721181Z",
     "iopub.status.idle": "2024-02-17T05:39:35.728921Z",
     "shell.execute_reply": "2024-02-17T05:39:35.727215Z",
     "shell.execute_reply.started": "2024-02-17T05:39:35.722385Z"
    }
   },
   "outputs": [],
   "source": [
    "action_set = {0:'u', 1:'d', 2: 'l', 3:'r'}"
   ]
  },
  {
   "cell_type": "code",
   "execution_count": 26,
   "id": "7f14409d-9ee0-4014-8b34-714f00e34058",
   "metadata": {
    "execution": {
     "iopub.execute_input": "2024-02-17T05:41:51.331569Z",
     "iopub.status.busy": "2024-02-17T05:41:51.329524Z",
     "iopub.status.idle": "2024-02-17T05:42:20.185342Z",
     "shell.execute_reply": "2024-02-17T05:42:20.184299Z",
     "shell.execute_reply.started": "2024-02-17T05:41:51.331508Z"
    }
   },
   "outputs": [
    {
     "name": "stderr",
     "output_type": "stream",
     "text": [
      "100%|██████████████████████████████████████████████████████████████████████████████████████████████████████████████| 1000/1000 [00:28<00:00, 34.68it/s]\n"
     ]
    }
   ],
   "source": [
    "def get_state(game):\n",
    "    state = game.board.render_np().reshape(1, 64)\n",
    "    noise = np.random.rand(1, 64)/10.0\n",
    "    return torch.from_numpy(state + noise).float()\n",
    "\n",
    "def epsilon_greedy(action_values, epsilon=1.0):\n",
    "    if random.random() < epsilon:\n",
    "        return np.random.randint(0, 4)\n",
    "    return np.argmax(action_values)\n",
    "\n",
    "def train_model(model, mode='static'):\n",
    "    loss_fn = torch.nn.MSELoss()\n",
    "    optimizer = torch.optim.Adam(model.parameters(), lr=1e-3)\n",
    "    \n",
    "    gamma = 0.9\n",
    "    epsilon = 1.0\n",
    "    epochs = 1_000\n",
    "    losses = []\n",
    "    for i in tqdm(range(epochs)):\n",
    "        # Start a game in each epoch.\n",
    "        game = Gridworld(size=4, mode=mode)\n",
    "        state1 = get_state(game)\n",
    "        while True:\n",
    "            qval = model(state1)\n",
    "            qval_ = qval.data.numpy()\n",
    "    \n",
    "            # Select an action using epsilon-greedy method.\n",
    "            action_ = epsilon_greedy(qval_, epsilon=epsilon)\n",
    "    \n",
    "            action = action_set[action_]\n",
    "            game.makeMove(action)\n",
    "            state2 = get_state(game)\n",
    "            reward = game.reward()\n",
    "    \n",
    "            with torch.no_grad():\n",
    "                newQ = model(state2.reshape(1, 64))\n",
    "            maxQ = torch.max(newQ)\n",
    "            if reward == -1:\n",
    "                Y = reward + (gamma * maxQ)\n",
    "            else:\n",
    "                Y = reward\n",
    "            Y = torch.Tensor([Y]).detach().squeeze()\n",
    "            X = qval.squeeze()[action_]\n",
    "            \n",
    "            loss = loss_fn(X, Y)\n",
    "            optimizer.zero_grad()\n",
    "            loss.backward()\n",
    "            losses.append(loss.item())\n",
    "            optimizer.step()\n",
    "            state1 = state2\n",
    "            # If the reward is -1, the game hasn't been won or lost \n",
    "            # and is still in progress.\n",
    "            if reward != -1:\n",
    "                break\n",
    "        if epsilon > 0.1:\n",
    "            epsilon -= 1/epochs\n",
    "    return losses\n",
    "\n",
    "model = create_model()\n",
    "losses = train_model(model)"
   ]
  },
  {
   "cell_type": "code",
   "execution_count": 27,
   "id": "18ae9438-9b21-4a84-aa2f-e94bc924b5a9",
   "metadata": {
    "execution": {
     "iopub.execute_input": "2024-02-17T05:42:28.801962Z",
     "iopub.status.busy": "2024-02-17T05:42:28.800854Z",
     "iopub.status.idle": "2024-02-17T05:42:29.182747Z",
     "shell.execute_reply": "2024-02-17T05:42:29.181802Z",
     "shell.execute_reply.started": "2024-02-17T05:42:28.801923Z"
    }
   },
   "outputs": [
    {
     "data": {
      "text/plain": [
       "Text(0, 0.5, 'Loss')"
      ]
     },
     "execution_count": 27,
     "metadata": {},
     "output_type": "execute_result"
    },
    {
     "data": {
      "image/png": "[encoded data removed]",
      "text/plain": [
       "<Figure size 640x480 with 1 Axes>"
      ]
     },
     "metadata": {},
     "output_type": "display_data"
    }
   ],
   "source": [
    "plt.plot(range(len(losses)), losses)\n",
    "plt.xlabel('Epochs')\n",
    "plt.ylabel('Loss')"
   ]
  },
  {
   "cell_type": "markdown",
   "id": "66366cca-b843-471c-9e92-3c02538c1068",
   "metadata": {},
   "source": [
    "## Testing"
   ]
  },
  {
   "cell_type": "code",
   "execution_count": 28,
   "id": "39540259-6d24-4c98-95cd-2aceac7e9626",
   "metadata": {
    "execution": {
     "iopub.execute_input": "2024-02-17T05:42:32.197606Z",
     "iopub.status.busy": "2024-02-17T05:42:32.196704Z",
     "iopub.status.idle": "2024-02-17T05:42:32.281186Z",
     "shell.execute_reply": "2024-02-17T05:42:32.206852Z",
     "shell.execute_reply.started": "2024-02-17T05:42:32.197572Z"
    }
   },
   "outputs": [],
   "source": [
    "def test_model(model, mode='static', display=True):\n",
    "    test_game = Gridworld(size=4, mode=mode)\n",
    "    \n",
    "    def loop():    \n",
    "        state = get_state(test_game)\n",
    "        \n",
    "        i = 0\n",
    "        while True:\n",
    "            qval = model(state)\n",
    "            qval_ = qval.data.numpy()\n",
    "            action_ = np.argmax(qval_)\n",
    "            action = action_set[action_]\n",
    "            test_game.makeMove(action)\n",
    "            if display:\n",
    "                print(f'Move #: {i}; Taking action: {action} {test_game.reward()}')\n",
    "                print(test_game.display())\n",
    "            reward = test_game.reward()\n",
    "            if reward != -1:\n",
    "                if reward > 0:\n",
    "                    return f'Game won! Reward: {reward}'\n",
    "                else:\n",
    "                    return f'Game lost. Reward: {reward}'\n",
    "                    \n",
    "            i += 1\n",
    "            if i > 15:\n",
    "                return 'Game lost; too many moves.'\n",
    "            state = get_state(test_game)\n",
    "            \n",
    "    if display:\n",
    "        print('Initial State:')\n",
    "        print(test_game.display())\n",
    "        print(loop())\n",
    "    else:\n",
    "        loop()"
   ]
  },
  {
   "cell_type": "code",
   "execution_count": 29,
   "id": "c0f9ad1d-0dd9-46a3-83aa-bd2a85df2597",
   "metadata": {
    "execution": {
     "iopub.execute_input": "2024-02-17T05:42:32.652756Z",
     "iopub.status.busy": "2024-02-17T05:42:32.652394Z",
     "iopub.status.idle": "2024-02-17T05:42:32.662806Z",
     "shell.execute_reply": "2024-02-17T05:42:32.659299Z",
     "shell.execute_reply.started": "2024-02-17T05:42:32.652728Z"
    }
   },
   "outputs": [
    {
     "name": "stdout",
     "output_type": "stream",
     "text": [
      "Initial State:\n",
      "[['+' '-' ' ' 'P']\n",
      " [' ' 'W' ' ' ' ']\n",
      " [' ' ' ' ' ' ' ']\n",
      " [' ' ' ' ' ' ' ']]\n",
      "Move #: 0; Taking action: d -1\n",
      "[['+' '-' ' ' ' ']\n",
      " [' ' 'W' ' ' 'P']\n",
      " [' ' ' ' ' ' ' ']\n",
      " [' ' ' ' ' ' ' ']]\n",
      "Move #: 1; Taking action: l -1\n",
      "[['+' '-' ' ' ' ']\n",
      " [' ' 'W' 'P' ' ']\n",
      " [' ' ' ' ' ' ' ']\n",
      " [' ' ' ' ' ' ' ']]\n",
      "Move #: 2; Taking action: d -1\n",
      "[['+' '-' ' ' ' ']\n",
      " [' ' 'W' ' ' ' ']\n",
      " [' ' ' ' 'P' ' ']\n",
      " [' ' ' ' ' ' ' ']]\n",
      "Move #: 3; Taking action: l -1\n",
      "[['+' '-' ' ' ' ']\n",
      " [' ' 'W' ' ' ' ']\n",
      " [' ' 'P' ' ' ' ']\n",
      " [' ' ' ' ' ' ' ']]\n",
      "Move #: 4; Taking action: l -1\n",
      "[['+' '-' ' ' ' ']\n",
      " [' ' 'W' ' ' ' ']\n",
      " ['P' ' ' ' ' ' ']\n",
      " [' ' ' ' ' ' ' ']]\n",
      "Move #: 5; Taking action: u -1\n",
      "[['+' '-' ' ' ' ']\n",
      " ['P' 'W' ' ' ' ']\n",
      " [' ' ' ' ' ' ' ']\n",
      " [' ' ' ' ' ' ' ']]\n",
      "Move #: 6; Taking action: u 10\n",
      "[['+' '-' ' ' ' ']\n",
      " [' ' 'W' ' ' ' ']\n",
      " [' ' ' ' ' ' ' ']\n",
      " [' ' ' ' ' ' ' ']]\n",
      "Game won! Reward: 10\n"
     ]
    }
   ],
   "source": [
    "test_model(model, 'static')"
   ]
  },
  {
   "cell_type": "markdown",
   "id": "f0c22049-5a79-489e-8f4f-804144e4e96b",
   "metadata": {},
   "source": [
    "## Random"
   ]
  },
  {
   "cell_type": "code",
   "execution_count": 30,
   "id": "94b11520-5e0c-49db-ac32-b9a66e841704",
   "metadata": {
    "execution": {
     "iopub.execute_input": "2024-02-17T05:42:34.162267Z",
     "iopub.status.busy": "2024-02-17T05:42:34.161898Z",
     "iopub.status.idle": "2024-02-17T05:42:34.183306Z",
     "shell.execute_reply": "2024-02-17T05:42:34.182268Z",
     "shell.execute_reply.started": "2024-02-17T05:42:34.162242Z"
    }
   },
   "outputs": [
    {
     "name": "stdout",
     "output_type": "stream",
     "text": [
      "Initial State:\n",
      "[[' ' '+' ' ' 'W']\n",
      " [' ' ' ' ' ' ' ']\n",
      " ['P' ' ' ' ' '-']\n",
      " [' ' ' ' ' ' ' ']]\n",
      "Move #: 0; Taking action: u -1\n",
      "[[' ' '+' ' ' 'W']\n",
      " ['P' ' ' ' ' ' ']\n",
      " [' ' ' ' ' ' '-']\n",
      " [' ' ' ' ' ' ' ']]\n",
      "Move #: 1; Taking action: u -1\n",
      "[['P' '+' ' ' 'W']\n",
      " [' ' ' ' ' ' ' ']\n",
      " [' ' ' ' ' ' '-']\n",
      " [' ' ' ' ' ' ' ']]\n",
      "Move #: 2; Taking action: u -1\n",
      "[['P' '+' ' ' 'W']\n",
      " [' ' ' ' ' ' ' ']\n",
      " [' ' ' ' ' ' '-']\n",
      " [' ' ' ' ' ' ' ']]\n",
      "Move #: 3; Taking action: u -1\n",
      "[['P' '+' ' ' 'W']\n",
      " [' ' ' ' ' ' ' ']\n",
      " [' ' ' ' ' ' '-']\n",
      " [' ' ' ' ' ' ' ']]\n",
      "Move #: 4; Taking action: u -1\n",
      "[['P' '+' ' ' 'W']\n",
      " [' ' ' ' ' ' ' ']\n",
      " [' ' ' ' ' ' '-']\n",
      " [' ' ' ' ' ' ' ']]\n",
      "Move #: 5; Taking action: u -1\n",
      "[['P' '+' ' ' 'W']\n",
      " [' ' ' ' ' ' ' ']\n",
      " [' ' ' ' ' ' '-']\n",
      " [' ' ' ' ' ' ' ']]\n",
      "Move #: 6; Taking action: u -1\n",
      "[['P' '+' ' ' 'W']\n",
      " [' ' ' ' ' ' ' ']\n",
      " [' ' ' ' ' ' '-']\n",
      " [' ' ' ' ' ' ' ']]\n",
      "Move #: 7; Taking action: l -1\n",
      "[['P' '+' ' ' 'W']\n",
      " [' ' ' ' ' ' ' ']\n",
      " [' ' ' ' ' ' '-']\n",
      " [' ' ' ' ' ' ' ']]\n",
      "Move #: 8; Taking action: u -1\n",
      "[['P' '+' ' ' 'W']\n",
      " [' ' ' ' ' ' ' ']\n",
      " [' ' ' ' ' ' '-']\n",
      " [' ' ' ' ' ' ' ']]\n",
      "Move #: 9; Taking action: u -1\n",
      "[['P' '+' ' ' 'W']\n",
      " [' ' ' ' ' ' ' ']\n",
      " [' ' ' ' ' ' '-']\n",
      " [' ' ' ' ' ' ' ']]\n",
      "Move #: 10; Taking action: u -1\n",
      "[['P' '+' ' ' 'W']\n",
      " [' ' ' ' ' ' ' ']\n",
      " [' ' ' ' ' ' '-']\n",
      " [' ' ' ' ' ' ' ']]\n",
      "Move #: 11; Taking action: l -1\n",
      "[['P' '+' ' ' 'W']\n",
      " [' ' ' ' ' ' ' ']\n",
      " [' ' ' ' ' ' '-']\n",
      " [' ' ' ' ' ' ' ']]\n",
      "Move #: 12; Taking action: u -1\n",
      "[['P' '+' ' ' 'W']\n",
      " [' ' ' ' ' ' ' ']\n",
      " [' ' ' ' ' ' '-']\n",
      " [' ' ' ' ' ' ' ']]\n",
      "Move #: 13; Taking action: l -1\n",
      "[['P' '+' ' ' 'W']\n",
      " [' ' ' ' ' ' ' ']\n",
      " [' ' ' ' ' ' '-']\n",
      " [' ' ' ' ' ' ' ']]\n",
      "Move #: 14; Taking action: u -1\n",
      "[['P' '+' ' ' 'W']\n",
      " [' ' ' ' ' ' ' ']\n",
      " [' ' ' ' ' ' '-']\n",
      " [' ' ' ' ' ' ' ']]\n",
      "Move #: 15; Taking action: u -1\n",
      "[['P' '+' ' ' 'W']\n",
      " [' ' ' ' ' ' ' ']\n",
      " [' ' ' ' ' ' '-']\n",
      " [' ' ' ' ' ' ' ']]\n",
      "Game lost; too many moves.\n"
     ]
    }
   ],
   "source": [
    "test_model(model, 'random')"
   ]
  },
  {
   "cell_type": "code",
   "execution_count": 31,
   "id": "83e198e1-02e9-46b6-ad16-a7d816603aaf",
   "metadata": {
    "execution": {
     "iopub.execute_input": "2024-02-17T05:42:34.643765Z",
     "iopub.status.busy": "2024-02-17T05:42:34.643304Z",
     "iopub.status.idle": "2024-02-17T05:43:12.844181Z",
     "shell.execute_reply": "2024-02-17T05:43:12.842824Z",
     "shell.execute_reply.started": "2024-02-17T05:42:34.643733Z"
    }
   },
   "outputs": [
    {
     "name": "stderr",
     "output_type": "stream",
     "text": [
      "100%|██████████████████████████████████████████████████████████████████████████████████████████████████████████████| 1000/1000 [00:38<00:00, 26.19it/s]\n"
     ]
    }
   ],
   "source": [
    "model = create_model()\n",
    "losses = train_model(model, 'random')"
   ]
  },
  {
   "cell_type": "code",
   "execution_count": 32,
   "id": "481980bb-994e-43c8-ae9c-3ad51b7f8946",
   "metadata": {
    "execution": {
     "iopub.execute_input": "2024-02-17T05:43:12.846808Z",
     "iopub.status.busy": "2024-02-17T05:43:12.846203Z",
     "iopub.status.idle": "2024-02-17T05:43:13.314287Z",
     "shell.execute_reply": "2024-02-17T05:43:13.313237Z",
     "shell.execute_reply.started": "2024-02-17T05:43:12.846782Z"
    }
   },
   "outputs": [
    {
     "data": {
      "text/plain": [
       "Text(0, 0.5, 'Loss')"
      ]
     },
     "execution_count": 32,
     "metadata": {},
     "output_type": "execute_result"
    },
    {
     "data": {
      "image/png": "[encoded data removed]",
      "text/plain": [
       "<Figure size 640x480 with 1 Axes>"
      ]
     },
     "metadata": {},
     "output_type": "display_data"
    }
   ],
   "source": [
    "plt.plot(range(len(losses)), losses)\n",
    "plt.xlabel('Epochs')\n",
    "plt.ylabel('Loss')"
   ]
  },
  {
   "cell_type": "markdown",
   "id": "e66b7fc0-2c07-45d6-867e-7eeb56d82a63",
   "metadata": {},
   "source": [
    "The loss plot for Q-learning in random model, which doesn't show any sign of convergence."
   ]
  }
 ],
 "metadata": {
  "kernelspec": {
   "display_name": "Python 3 (ipykernel)",
   "language": "python",
   "name": "python3"
  },
  "language_info": {
   "codemirror_mode": {
    "name": "ipython",
    "version": 3
   },
   "file_extension": ".py",
   "mimetype": "text/x-python",
   "name": "python",
   "nbconvert_exporter": "python",
   "pygments_lexer": "ipython3",
   "version": "3.11.7"
  }
 },
 "nbformat": 4,
 "nbformat_minor": 5
}
