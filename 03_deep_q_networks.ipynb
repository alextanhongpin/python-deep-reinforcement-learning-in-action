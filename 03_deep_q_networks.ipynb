{
 "cells": [
  {
   "cell_type": "markdown",
   "id": "432e9642-17e3-47d6-8881-7330a5074005",
   "metadata": {},
   "source": [
    "## GridWorld"
   ]
  },
  {
   "cell_type": "code",
   "execution_count": 1,
   "id": "d93e7a9f-5d77-4d22-acf8-8e006cb94ce1",
   "metadata": {
    "execution": {
     "iopub.execute_input": "2024-02-16T17:46:38.098132Z",
     "iopub.status.busy": "2024-02-16T17:46:38.097557Z",
     "iopub.status.idle": "2024-02-16T17:46:38.444851Z",
     "shell.execute_reply": "2024-02-16T17:46:38.440637Z",
     "shell.execute_reply.started": "2024-02-16T17:46:38.098093Z"
    }
   },
   "outputs": [
    {
     "data": {
      "text/plain": [
       "array([['+', '-', ' ', 'P'],\n",
       "       [' ', 'W', ' ', ' '],\n",
       "       [' ', ' ', ' ', ' '],\n",
       "       [' ', ' ', ' ', ' ']], dtype='<U2')"
      ]
     },
     "execution_count": 1,
     "metadata": {},
     "output_type": "execute_result"
    }
   ],
   "source": [
    "from environment import Gridworld\n",
    "\n",
    "game = Gridworld(size=4, mode='static')\n",
    "game.display()"
   ]
  },
  {
   "cell_type": "code",
   "execution_count": 2,
   "id": "08558017-e021-4207-ae7b-71f8b61511ed",
   "metadata": {
    "execution": {
     "iopub.execute_input": "2024-02-16T17:46:38.448042Z",
     "iopub.status.busy": "2024-02-16T17:46:38.447370Z",
     "iopub.status.idle": "2024-02-16T17:46:38.466693Z",
     "shell.execute_reply": "2024-02-16T17:46:38.455361Z",
     "shell.execute_reply.started": "2024-02-16T17:46:38.448005Z"
    }
   },
   "outputs": [
    {
     "data": {
      "text/plain": [
       "array([['+', '-', ' ', ' '],\n",
       "       [' ', 'W', ' ', 'P'],\n",
       "       [' ', ' ', ' ', ' '],\n",
       "       [' ', ' ', ' ', ' ']], dtype='<U2')"
      ]
     },
     "execution_count": 2,
     "metadata": {},
     "output_type": "execute_result"
    }
   ],
   "source": [
    "game.makeMove('d')\n",
    "game.display()"
   ]
  },
  {
   "cell_type": "code",
   "execution_count": 3,
   "id": "dfc43001-13f9-488d-8564-5413b3e1066a",
   "metadata": {
    "execution": {
     "iopub.execute_input": "2024-02-16T17:46:38.501021Z",
     "iopub.status.busy": "2024-02-16T17:46:38.500570Z",
     "iopub.status.idle": "2024-02-16T17:46:38.521637Z",
     "shell.execute_reply": "2024-02-16T17:46:38.506868Z",
     "shell.execute_reply.started": "2024-02-16T17:46:38.500980Z"
    }
   },
   "outputs": [
    {
     "data": {
      "text/plain": [
       "-1"
      ]
     },
     "execution_count": 3,
     "metadata": {},
     "output_type": "execute_result"
    }
   ],
   "source": [
    "game.reward()"
   ]
  },
  {
   "cell_type": "code",
   "execution_count": 4,
   "id": "e3ea5036-620b-435a-9798-423c76f740c7",
   "metadata": {
    "execution": {
     "iopub.execute_input": "2024-02-16T17:46:38.525070Z",
     "iopub.status.busy": "2024-02-16T17:46:38.523658Z",
     "iopub.status.idle": "2024-02-16T17:46:38.557684Z",
     "shell.execute_reply": "2024-02-16T17:46:38.555669Z",
     "shell.execute_reply.started": "2024-02-16T17:46:38.525039Z"
    }
   },
   "outputs": [
    {
     "data": {
      "text/plain": [
       "(array([[0, 0, 0, 0],\n",
       "        [0, 0, 0, 1],\n",
       "        [0, 0, 0, 0],\n",
       "        [0, 0, 0, 0]], dtype=uint8),\n",
       " array([[1, 0, 0, 0],\n",
       "        [0, 0, 0, 0],\n",
       "        [0, 0, 0, 0],\n",
       "        [0, 0, 0, 0]], dtype=uint8),\n",
       " array([[0, 1, 0, 0],\n",
       "        [0, 0, 0, 0],\n",
       "        [0, 0, 0, 0],\n",
       "        [0, 0, 0, 0]], dtype=uint8),\n",
       " array([[0, 0, 0, 0],\n",
       "        [0, 1, 0, 0],\n",
       "        [0, 0, 0, 0],\n",
       "        [0, 0, 0, 0]], dtype=uint8))"
      ]
     },
     "execution_count": 4,
     "metadata": {},
     "output_type": "execute_result"
    }
   ],
   "source": [
    "player, goal, pit, wall = game.board.render_np()\n",
    "player, goal, pit, wall"
   ]
  },
  {
   "cell_type": "markdown",
   "id": "0d7b743d-49aa-4b9d-9ae1-82743fcf277f",
   "metadata": {},
   "source": [
    "## Neural Network Q Function"
   ]
  },
  {
   "cell_type": "code",
   "execution_count": 26,
   "id": "209a2c46-7b38-45e7-93da-c95a2c7bfcee",
   "metadata": {
    "execution": {
     "iopub.execute_input": "2024-02-16T17:51:13.179370Z",
     "iopub.status.busy": "2024-02-16T17:51:13.178888Z",
     "iopub.status.idle": "2024-02-16T17:51:13.187974Z",
     "shell.execute_reply": "2024-02-16T17:51:13.186473Z",
     "shell.execute_reply.started": "2024-02-16T17:51:13.179340Z"
    }
   },
   "outputs": [],
   "source": [
    "import numpy as np\n",
    "import torch\n",
    "import random\n",
    "from tqdm.autonotebook import tqdm\n",
    "import matplotlib.pyplot as plt"
   ]
  },
  {
   "cell_type": "code",
   "execution_count": 27,
   "id": "ea6cc04e-d380-4b42-976b-e0636a321904",
   "metadata": {
    "execution": {
     "iopub.execute_input": "2024-02-16T17:51:13.480989Z",
     "iopub.status.busy": "2024-02-16T17:51:13.479681Z",
     "iopub.status.idle": "2024-02-16T17:51:13.495024Z",
     "shell.execute_reply": "2024-02-16T17:51:13.494067Z",
     "shell.execute_reply.started": "2024-02-16T17:51:13.480461Z"
    }
   },
   "outputs": [],
   "source": [
    "def create_model():\n",
    "    model = torch.nn.Sequential(\n",
    "        torch.nn.Linear(64, 150),\n",
    "        torch.nn.ReLU(),\n",
    "        torch.nn.Linear(150, 100),\n",
    "        torch.nn.ReLU(),\n",
    "        torch.nn.Linear(100, 4)\n",
    "    )\n",
    "    return model"
   ]
  },
  {
   "cell_type": "code",
   "execution_count": 28,
   "id": "7e24e79f-5d3b-4d34-8028-327c76b30fe4",
   "metadata": {
    "execution": {
     "iopub.execute_input": "2024-02-16T17:51:13.943407Z",
     "iopub.status.busy": "2024-02-16T17:51:13.942722Z",
     "iopub.status.idle": "2024-02-16T17:51:13.951944Z",
     "shell.execute_reply": "2024-02-16T17:51:13.950061Z",
     "shell.execute_reply.started": "2024-02-16T17:51:13.943378Z"
    }
   },
   "outputs": [],
   "source": [
    "action_set = {0:'u', 1:'d', 2: 'l', 3:'r'}"
   ]
  },
  {
   "cell_type": "code",
   "execution_count": 32,
   "id": "7f14409d-9ee0-4014-8b34-714f00e34058",
   "metadata": {
    "execution": {
     "iopub.execute_input": "2024-02-16T17:52:02.058048Z",
     "iopub.status.busy": "2024-02-16T17:52:02.057445Z",
     "iopub.status.idle": "2024-02-16T17:52:36.001326Z",
     "shell.execute_reply": "2024-02-16T17:52:35.998651Z",
     "shell.execute_reply.started": "2024-02-16T17:52:02.058006Z"
    }
   },
   "outputs": [
    {
     "name": "stderr",
     "output_type": "stream",
     "text": [
      "100%|██████████████████████████████████████████████████████████████████████████████████████████████████████████████| 1000/1000 [00:33<00:00, 29.53it/s]\n"
     ]
    }
   ],
   "source": [
    "def get_state(game):\n",
    "    state = game.board.render_np().reshape(1, 64)\n",
    "    noise = np.random.rand(1, 64)/10.0\n",
    "    return state + noise\n",
    "\n",
    "def train_model(model, mode='static'):\n",
    "    loss_fn = torch.nn.MSELoss()\n",
    "    optimizer = torch.optim.Adam(model.parameters(), lr=1e-3)\n",
    "    \n",
    "    gamma = 0.9\n",
    "    epsilon = 1.0\n",
    "    epochs = 1_000\n",
    "    losses = []\n",
    "    for i in tqdm(range(epochs)):\n",
    "        # Start a game in each epoch.\n",
    "        game = Gridworld(size=4, mode=mode)\n",
    "        state_ = get_state(game)\n",
    "        state1 =  torch.from_numpy(state_).float()\n",
    "        while True:\n",
    "            qval = model(state1)\n",
    "            qval_ = qval.data.numpy()\n",
    "    \n",
    "            # Select an action using epsilon-greedy method.\n",
    "            if random.random() < epsilon:\n",
    "                action_ = np.random.randint(0, 4)\n",
    "            else:\n",
    "                action_ = np.argmax(qval_)\n",
    "    \n",
    "            action = action_set[action_]\n",
    "            game.makeMove(action)\n",
    "            state2_ = get_state(game)\n",
    "            state2 = torch.from_numpy(state2_).float()\n",
    "            reward = game.reward()\n",
    "    \n",
    "            with torch.no_grad():\n",
    "                newQ = model(state2.reshape(1, 64))\n",
    "            maxQ = torch.max(newQ)\n",
    "            if reward == -1:\n",
    "                Y = reward + (gamma * maxQ)\n",
    "            else:\n",
    "                Y = reward\n",
    "            Y = torch.Tensor([Y]).detach()\n",
    "            X = qval.squeeze()[action_]\n",
    "            loss = loss_fn(X, Y)\n",
    "            optimizer.zero_grad()\n",
    "            loss.backward()\n",
    "            losses.append(loss.item())\n",
    "            optimizer.step()\n",
    "            state1 = state2\n",
    "            # If the reward is -1, the game hasn't been won or lost \n",
    "            # and is still in progress.\n",
    "            if reward != -1:\n",
    "                break\n",
    "        if epsilon > 0.1:\n",
    "            epsilon -= 1/epochs\n",
    "    return losses\n",
    "\n",
    "model = create_model()\n",
    "losses = train_model(model)"
   ]
  },
  {
   "cell_type": "code",
   "execution_count": 33,
   "id": "18ae9438-9b21-4a84-aa2f-e94bc924b5a9",
   "metadata": {
    "execution": {
     "iopub.execute_input": "2024-02-16T17:52:36.006060Z",
     "iopub.status.busy": "2024-02-16T17:52:36.004256Z",
     "iopub.status.idle": "2024-02-16T17:52:36.554496Z",
     "shell.execute_reply": "2024-02-16T17:52:36.553527Z",
     "shell.execute_reply.started": "2024-02-16T17:52:36.006012Z"
    }
   },
   "outputs": [
    {
     "data": {
      "text/plain": [
       "Text(0, 0.5, 'Loss')"
      ]
     },
     "execution_count": 33,
     "metadata": {},
     "output_type": "execute_result"
    },
    {
     "data": {
      "image/png": "[encoded data removed]",
      "text/plain": [
       "<Figure size 640x480 with 1 Axes>"
      ]
     },
     "metadata": {},
     "output_type": "display_data"
    }
   ],
   "source": [
    "plt.plot(range(len(losses)), losses)\n",
    "plt.xlabel('Epochs')\n",
    "plt.ylabel('Loss')"
   ]
  },
  {
   "cell_type": "code",
   "execution_count": 34,
   "id": "39540259-6d24-4c98-95cd-2aceac7e9626",
   "metadata": {
    "execution": {
     "iopub.execute_input": "2024-02-16T17:52:36.556466Z",
     "iopub.status.busy": "2024-02-16T17:52:36.555761Z",
     "iopub.status.idle": "2024-02-16T17:52:36.599655Z",
     "shell.execute_reply": "2024-02-16T17:52:36.574724Z",
     "shell.execute_reply.started": "2024-02-16T17:52:36.556437Z"
    }
   },
   "outputs": [],
   "source": [
    "def test_model(model, mode='static', display=True):\n",
    "    test_game = Gridworld(size=4, mode=mode)\n",
    "    \n",
    "    def loop():    \n",
    "        state_ = get_state(test_game)\n",
    "        state = torch.from_numpy(state_).float()\n",
    "        \n",
    "        i = 0\n",
    "        while True:\n",
    "            qval = model(state)\n",
    "            qval_ = qval.data.numpy()\n",
    "            action_ = np.argmax(qval_)\n",
    "            action = action_set[action_]\n",
    "            test_game.makeMove(action)\n",
    "            if display:\n",
    "                print(f'Move #: {i}; Taking action: {action} {test_game.reward()}')\n",
    "                print(test_game.display())\n",
    "            reward = test_game.reward()\n",
    "            if reward != -1:\n",
    "                if reward > 0:\n",
    "                    return f'Game won! Reward: {reward}'\n",
    "                else:\n",
    "                    return f'Game lost. Reward: {reward}'\n",
    "                    \n",
    "            i += 1\n",
    "            if i > 15:\n",
    "                return 'Game lost; too many moves.'\n",
    "            state_ = get_state(test_game)\n",
    "            state = torch.from_numpy(state_).float()\n",
    "            \n",
    "    if display:\n",
    "        print('Initial State:')\n",
    "        print(test_game.display())\n",
    "        print(loop())\n",
    "    else:\n",
    "        loop()"
   ]
  },
  {
   "cell_type": "code",
   "execution_count": 37,
   "id": "c0f9ad1d-0dd9-46a3-83aa-bd2a85df2597",
   "metadata": {
    "execution": {
     "iopub.execute_input": "2024-02-16T17:52:36.681737Z",
     "iopub.status.busy": "2024-02-16T17:52:36.681332Z",
     "iopub.status.idle": "2024-02-16T17:52:36.727139Z",
     "shell.execute_reply": "2024-02-16T17:52:36.724110Z",
     "shell.execute_reply.started": "2024-02-16T17:52:36.681700Z"
    }
   },
   "outputs": [
    {
     "name": "stdout",
     "output_type": "stream",
     "text": [
      "Initial State:\n",
      "[['+' '-' ' ' 'P']\n",
      " [' ' 'W' ' ' ' ']\n",
      " [' ' ' ' ' ' ' ']\n",
      " [' ' ' ' ' ' ' ']]\n",
      "Move #: 0; Taking action: d -1\n",
      "[['+' '-' ' ' ' ']\n",
      " [' ' 'W' ' ' 'P']\n",
      " [' ' ' ' ' ' ' ']\n",
      " [' ' ' ' ' ' ' ']]\n",
      "Move #: 1; Taking action: d -1\n",
      "[['+' '-' ' ' ' ']\n",
      " [' ' 'W' ' ' ' ']\n",
      " [' ' ' ' ' ' 'P']\n",
      " [' ' ' ' ' ' ' ']]\n",
      "Move #: 2; Taking action: l -1\n",
      "[['+' '-' ' ' ' ']\n",
      " [' ' 'W' ' ' ' ']\n",
      " [' ' ' ' 'P' ' ']\n",
      " [' ' ' ' ' ' ' ']]\n",
      "Move #: 3; Taking action: l -1\n",
      "[['+' '-' ' ' ' ']\n",
      " [' ' 'W' ' ' ' ']\n",
      " [' ' 'P' ' ' ' ']\n",
      " [' ' ' ' ' ' ' ']]\n",
      "Move #: 4; Taking action: l -1\n",
      "[['+' '-' ' ' ' ']\n",
      " [' ' 'W' ' ' ' ']\n",
      " ['P' ' ' ' ' ' ']\n",
      " [' ' ' ' ' ' ' ']]\n",
      "Move #: 5; Taking action: u -1\n",
      "[['+' '-' ' ' ' ']\n",
      " ['P' 'W' ' ' ' ']\n",
      " [' ' ' ' ' ' ' ']\n",
      " [' ' ' ' ' ' ' ']]\n",
      "Move #: 6; Taking action: u 10\n",
      "[['+' '-' ' ' ' ']\n",
      " [' ' 'W' ' ' ' ']\n",
      " [' ' ' ' ' ' ' ']\n",
      " [' ' ' ' ' ' ' ']]\n",
      "Game won! Reward: 10\n"
     ]
    }
   ],
   "source": [
    "test_model(model, 'static')"
   ]
  },
  {
   "cell_type": "code",
   "execution_count": 41,
   "id": "94b11520-5e0c-49db-ac32-b9a66e841704",
   "metadata": {
    "execution": {
     "iopub.execute_input": "2024-02-16T17:53:17.857838Z",
     "iopub.status.busy": "2024-02-16T17:53:17.857069Z",
     "iopub.status.idle": "2024-02-16T17:53:17.912442Z",
     "shell.execute_reply": "2024-02-16T17:53:17.897486Z",
     "shell.execute_reply.started": "2024-02-16T17:53:17.857799Z"
    }
   },
   "outputs": [
    {
     "name": "stdout",
     "output_type": "stream",
     "text": [
      "Initial State:\n",
      "[[' ' ' ' ' ' ' ']\n",
      " [' ' ' ' '+' 'W']\n",
      " [' ' 'P' ' ' ' ']\n",
      " [' ' ' ' ' ' '-']]\n",
      "Move #: 0; Taking action: u -1\n",
      "[[' ' ' ' ' ' ' ']\n",
      " [' ' 'P' '+' 'W']\n",
      " [' ' ' ' ' ' ' ']\n",
      " [' ' ' ' ' ' '-']]\n",
      "Move #: 1; Taking action: u -1\n",
      "[[' ' 'P' ' ' ' ']\n",
      " [' ' ' ' '+' 'W']\n",
      " [' ' ' ' ' ' ' ']\n",
      " [' ' ' ' ' ' '-']]\n",
      "Move #: 2; Taking action: u -1\n",
      "[[' ' 'P' ' ' ' ']\n",
      " [' ' ' ' '+' 'W']\n",
      " [' ' ' ' ' ' ' ']\n",
      " [' ' ' ' ' ' '-']]\n",
      "Move #: 3; Taking action: u -1\n",
      "[[' ' 'P' ' ' ' ']\n",
      " [' ' ' ' '+' 'W']\n",
      " [' ' ' ' ' ' ' ']\n",
      " [' ' ' ' ' ' '-']]\n",
      "Move #: 4; Taking action: u -1\n",
      "[[' ' 'P' ' ' ' ']\n",
      " [' ' ' ' '+' 'W']\n",
      " [' ' ' ' ' ' ' ']\n",
      " [' ' ' ' ' ' '-']]\n",
      "Move #: 5; Taking action: u -1\n",
      "[[' ' 'P' ' ' ' ']\n",
      " [' ' ' ' '+' 'W']\n",
      " [' ' ' ' ' ' ' ']\n",
      " [' ' ' ' ' ' '-']]\n",
      "Move #: 6; Taking action: u -1\n",
      "[[' ' 'P' ' ' ' ']\n",
      " [' ' ' ' '+' 'W']\n",
      " [' ' ' ' ' ' ' ']\n",
      " [' ' ' ' ' ' '-']]\n",
      "Move #: 7; Taking action: u -1\n",
      "[[' ' 'P' ' ' ' ']\n",
      " [' ' ' ' '+' 'W']\n",
      " [' ' ' ' ' ' ' ']\n",
      " [' ' ' ' ' ' '-']]\n",
      "Move #: 8; Taking action: u -1\n",
      "[[' ' 'P' ' ' ' ']\n",
      " [' ' ' ' '+' 'W']\n",
      " [' ' ' ' ' ' ' ']\n",
      " [' ' ' ' ' ' '-']]\n",
      "Move #: 9; Taking action: u -1\n",
      "[[' ' 'P' ' ' ' ']\n",
      " [' ' ' ' '+' 'W']\n",
      " [' ' ' ' ' ' ' ']\n",
      " [' ' ' ' ' ' '-']]\n",
      "Move #: 10; Taking action: u -1\n",
      "[[' ' 'P' ' ' ' ']\n",
      " [' ' ' ' '+' 'W']\n",
      " [' ' ' ' ' ' ' ']\n",
      " [' ' ' ' ' ' '-']]\n",
      "Move #: 11; Taking action: u -1\n",
      "[[' ' 'P' ' ' ' ']\n",
      " [' ' ' ' '+' 'W']\n",
      " [' ' ' ' ' ' ' ']\n",
      " [' ' ' ' ' ' '-']]\n",
      "Move #: 12; Taking action: u -1\n",
      "[[' ' 'P' ' ' ' ']\n",
      " [' ' ' ' '+' 'W']\n",
      " [' ' ' ' ' ' ' ']\n",
      " [' ' ' ' ' ' '-']]\n",
      "Move #: 13; Taking action: u -1\n",
      "[[' ' 'P' ' ' ' ']\n",
      " [' ' ' ' '+' 'W']\n",
      " [' ' ' ' ' ' ' ']\n",
      " [' ' ' ' ' ' '-']]\n",
      "Move #: 14; Taking action: u -1\n",
      "[[' ' 'P' ' ' ' ']\n",
      " [' ' ' ' '+' 'W']\n",
      " [' ' ' ' ' ' ' ']\n",
      " [' ' ' ' ' ' '-']]\n",
      "Move #: 15; Taking action: u -1\n",
      "[[' ' 'P' ' ' ' ']\n",
      " [' ' ' ' '+' 'W']\n",
      " [' ' ' ' ' ' ' ']\n",
      " [' ' ' ' ' ' '-']]\n",
      "Game lost; too many moves.\n"
     ]
    }
   ],
   "source": [
    "test_model(model, 'random')"
   ]
  },
  {
   "cell_type": "code",
   "execution_count": 39,
   "id": "83e198e1-02e9-46b6-ad16-a7d816603aaf",
   "metadata": {
    "execution": {
     "iopub.execute_input": "2024-02-16T17:52:36.784448Z",
     "iopub.status.busy": "2024-02-16T17:52:36.784044Z",
     "iopub.status.idle": "2024-02-16T17:53:17.215311Z",
     "shell.execute_reply": "2024-02-16T17:53:17.214083Z",
     "shell.execute_reply.started": "2024-02-16T17:52:36.784408Z"
    }
   },
   "outputs": [
    {
     "name": "stderr",
     "output_type": "stream",
     "text": [
      "100%|██████████████████████████████████████████████████████████████████████████████████████████████████████████████| 1000/1000 [00:40<00:00, 24.77it/s]\n"
     ]
    }
   ],
   "source": [
    "model = create_model()\n",
    "losses = train_model(model, 'random')"
   ]
  },
  {
   "cell_type": "code",
   "execution_count": 42,
   "id": "481980bb-994e-43c8-ae9c-3ad51b7f8946",
   "metadata": {
    "execution": {
     "iopub.execute_input": "2024-02-16T17:53:31.969530Z",
     "iopub.status.busy": "2024-02-16T17:53:31.968886Z",
     "iopub.status.idle": "2024-02-16T17:53:32.317159Z",
     "shell.execute_reply": "2024-02-16T17:53:32.316279Z",
     "shell.execute_reply.started": "2024-02-16T17:53:31.969480Z"
    }
   },
   "outputs": [
    {
     "data": {
      "text/plain": [
       "Text(0, 0.5, 'Loss')"
      ]
     },
     "execution_count": 42,
     "metadata": {},
     "output_type": "execute_result"
    },
    {
     "data": {
      "image/png": "[encoded data removed]",
      "text/plain": [
       "<Figure size 640x480 with 1 Axes>"
      ]
     },
     "metadata": {},
     "output_type": "display_data"
    }
   ],
   "source": [
    "plt.plot(range(len(losses)), losses)\n",
    "plt.xlabel('Epochs')\n",
    "plt.ylabel('Loss')"
   ]
  },
  {
   "cell_type": "markdown",
   "id": "e66b7fc0-2c07-45d6-867e-7eeb56d82a63",
   "metadata": {},
   "source": [
    "The loss plot for Q-learning in random model, which doesn't show any sign of convergence."
   ]
  }
 ],
 "metadata": {
  "kernelspec": {
   "display_name": "Python 3 (ipykernel)",
   "language": "python",
   "name": "python3"
  },
  "language_info": {
   "codemirror_mode": {
    "name": "ipython",
    "version": 3
   },
   "file_extension": ".py",
   "mimetype": "text/x-python",
   "name": "python",
   "nbconvert_exporter": "python",
   "pygments_lexer": "ipython3",
   "version": "3.11.7"
  }
 },
 "nbformat": 4,
 "nbformat_minor": 5
}
