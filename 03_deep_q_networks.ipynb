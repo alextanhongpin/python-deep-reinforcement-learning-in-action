{
 "cells": [
  {
   "cell_type": "markdown",
   "id": "432e9642-17e3-47d6-8881-7330a5074005",
   "metadata": {},
   "source": [
    "## GridWorld"
   ]
  },
  {
   "cell_type": "code",
   "execution_count": 17,
   "id": "d93e7a9f-5d77-4d22-acf8-8e006cb94ce1",
   "metadata": {
    "execution": {
     "iopub.execute_input": "2024-02-17T05:39:32.897159Z",
     "iopub.status.busy": "2024-02-17T05:39:32.896483Z",
     "iopub.status.idle": "2024-02-17T05:39:33.064140Z",
     "shell.execute_reply": "2024-02-17T05:39:33.035192Z",
     "shell.execute_reply.started": "2024-02-17T05:39:32.897121Z"
    }
   },
   "outputs": [
    {
     "data": {
      "text/plain": [
       "array([['+', '-', ' ', 'P'],\n",
       "       [' ', 'W', ' ', ' '],\n",
       "       [' ', ' ', ' ', ' '],\n",
       "       [' ', ' ', ' ', ' ']], dtype='<U2')"
      ]
     },
     "execution_count": 17,
     "metadata": {},
     "output_type": "execute_result"
    }
   ],
   "source": [
    "from environment import Gridworld\n",
    "\n",
    "game = Gridworld(size=4, mode='static')\n",
    "game.display()"
   ]
  },
  {
   "cell_type": "code",
   "execution_count": 18,
   "id": "08558017-e021-4207-ae7b-71f8b61511ed",
   "metadata": {
    "execution": {
     "iopub.execute_input": "2024-02-17T05:39:33.133605Z",
     "iopub.status.busy": "2024-02-17T05:39:33.133204Z",
     "iopub.status.idle": "2024-02-17T05:39:33.142622Z",
     "shell.execute_reply": "2024-02-17T05:39:33.141393Z",
     "shell.execute_reply.started": "2024-02-17T05:39:33.133581Z"
    }
   },
   "outputs": [
    {
     "data": {
      "text/plain": [
       "array([['+', '-', ' ', ' '],\n",
       "       [' ', 'W', ' ', 'P'],\n",
       "       [' ', ' ', ' ', ' '],\n",
       "       [' ', ' ', ' ', ' ']], dtype='<U2')"
      ]
     },
     "execution_count": 18,
     "metadata": {},
     "output_type": "execute_result"
    }
   ],
   "source": [
    "game.makeMove('d')\n",
    "game.display()"
   ]
  },
  {
   "cell_type": "code",
   "execution_count": 19,
   "id": "dfc43001-13f9-488d-8564-5413b3e1066a",
   "metadata": {
    "execution": {
     "iopub.execute_input": "2024-02-17T05:39:33.319973Z",
     "iopub.status.busy": "2024-02-17T05:39:33.318398Z",
     "iopub.status.idle": "2024-02-17T05:39:33.343875Z",
     "shell.execute_reply": "2024-02-17T05:39:33.334650Z",
     "shell.execute_reply.started": "2024-02-17T05:39:33.319946Z"
    }
   },
   "outputs": [
    {
     "data": {
      "text/plain": [
       "-1"
      ]
     },
     "execution_count": 19,
     "metadata": {},
     "output_type": "execute_result"
    }
   ],
   "source": [
    "game.reward()"
   ]
  },
  {
   "cell_type": "code",
   "execution_count": 20,
   "id": "e3ea5036-620b-435a-9798-423c76f740c7",
   "metadata": {
    "execution": {
     "iopub.execute_input": "2024-02-17T05:39:33.528813Z",
     "iopub.status.busy": "2024-02-17T05:39:33.528248Z",
     "iopub.status.idle": "2024-02-17T05:39:33.534591Z",
     "shell.execute_reply": "2024-02-17T05:39:33.533899Z",
     "shell.execute_reply.started": "2024-02-17T05:39:33.528791Z"
    }
   },
   "outputs": [
    {
     "data": {
      "text/plain": [
       "(array([[0, 0, 0, 0],\n",
       "        [0, 0, 0, 1],\n",
       "        [0, 0, 0, 0],\n",
       "        [0, 0, 0, 0]], dtype=uint8),\n",
       " array([[1, 0, 0, 0],\n",
       "        [0, 0, 0, 0],\n",
       "        [0, 0, 0, 0],\n",
       "        [0, 0, 0, 0]], dtype=uint8),\n",
       " array([[0, 1, 0, 0],\n",
       "        [0, 0, 0, 0],\n",
       "        [0, 0, 0, 0],\n",
       "        [0, 0, 0, 0]], dtype=uint8),\n",
       " array([[0, 0, 0, 0],\n",
       "        [0, 1, 0, 0],\n",
       "        [0, 0, 0, 0],\n",
       "        [0, 0, 0, 0]], dtype=uint8))"
      ]
     },
     "execution_count": 20,
     "metadata": {},
     "output_type": "execute_result"
    }
   ],
   "source": [
    "player, goal, pit, wall = game.board.render_np()\n",
    "player, goal, pit, wall"
   ]
  },
  {
   "cell_type": "markdown",
   "id": "0d7b743d-49aa-4b9d-9ae1-82743fcf277f",
   "metadata": {},
   "source": [
    "## Neural Network Q Function"
   ]
  },
  {
   "cell_type": "code",
   "execution_count": 21,
   "id": "209a2c46-7b38-45e7-93da-c95a2c7bfcee",
   "metadata": {
    "execution": {
     "iopub.execute_input": "2024-02-17T05:39:34.284139Z",
     "iopub.status.busy": "2024-02-17T05:39:34.283762Z",
     "iopub.status.idle": "2024-02-17T05:39:34.290987Z",
     "shell.execute_reply": "2024-02-17T05:39:34.288987Z",
     "shell.execute_reply.started": "2024-02-17T05:39:34.284113Z"
    }
   },
   "outputs": [],
   "source": [
    "import numpy as np\n",
    "import torch\n",
    "import random\n",
    "from tqdm.autonotebook import tqdm\n",
    "import matplotlib.pyplot as plt"
   ]
  },
  {
   "cell_type": "code",
   "execution_count": 22,
   "id": "ea6cc04e-d380-4b42-976b-e0636a321904",
   "metadata": {
    "execution": {
     "iopub.execute_input": "2024-02-17T05:39:35.127335Z",
     "iopub.status.busy": "2024-02-17T05:39:35.126887Z",
     "iopub.status.idle": "2024-02-17T05:39:35.134272Z",
     "shell.execute_reply": "2024-02-17T05:39:35.132681Z",
     "shell.execute_reply.started": "2024-02-17T05:39:35.127293Z"
    }
   },
   "outputs": [],
   "source": [
    "def create_model():\n",
    "    model = torch.nn.Sequential(\n",
    "        torch.nn.Linear(64, 150),\n",
    "        torch.nn.ReLU(),\n",
    "        torch.nn.Linear(150, 100),\n",
    "        torch.nn.ReLU(),\n",
    "        torch.nn.Linear(100, 4)\n",
    "    )\n",
    "    return model"
   ]
  },
  {
   "cell_type": "code",
   "execution_count": 23,
   "id": "7e24e79f-5d3b-4d34-8028-327c76b30fe4",
   "metadata": {
    "execution": {
     "iopub.execute_input": "2024-02-17T05:39:35.722434Z",
     "iopub.status.busy": "2024-02-17T05:39:35.721181Z",
     "iopub.status.idle": "2024-02-17T05:39:35.728921Z",
     "shell.execute_reply": "2024-02-17T05:39:35.727215Z",
     "shell.execute_reply.started": "2024-02-17T05:39:35.722385Z"
    }
   },
   "outputs": [],
   "source": [
    "action_set = {0:'u', 1:'d', 2: 'l', 3:'r'}"
   ]
  },
  {
   "cell_type": "code",
   "execution_count": 62,
   "id": "7f14409d-9ee0-4014-8b34-714f00e34058",
   "metadata": {
    "execution": {
     "iopub.execute_input": "2024-02-17T06:56:11.869695Z",
     "iopub.status.busy": "2024-02-17T06:56:11.868769Z",
     "iopub.status.idle": "2024-02-17T06:56:11.927163Z",
     "shell.execute_reply": "2024-02-17T06:56:11.910353Z",
     "shell.execute_reply.started": "2024-02-17T06:56:11.869656Z"
    }
   },
   "outputs": [],
   "source": [
    "def plot_loss(losses):\n",
    "    plt.plot(range(len(losses)), losses)\n",
    "    plt.xlabel('Epochs')\n",
    "    plt.ylabel('Loss')\n",
    "\n",
    "def get_state(game):\n",
    "    state = game.board.render_np().reshape(1, 64)\n",
    "    noise = np.random.rand(1, 64)/10.0\n",
    "    return torch.from_numpy(state + noise).float()\n",
    "\n",
    "def epsilon_greedy(action_values, epsilon=1.0):\n",
    "    if random.random() < epsilon:\n",
    "        return np.random.randint(0, 4)\n",
    "    return np.argmax(action_values)\n",
    "\n",
    "def train_model(model, mode='static'):\n",
    "    loss_fn = torch.nn.MSELoss()\n",
    "    optimizer = torch.optim.Adam(model.parameters(), lr=1e-3)\n",
    "    \n",
    "    gamma = 0.9\n",
    "    epsilon = 1.0\n",
    "    epochs = 1_000\n",
    "    losses = []\n",
    "    for i in tqdm(range(epochs)):\n",
    "        # Start a game in each epoch.\n",
    "        game = Gridworld(size=4, mode=mode)\n",
    "        state1 = get_state(game)\n",
    "        while True:\n",
    "            qval = model(state1)\n",
    "            qval_ = qval.data.numpy()\n",
    "    \n",
    "            # Select an action using epsilon-greedy method.\n",
    "            action_ = epsilon_greedy(qval_, epsilon=epsilon)\n",
    "    \n",
    "            action = action_set[action_]\n",
    "            game.makeMove(action)\n",
    "            state2 = get_state(game)\n",
    "            reward = game.reward()\n",
    "    \n",
    "            with torch.no_grad():\n",
    "                newQ = model(state2.reshape(1, 64))\n",
    "            maxQ = torch.max(newQ)\n",
    "            if reward == -1:\n",
    "                Y = reward + (gamma * maxQ)\n",
    "            else:\n",
    "                Y = reward\n",
    "            Y = torch.Tensor([Y]).detach().squeeze()\n",
    "            X = qval.squeeze()[action_]\n",
    "            \n",
    "            loss = loss_fn(X, Y)\n",
    "            optimizer.zero_grad()\n",
    "            loss.backward()\n",
    "            losses.append(loss.item())\n",
    "            optimizer.step()\n",
    "            state1 = state2\n",
    "            # If the reward is -1, the game hasn't been won or lost \n",
    "            # and is still in progress.\n",
    "            if reward != -1:\n",
    "                break\n",
    "        if epsilon > 0.1:\n",
    "            epsilon -= 1/epochs\n",
    "    return losses"
   ]
  },
  {
   "cell_type": "code",
   "execution_count": 63,
   "id": "4643150c-d72f-4abe-954e-6c72c783c17d",
   "metadata": {
    "execution": {
     "iopub.execute_input": "2024-02-17T06:56:12.593279Z",
     "iopub.status.busy": "2024-02-17T06:56:12.592846Z",
     "iopub.status.idle": "2024-02-17T06:56:41.975745Z",
     "shell.execute_reply": "2024-02-17T06:56:41.973617Z",
     "shell.execute_reply.started": "2024-02-17T06:56:12.593248Z"
    }
   },
   "outputs": [
    {
     "name": "stderr",
     "output_type": "stream",
     "text": [
      "100%|██████████████████████████████████████████████████████████████████████████████████████████████████████████████| 1000/1000 [00:29<00:00, 34.05it/s]\n"
     ]
    }
   ],
   "source": [
    "model = create_model()\n",
    "losses = train_model(model)"
   ]
  },
  {
   "cell_type": "code",
   "execution_count": 65,
   "id": "18ae9438-9b21-4a84-aa2f-e94bc924b5a9",
   "metadata": {
    "execution": {
     "iopub.execute_input": "2024-02-17T06:56:42.309492Z",
     "iopub.status.busy": "2024-02-17T06:56:42.309018Z",
     "iopub.status.idle": "2024-02-17T06:56:42.561030Z",
     "shell.execute_reply": "2024-02-17T06:56:42.560150Z",
     "shell.execute_reply.started": "2024-02-17T06:56:42.309461Z"
    }
   },
   "outputs": [
    {
     "data": {
      "image/png": "[encoded data removed]",
      "text/plain": [
       "<Figure size 640x480 with 1 Axes>"
      ]
     },
     "metadata": {},
     "output_type": "display_data"
    }
   ],
   "source": [
    "plot_loss(losses)"
   ]
  },
  {
   "cell_type": "markdown",
   "id": "66366cca-b843-471c-9e92-3c02538c1068",
   "metadata": {},
   "source": [
    "## Testing"
   ]
  },
  {
   "cell_type": "code",
   "execution_count": 72,
   "id": "39540259-6d24-4c98-95cd-2aceac7e9626",
   "metadata": {
    "execution": {
     "iopub.execute_input": "2024-02-17T07:01:21.699937Z",
     "iopub.status.busy": "2024-02-17T07:01:21.699133Z",
     "iopub.status.idle": "2024-02-17T07:01:21.755301Z",
     "shell.execute_reply": "2024-02-17T07:01:21.738923Z",
     "shell.execute_reply.started": "2024-02-17T07:01:21.699894Z"
    }
   },
   "outputs": [],
   "source": [
    "def test_model(model, mode='static', display=True):\n",
    "    test_game = Gridworld(size=4, mode=mode)\n",
    "    \n",
    "    def loop():    \n",
    "        state = get_state(test_game)\n",
    "        \n",
    "        i = 0\n",
    "        while True:\n",
    "            qval = model(state)\n",
    "            qval_ = qval.data.numpy()\n",
    "            action_ = np.argmax(qval_)\n",
    "            action = action_set[action_]\n",
    "            test_game.makeMove(action)\n",
    "            if display:\n",
    "                print(f'Move #: {i}; Taking action: {action} {test_game.reward()}')\n",
    "                print(test_game.display())\n",
    "            reward = test_game.reward()\n",
    "            if reward != -1:\n",
    "                if reward > 0:\n",
    "                    return f'Game won! Reward: {reward}'\n",
    "                else:\n",
    "                    return f'Game lost. Reward: {reward}'\n",
    "                    \n",
    "            i += 1\n",
    "            if i > 15:\n",
    "                return 'Game lost; too many moves.'\n",
    "            state = get_state(test_game)\n",
    "            \n",
    "    if display:\n",
    "        print('Initial State:')\n",
    "        print(test_game.display())\n",
    "        res = loop()\n",
    "        print(res)\n",
    "        return 'won' in res\n",
    "    else:\n",
    "        return 'won' in loop()"
   ]
  },
  {
   "cell_type": "code",
   "execution_count": 29,
   "id": "c0f9ad1d-0dd9-46a3-83aa-bd2a85df2597",
   "metadata": {
    "execution": {
     "iopub.execute_input": "2024-02-17T05:42:32.652756Z",
     "iopub.status.busy": "2024-02-17T05:42:32.652394Z",
     "iopub.status.idle": "2024-02-17T05:42:32.662806Z",
     "shell.execute_reply": "2024-02-17T05:42:32.659299Z",
     "shell.execute_reply.started": "2024-02-17T05:42:32.652728Z"
    }
   },
   "outputs": [
    {
     "name": "stdout",
     "output_type": "stream",
     "text": [
      "Initial State:\n",
      "[['+' '-' ' ' 'P']\n",
      " [' ' 'W' ' ' ' ']\n",
      " [' ' ' ' ' ' ' ']\n",
      " [' ' ' ' ' ' ' ']]\n",
      "Move #: 0; Taking action: d -1\n",
      "[['+' '-' ' ' ' ']\n",
      " [' ' 'W' ' ' 'P']\n",
      " [' ' ' ' ' ' ' ']\n",
      " [' ' ' ' ' ' ' ']]\n",
      "Move #: 1; Taking action: l -1\n",
      "[['+' '-' ' ' ' ']\n",
      " [' ' 'W' 'P' ' ']\n",
      " [' ' ' ' ' ' ' ']\n",
      " [' ' ' ' ' ' ' ']]\n",
      "Move #: 2; Taking action: d -1\n",
      "[['+' '-' ' ' ' ']\n",
      " [' ' 'W' ' ' ' ']\n",
      " [' ' ' ' 'P' ' ']\n",
      " [' ' ' ' ' ' ' ']]\n",
      "Move #: 3; Taking action: l -1\n",
      "[['+' '-' ' ' ' ']\n",
      " [' ' 'W' ' ' ' ']\n",
      " [' ' 'P' ' ' ' ']\n",
      " [' ' ' ' ' ' ' ']]\n",
      "Move #: 4; Taking action: l -1\n",
      "[['+' '-' ' ' ' ']\n",
      " [' ' 'W' ' ' ' ']\n",
      " ['P' ' ' ' ' ' ']\n",
      " [' ' ' ' ' ' ' ']]\n",
      "Move #: 5; Taking action: u -1\n",
      "[['+' '-' ' ' ' ']\n",
      " ['P' 'W' ' ' ' ']\n",
      " [' ' ' ' ' ' ' ']\n",
      " [' ' ' ' ' ' ' ']]\n",
      "Move #: 6; Taking action: u 10\n",
      "[['+' '-' ' ' ' ']\n",
      " [' ' 'W' ' ' ' ']\n",
      " [' ' ' ' ' ' ' ']\n",
      " [' ' ' ' ' ' ' ']]\n",
      "Game won! Reward: 10\n"
     ]
    }
   ],
   "source": [
    "test_model(model, 'static')"
   ]
  },
  {
   "cell_type": "markdown",
   "id": "f0c22049-5a79-489e-8f4f-804144e4e96b",
   "metadata": {},
   "source": [
    "## Random"
   ]
  },
  {
   "cell_type": "code",
   "execution_count": 30,
   "id": "94b11520-5e0c-49db-ac32-b9a66e841704",
   "metadata": {
    "execution": {
     "iopub.execute_input": "2024-02-17T05:42:34.162267Z",
     "iopub.status.busy": "2024-02-17T05:42:34.161898Z",
     "iopub.status.idle": "2024-02-17T05:42:34.183306Z",
     "shell.execute_reply": "2024-02-17T05:42:34.182268Z",
     "shell.execute_reply.started": "2024-02-17T05:42:34.162242Z"
    }
   },
   "outputs": [
    {
     "name": "stdout",
     "output_type": "stream",
     "text": [
      "Initial State:\n",
      "[[' ' '+' ' ' 'W']\n",
      " [' ' ' ' ' ' ' ']\n",
      " ['P' ' ' ' ' '-']\n",
      " [' ' ' ' ' ' ' ']]\n",
      "Move #: 0; Taking action: u -1\n",
      "[[' ' '+' ' ' 'W']\n",
      " ['P' ' ' ' ' ' ']\n",
      " [' ' ' ' ' ' '-']\n",
      " [' ' ' ' ' ' ' ']]\n",
      "Move #: 1; Taking action: u -1\n",
      "[['P' '+' ' ' 'W']\n",
      " [' ' ' ' ' ' ' ']\n",
      " [' ' ' ' ' ' '-']\n",
      " [' ' ' ' ' ' ' ']]\n",
      "Move #: 2; Taking action: u -1\n",
      "[['P' '+' ' ' 'W']\n",
      " [' ' ' ' ' ' ' ']\n",
      " [' ' ' ' ' ' '-']\n",
      " [' ' ' ' ' ' ' ']]\n",
      "Move #: 3; Taking action: u -1\n",
      "[['P' '+' ' ' 'W']\n",
      " [' ' ' ' ' ' ' ']\n",
      " [' ' ' ' ' ' '-']\n",
      " [' ' ' ' ' ' ' ']]\n",
      "Move #: 4; Taking action: u -1\n",
      "[['P' '+' ' ' 'W']\n",
      " [' ' ' ' ' ' ' ']\n",
      " [' ' ' ' ' ' '-']\n",
      " [' ' ' ' ' ' ' ']]\n",
      "Move #: 5; Taking action: u -1\n",
      "[['P' '+' ' ' 'W']\n",
      " [' ' ' ' ' ' ' ']\n",
      " [' ' ' ' ' ' '-']\n",
      " [' ' ' ' ' ' ' ']]\n",
      "Move #: 6; Taking action: u -1\n",
      "[['P' '+' ' ' 'W']\n",
      " [' ' ' ' ' ' ' ']\n",
      " [' ' ' ' ' ' '-']\n",
      " [' ' ' ' ' ' ' ']]\n",
      "Move #: 7; Taking action: l -1\n",
      "[['P' '+' ' ' 'W']\n",
      " [' ' ' ' ' ' ' ']\n",
      " [' ' ' ' ' ' '-']\n",
      " [' ' ' ' ' ' ' ']]\n",
      "Move #: 8; Taking action: u -1\n",
      "[['P' '+' ' ' 'W']\n",
      " [' ' ' ' ' ' ' ']\n",
      " [' ' ' ' ' ' '-']\n",
      " [' ' ' ' ' ' ' ']]\n",
      "Move #: 9; Taking action: u -1\n",
      "[['P' '+' ' ' 'W']\n",
      " [' ' ' ' ' ' ' ']\n",
      " [' ' ' ' ' ' '-']\n",
      " [' ' ' ' ' ' ' ']]\n",
      "Move #: 10; Taking action: u -1\n",
      "[['P' '+' ' ' 'W']\n",
      " [' ' ' ' ' ' ' ']\n",
      " [' ' ' ' ' ' '-']\n",
      " [' ' ' ' ' ' ' ']]\n",
      "Move #: 11; Taking action: l -1\n",
      "[['P' '+' ' ' 'W']\n",
      " [' ' ' ' ' ' ' ']\n",
      " [' ' ' ' ' ' '-']\n",
      " [' ' ' ' ' ' ' ']]\n",
      "Move #: 12; Taking action: u -1\n",
      "[['P' '+' ' ' 'W']\n",
      " [' ' ' ' ' ' ' ']\n",
      " [' ' ' ' ' ' '-']\n",
      " [' ' ' ' ' ' ' ']]\n",
      "Move #: 13; Taking action: l -1\n",
      "[['P' '+' ' ' 'W']\n",
      " [' ' ' ' ' ' ' ']\n",
      " [' ' ' ' ' ' '-']\n",
      " [' ' ' ' ' ' ' ']]\n",
      "Move #: 14; Taking action: u -1\n",
      "[['P' '+' ' ' 'W']\n",
      " [' ' ' ' ' ' ' ']\n",
      " [' ' ' ' ' ' '-']\n",
      " [' ' ' ' ' ' ' ']]\n",
      "Move #: 15; Taking action: u -1\n",
      "[['P' '+' ' ' 'W']\n",
      " [' ' ' ' ' ' ' ']\n",
      " [' ' ' ' ' ' '-']\n",
      " [' ' ' ' ' ' ' ']]\n",
      "Game lost; too many moves.\n"
     ]
    }
   ],
   "source": [
    "test_model(model, 'random')"
   ]
  },
  {
   "cell_type": "code",
   "execution_count": 31,
   "id": "83e198e1-02e9-46b6-ad16-a7d816603aaf",
   "metadata": {
    "execution": {
     "iopub.execute_input": "2024-02-17T05:42:34.643765Z",
     "iopub.status.busy": "2024-02-17T05:42:34.643304Z",
     "iopub.status.idle": "2024-02-17T05:43:12.844181Z",
     "shell.execute_reply": "2024-02-17T05:43:12.842824Z",
     "shell.execute_reply.started": "2024-02-17T05:42:34.643733Z"
    }
   },
   "outputs": [
    {
     "name": "stderr",
     "output_type": "stream",
     "text": [
      "100%|██████████████████████████████████████████████████████████████████████████████████████████████████████████████| 1000/1000 [00:38<00:00, 26.19it/s]\n"
     ]
    }
   ],
   "source": [
    "model = create_model()\n",
    "losses = train_model(model, 'random')"
   ]
  },
  {
   "cell_type": "code",
   "execution_count": 32,
   "id": "481980bb-994e-43c8-ae9c-3ad51b7f8946",
   "metadata": {
    "execution": {
     "iopub.execute_input": "2024-02-17T05:43:12.846808Z",
     "iopub.status.busy": "2024-02-17T05:43:12.846203Z",
     "iopub.status.idle": "2024-02-17T05:43:13.314287Z",
     "shell.execute_reply": "2024-02-17T05:43:13.313237Z",
     "shell.execute_reply.started": "2024-02-17T05:43:12.846782Z"
    }
   },
   "outputs": [
    {
     "data": {
      "text/plain": [
       "Text(0, 0.5, 'Loss')"
      ]
     },
     "execution_count": 32,
     "metadata": {},
     "output_type": "execute_result"
    },
    {
     "data": {
      "image/png": "[encoded data removed]",
      "text/plain": [
       "<Figure size 640x480 with 1 Axes>"
      ]
     },
     "metadata": {},
     "output_type": "display_data"
    }
   ],
   "source": [
    "plot_loss(losses)"
   ]
  },
  {
   "cell_type": "markdown",
   "id": "e66b7fc0-2c07-45d6-867e-7eeb56d82a63",
   "metadata": {},
   "source": [
    "The loss plot for Q-learning in random model, which doesn't show any sign of convergence."
   ]
  },
  {
   "cell_type": "markdown",
   "id": "82bf007b-8049-40e0-8545-1f467c11748d",
   "metadata": {},
   "source": [
    "## Experience Replay"
   ]
  },
  {
   "cell_type": "markdown",
   "id": "bb077c79-478f-4245-a953-2581e0e3e1cf",
   "metadata": {},
   "source": [
    "Experience Replay is a technique used in Reinforcement Learning to store the agent's experiences at each time step, then randomly draw a batch of experiences to train the model. This approach has several benefits:\n",
    "\n",
    "1. **Breaking Correlation**: In a sequential learning process, consecutive experiences can be highly correlated. Training the model on these experiences in order can lead to overfitting. Experience Replay breaks this correlation by randomly sampling experiences from the replay buffer.\n",
    "\n",
    "2. **Better Utilization of Experiences**: Without Experience Replay, the agent would only learn from each experience once and then discard it. With Experience Replay, the agent can learn from each experience multiple times, which can lead to more efficient learning.\n",
    "\n",
    "3. **Stabilizing the Learning Process**: By using a replay buffer, the distribution of experiences used for learning is more stable over time than the distribution of on-policy experiences, which can lead to a more stable learning process.\n",
    "\n",
    "Here's a simple pseudocode for Experience Replay:\n",
    "\n",
    "```\n",
    "Initialize replay memory D to capacity N\n",
    "Initialize action-value function Q with random weights\n",
    "for episode = 1, M do\n",
    "    Initialize state s_1\n",
    "    for t = 1, T do\n",
    "        With probability ε select a random action a_t\n",
    "        otherwise select a_t = argmax_a Q(s_t, a; θ)\n",
    "        Execute action a_t in emulator and observe reward r_t and new state s_{t+1}\n",
    "        Store transition (s_t, a_t, r_t, s_{t+1}) in D\n",
    "        Sample random minibatch of transitions (s_j, a_j, r_j, s_{j+1}) from D\n",
    "        Set y_j = r_j for terminal s_{j+1}\n",
    "            and y_j = r_j + γ max_a' Q(s_{j+1}, a'; θ) for non-terminal s_{j+1}\n",
    "        Perform a gradient descent step on (y_j - Q(s_j, a_j; θ))^2\n",
    "    end for\n",
    "end for\n",
    "```\n",
    "\n",
    "In this pseudocode, `D` is the replay buffer with capacity `N`, `Q` is the action-value function, `s_t` and `a_t` are the state and action at time `t`, `r_t` is the reward, and `y_j` is the target for the Q-learning update. The agent either selects a random action with probability `ε` or the action with the highest estimated reward. The agent stores each experience in `D` and then samples a minibatch from `D` to perform learning."
   ]
  },
  {
   "cell_type": "code",
   "execution_count": 66,
   "id": "5d21c764-4f0d-4d09-b9b4-6c3ceda30cf7",
   "metadata": {
    "execution": {
     "iopub.execute_input": "2024-02-17T06:56:45.894170Z",
     "iopub.status.busy": "2024-02-17T06:56:45.893292Z",
     "iopub.status.idle": "2024-02-17T06:56:45.913412Z",
     "shell.execute_reply": "2024-02-17T06:56:45.911500Z",
     "shell.execute_reply.started": "2024-02-17T06:56:45.894128Z"
    }
   },
   "outputs": [],
   "source": [
    "from collections import deque\n",
    "\n",
    "def train_model_with_experience_replay(model):\n",
    "    epochs = 5_000\n",
    "    losses = []\n",
    "    mem_size = 1_000\n",
    "    batch_size = 200\n",
    "    replay = deque(maxlen=mem_size)\n",
    "    max_moves = 50\n",
    "    gamma = 0.9\n",
    "    h = 0\n",
    "    \n",
    "    loss_fn = torch.nn.MSELoss()\n",
    "    optimizer = torch.optim.Adam(model.parameters(), lr=1e-3)\n",
    "    \n",
    "    for i in tqdm(range(epochs)):\n",
    "        game = Gridworld(size=4, mode='random')\n",
    "        state1 = get_state(game)\n",
    "        mov = 0\n",
    "        while True:\n",
    "            mov += 1\n",
    "            qval = model(state1)\n",
    "            qval_ = qval.data.numpy()\n",
    "            action_ = epsilon_greedy(qval_, epsilon=0.1)\n",
    "            action = action_set[action_]\n",
    "            game.makeMove(action)\n",
    "\n",
    "            state2 = get_state(game)\n",
    "            reward = game.reward()\n",
    "            done = reward > 0\n",
    "            exp = (state1, action_, reward, state2, done)\n",
    "            replay.append(exp)\n",
    "            state1 = state2\n",
    "\n",
    "            if len(replay) > batch_size:\n",
    "                mini_batch = random.sample(replay, batch_size)\n",
    "                state1_batch = torch.cat([s1 for (s1, a, r, s2, d) in mini_batch]) # Shape: (200, 64)\n",
    "                action_batch = torch.Tensor([a for (s1, a, r, s2, d) in mini_batch])\n",
    "                reward_batch = torch.Tensor([r for (s1, a, r, s2, d) in mini_batch])\n",
    "                state2_batch = torch.cat([s2 for (s1, a, r, s2, d) in mini_batch])\n",
    "                done_batch = torch.Tensor([d for (s1, a, r, s2, d) in mini_batch])\n",
    "                Q1 = model(state1_batch)\n",
    "                with torch.no_grad():\n",
    "                    Q2 = model(state2_batch) # Shape: (200, 4)\n",
    "                Y = reward_batch + gamma * ((1-done_batch) * torch.max(Q2, dim=1)[0])\n",
    "                X  = Q1.gather(dim=1, index=action_batch.long().unsqueeze(dim=1)).squeeze()\n",
    "                loss = loss_fn(X, Y.detach())\n",
    "                optimizer.zero_grad()\n",
    "                loss.backward()\n",
    "                losses.append(loss.item())\n",
    "                optimizer.step()\n",
    "                \n",
    "            if reward != -1 or mov > max_moves:\n",
    "                break\n",
    "    return np.array(losses)"
   ]
  },
  {
   "cell_type": "code",
   "execution_count": 67,
   "id": "f57c84da-6577-4326-9a67-63cf0f8cb497",
   "metadata": {
    "execution": {
     "iopub.execute_input": "2024-02-17T06:56:46.356617Z",
     "iopub.status.busy": "2024-02-17T06:56:46.356268Z",
     "iopub.status.idle": "2024-02-17T06:59:12.908472Z",
     "shell.execute_reply": "2024-02-17T06:59:12.907572Z",
     "shell.execute_reply.started": "2024-02-17T06:56:46.356592Z"
    }
   },
   "outputs": [
    {
     "name": "stderr",
     "output_type": "stream",
     "text": [
      "100%|██████████████████████████████████████████████████████████████████████████████████████████████████████████████| 5000/5000 [02:26<00:00, 34.12it/s]\n"
     ]
    }
   ],
   "source": [
    "model = create_model()\n",
    "losses = train_model_with_experience_replay(model)"
   ]
  },
  {
   "cell_type": "code",
   "execution_count": 68,
   "id": "f1fb4099-a644-478a-a15e-0c61e2551c4a",
   "metadata": {
    "execution": {
     "iopub.execute_input": "2024-02-17T06:59:12.956312Z",
     "iopub.status.busy": "2024-02-17T06:59:12.955636Z",
     "iopub.status.idle": "2024-02-17T06:59:13.471892Z",
     "shell.execute_reply": "2024-02-17T06:59:13.470879Z",
     "shell.execute_reply.started": "2024-02-17T06:59:12.956273Z"
    }
   },
   "outputs": [
    {
     "data": {
      "image/png": "[encoded data removed]",
      "text/plain": [
       "<Figure size 640x480 with 1 Axes>"
      ]
     },
     "metadata": {},
     "output_type": "display_data"
    }
   ],
   "source": [
    "plot_loss(losses)"
   ]
  },
  {
   "cell_type": "code",
   "execution_count": 74,
   "id": "f5108ba7-1c8e-4b3d-b7d4-12799bc14b1e",
   "metadata": {
    "execution": {
     "iopub.execute_input": "2024-02-17T07:01:41.502905Z",
     "iopub.status.busy": "2024-02-17T07:01:41.502431Z",
     "iopub.status.idle": "2024-02-17T07:01:42.418153Z",
     "shell.execute_reply": "2024-02-17T07:01:42.411510Z",
     "shell.execute_reply.started": "2024-02-17T07:01:41.502867Z"
    }
   },
   "outputs": [
    {
     "name": "stderr",
     "output_type": "stream",
     "text": [
      "100%|████████████████████████████████████████████████████████████████████████████████████████████████████████████| 1000/1000 [00:00<00:00, 1145.91it/s]"
     ]
    },
    {
     "name": "stdout",
     "output_type": "stream",
     "text": [
      "Games played: 1000, # of wins: 867\n",
      "Win percentage: 86.7%\n"
     ]
    },
    {
     "name": "stderr",
     "output_type": "stream",
     "text": [
      "\n"
     ]
    }
   ],
   "source": [
    "max_games = 1_000\n",
    "wins = 0\n",
    "for i in tqdm(range(max_games)):\n",
    "    win = test_model(model, mode='random', display=False)\n",
    "    if win:\n",
    "        wins += 1\n",
    "win_percentage = float(wins) / float(max_games)\n",
    "print(f'Games played: {max_games}, # of wins: {wins}')\n",
    "print(f'Win percentage: {win_percentage*100}%')"
   ]
  },
  {
   "cell_type": "markdown",
   "id": "15a87823-d930-4ef8-8474-e558ade2335a",
   "metadata": {},
   "source": [
    "## Target Network"
   ]
  },
  {
   "cell_type": "code",
   "execution_count": 79,
   "id": "8dbfc1b7-707c-4508-b032-8f7bb0d8fe55",
   "metadata": {
    "execution": {
     "iopub.execute_input": "2024-02-17T07:07:40.366348Z",
     "iopub.status.busy": "2024-02-17T07:07:40.360182Z",
     "iopub.status.idle": "2024-02-17T07:07:40.388669Z",
     "shell.execute_reply": "2024-02-17T07:07:40.387831Z",
     "shell.execute_reply.started": "2024-02-17T07:07:40.366240Z"
    }
   },
   "outputs": [],
   "source": [
    "from collections import deque\n",
    "\n",
    "def train_model_with_experience_replay_and_target_network(model, model2):\n",
    "    epochs = 5_000\n",
    "    losses = []\n",
    "    mem_size = 1_000\n",
    "    batch_size = 200\n",
    "    replay = deque(maxlen=mem_size)\n",
    "    max_moves = 50\n",
    "    gamma = 0.9\n",
    "    h = 0\n",
    "    \n",
    "    sync_freq = 50\n",
    "    loss_fn = torch.nn.MSELoss()\n",
    "    optimizer = torch.optim.Adam(model.parameters(), lr=1e-3)\n",
    "    \n",
    "    for i in tqdm(range(epochs)):\n",
    "        game = Gridworld(size=4, mode='random')\n",
    "        state1 = get_state(game)\n",
    "        mov = 0\n",
    "        j = 0\n",
    "        while True:\n",
    "            j += 1\n",
    "            mov += 1\n",
    "            qval = model(state1)\n",
    "            qval_ = qval.data.numpy()\n",
    "            action_ = epsilon_greedy(qval_, epsilon=0.1)\n",
    "            action = action_set[action_]\n",
    "            game.makeMove(action)\n",
    "\n",
    "            state2 = get_state(game)\n",
    "            reward = game.reward()\n",
    "            done = reward > 0\n",
    "            exp = (state1, action_, reward, state2, done)\n",
    "            replay.append(exp)\n",
    "            state1 = state2\n",
    "\n",
    "            if len(replay) > batch_size:\n",
    "                mini_batch = random.sample(replay, batch_size)\n",
    "                state1_batch = torch.cat([s1 for (s1, a, r, s2, d) in mini_batch]) # Shape: (200, 64)\n",
    "                action_batch = torch.Tensor([a for (s1, a, r, s2, d) in mini_batch])\n",
    "                reward_batch = torch.Tensor([r for (s1, a, r, s2, d) in mini_batch])\n",
    "                state2_batch = torch.cat([s2 for (s1, a, r, s2, d) in mini_batch])\n",
    "                done_batch = torch.Tensor([d for (s1, a, r, s2, d) in mini_batch])\n",
    "                Q1 = model(state1_batch)\n",
    "\n",
    "                # Uses the target network to get the maximum Q value for the next state.\n",
    "                with torch.no_grad():\n",
    "                    Q2 = model2(state2_batch) # Shape: (200, 4)\n",
    "                Y = reward_batch + gamma * ((1-done_batch) * torch.max(Q2, dim=1)[0])\n",
    "                X  = Q1.gather(dim=1, index=action_batch.long().unsqueeze(dim=1)).squeeze()\n",
    "                loss = loss_fn(X, Y.detach())\n",
    "                optimizer.zero_grad()\n",
    "                loss.backward()\n",
    "                losses.append(loss.item())\n",
    "                optimizer.step()\n",
    "\n",
    "                if j % sync_freq == 0:\n",
    "                    model2.load_state_dict(model.state_dict())\n",
    "                \n",
    "            if reward != -1 or mov > max_moves:\n",
    "                break\n",
    "    return np.array(losses)"
   ]
  },
  {
   "cell_type": "code",
   "execution_count": 80,
   "id": "aa6cc7d2-20ba-439b-8c46-4d111552fd96",
   "metadata": {
    "execution": {
     "iopub.execute_input": "2024-02-17T07:08:17.783727Z",
     "iopub.status.busy": "2024-02-17T07:08:17.782766Z",
     "iopub.status.idle": "2024-02-17T07:10:46.802771Z",
     "shell.execute_reply": "2024-02-17T07:10:46.801846Z",
     "shell.execute_reply.started": "2024-02-17T07:08:17.783679Z"
    }
   },
   "outputs": [
    {
     "name": "stderr",
     "output_type": "stream",
     "text": [
      "100%|██████████████████████████████████████████████████████████████████████████████████████████████████████████████| 5000/5000 [02:28<00:00, 33.56it/s]\n"
     ]
    }
   ],
   "source": [
    "import copy\n",
    "\n",
    "model = create_model()\n",
    "model2 = copy.deepcopy(model)\n",
    "model2.load_state_dict(model.state_dict())\n",
    "\n",
    "losses = train_model_with_experience_replay_and_target_network(model, model2)"
   ]
  },
  {
   "cell_type": "code",
   "execution_count": 81,
   "id": "51081a40-a266-4193-83e5-2f9d7080351a",
   "metadata": {
    "execution": {
     "iopub.execute_input": "2024-02-17T07:10:46.804970Z",
     "iopub.status.busy": "2024-02-17T07:10:46.804566Z",
     "iopub.status.idle": "2024-02-17T07:10:47.353568Z",
     "shell.execute_reply": "2024-02-17T07:10:47.351996Z",
     "shell.execute_reply.started": "2024-02-17T07:10:46.804934Z"
    }
   },
   "outputs": [
    {
     "data": {
      "image/png": "[encoded data removed]",
      "text/plain": [
       "<Figure size 640x480 with 1 Axes>"
      ]
     },
     "metadata": {},
     "output_type": "display_data"
    }
   ],
   "source": [
    "plot_loss(losses)"
   ]
  },
  {
   "cell_type": "code",
   "execution_count": 82,
   "id": "55d3ad33-156a-481d-8f81-dfe86ec946a8",
   "metadata": {
    "execution": {
     "iopub.execute_input": "2024-02-17T07:11:01.579494Z",
     "iopub.status.busy": "2024-02-17T07:11:01.578796Z",
     "iopub.status.idle": "2024-02-17T07:11:02.916623Z",
     "shell.execute_reply": "2024-02-17T07:11:02.915156Z",
     "shell.execute_reply.started": "2024-02-17T07:11:01.579462Z"
    }
   },
   "outputs": [
    {
     "name": "stderr",
     "output_type": "stream",
     "text": [
      "100%|█████████████████████████████████████████████████████████████████████████████████████████████████████████████| 1000/1000 [00:01<00:00, 753.81it/s]"
     ]
    },
    {
     "name": "stdout",
     "output_type": "stream",
     "text": [
      "Games played: 1000, # of wins: 844\n",
      "Win percentage: 84.39999999999999%\n"
     ]
    },
    {
     "name": "stderr",
     "output_type": "stream",
     "text": [
      "\n"
     ]
    }
   ],
   "source": [
    "max_games = 1_000\n",
    "wins = 0\n",
    "for i in tqdm(range(max_games)):\n",
    "    win = test_model(model, mode='random', display=False)\n",
    "    if win:\n",
    "        wins += 1\n",
    "win_percentage = float(wins) / float(max_games)\n",
    "print(f'Games played: {max_games}, # of wins: {wins}')\n",
    "print(f'Win percentage: {win_percentage*100}%')"
   ]
  }
 ],
 "metadata": {
  "kernelspec": {
   "display_name": "Python 3 (ipykernel)",
   "language": "python",
   "name": "python3"
  },
  "language_info": {
   "codemirror_mode": {
    "name": "ipython",
    "version": 3
   },
   "file_extension": ".py",
   "mimetype": "text/x-python",
   "name": "python",
   "nbconvert_exporter": "python",
   "pygments_lexer": "ipython3",
   "version": "3.11.7"
  }
 },
 "nbformat": 4,
 "nbformat_minor": 5
}
