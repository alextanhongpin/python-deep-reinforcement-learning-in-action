{
 "cells": [
  {
   "cell_type": "code",
   "execution_count": 4,
   "id": "f4b89dbb-d4b6-473e-9f9e-9e5d0cdf1e83",
   "metadata": {
    "execution": {
     "iopub.execute_input": "2024-02-20T15:16:51.029500Z",
     "iopub.status.busy": "2024-02-20T15:16:51.027496Z",
     "iopub.status.idle": "2024-02-20T15:16:52.931111Z",
     "shell.execute_reply": "2024-02-20T15:16:52.930351Z",
     "shell.execute_reply.started": "2024-02-20T15:16:51.029446Z"
    }
   },
   "outputs": [],
   "source": [
    "import gym_super_mario_bros\n",
    "import gymnasium as gym\n",
    "from gym_super_mario_bros.actions import COMPLEX_MOVEMENT, SIMPLE_MOVEMENT\n",
    "from nes_py.wrappers import JoypadSpace\n",
    "\n",
    "env = gym_super_mario_bros.make(\"SuperMarioBros-v3\")\n",
    "env = JoypadSpace(env, COMPLEX_MOVEMENT)"
   ]
  },
  {
   "cell_type": "code",
   "execution_count": 5,
   "id": "8741ff71-947d-4cf2-90ec-1cf0313425a9",
   "metadata": {
    "execution": {
     "iopub.execute_input": "2024-02-20T15:16:52.933877Z",
     "iopub.status.busy": "2024-02-20T15:16:52.933058Z",
     "iopub.status.idle": "2024-02-20T15:16:52.977293Z",
     "shell.execute_reply": "2024-02-20T15:16:52.966590Z",
     "shell.execute_reply.started": "2024-02-20T15:16:52.933801Z"
    }
   },
   "outputs": [
    {
     "data": {
      "text/plain": [
       "([['NOOP'],\n",
       "  ['right'],\n",
       "  ['right', 'A'],\n",
       "  ['right', 'B'],\n",
       "  ['right', 'A', 'B'],\n",
       "  ['A'],\n",
       "  ['left'],\n",
       "  ['left', 'A'],\n",
       "  ['left', 'B'],\n",
       "  ['left', 'A', 'B'],\n",
       "  ['down'],\n",
       "  ['up']],\n",
       " [['NOOP'],\n",
       "  ['right'],\n",
       "  ['right', 'A'],\n",
       "  ['right', 'B'],\n",
       "  ['right', 'A', 'B'],\n",
       "  ['A'],\n",
       "  ['left']])"
      ]
     },
     "execution_count": 5,
     "metadata": {},
     "output_type": "execute_result"
    }
   ],
   "source": [
    "COMPLEX_MOVEMENT, SIMPLE_MOVEMENT"
   ]
  },
  {
   "cell_type": "code",
   "execution_count": 4,
   "id": "cf44f909-fc1c-46de-b4fc-52ab9c3427d9",
   "metadata": {
    "execution": {
     "iopub.execute_input": "2024-02-20T15:12:26.789771Z",
     "iopub.status.busy": "2024-02-20T15:12:26.789276Z",
     "iopub.status.idle": "2024-02-20T15:12:42.565837Z",
     "shell.execute_reply": "2024-02-20T15:12:42.565007Z",
     "shell.execute_reply.started": "2024-02-20T15:12:26.789744Z"
    }
   },
   "outputs": [
    {
     "name": "stderr",
     "output_type": "stream",
     "text": [
      "2024-02-20 23:12:27.544 Python[56224:5266419] ApplePersistenceIgnoreState: Existing state will not be touched. New state will be written to /var/folders/7m/74_ct3hx33d878n626w1wxyc0000gn/T/org.python.python.savedState\n"
     ]
    }
   ],
   "source": [
    "done = True\n",
    "for step in range(2500):\n",
    "    if done:\n",
    "        state = env.reset()\n",
    "    # pip install gym==0.23.1\n",
    "    state, reward, done, info = env.step(env.action_space.sample())\n",
    "    env.render()\n",
    "env.close()"
   ]
  },
  {
   "cell_type": "code",
   "execution_count": 6,
   "id": "2d1f4fc6-cb5d-4e5b-b5b7-3050e004be72",
   "metadata": {
    "execution": {
     "iopub.execute_input": "2024-02-20T15:16:56.181230Z",
     "iopub.status.busy": "2024-02-20T15:16:56.180231Z",
     "iopub.status.idle": "2024-02-20T15:16:56.209696Z",
     "shell.execute_reply": "2024-02-20T15:16:56.206378Z",
     "shell.execute_reply.started": "2024-02-20T15:16:56.181197Z"
    }
   },
   "outputs": [],
   "source": [
    "import matplotlib.pyplot as plt\n",
    "import numpy as np\n",
    "from skimage.transform import resize\n",
    "\n",
    "\n",
    "def downscale_obs(obs, new_size=(42, 42), to_gray=True):\n",
    "    if to_gray:\n",
    "        # To convert to grayscale, we simply take the maximum value\n",
    "        # across the channel dimension for good constrast.\n",
    "        return resize(obs, new_size, anti_aliasing=True).max(axis=2)\n",
    "    return resize(obs, new_size, anti_aliasing=True)"
   ]
  },
  {
   "cell_type": "code",
   "execution_count": 7,
   "id": "5e9f102a-e59b-402a-a46d-57ae0e24ca6a",
   "metadata": {
    "execution": {
     "iopub.execute_input": "2024-02-20T15:16:56.378528Z",
     "iopub.status.busy": "2024-02-20T15:16:56.377643Z",
     "iopub.status.idle": "2024-02-20T15:16:56.757031Z",
     "shell.execute_reply": "2024-02-20T15:16:56.756129Z",
     "shell.execute_reply.started": "2024-02-20T15:16:56.378496Z"
    }
   },
   "outputs": [
    {
     "data": {
      "text/plain": [
       "<matplotlib.image.AxesImage at 0x116e65a50>"
      ]
     },
     "execution_count": 7,
     "metadata": {},
     "output_type": "execute_result"
    },
    {
     "data": {
      "image/png": "[encoded data removed]",
      "text/plain": [
       "<Figure size 640x480 with 1 Axes>"
      ]
     },
     "metadata": {},
     "output_type": "display_data"
    }
   ],
   "source": [
    "plt.imshow(env.render(\"rgb_array\"))"
   ]
  },
  {
   "cell_type": "code",
   "execution_count": 8,
   "id": "fa1765ce-3ca3-4ef0-95c3-35e578254b27",
   "metadata": {
    "execution": {
     "iopub.execute_input": "2024-02-20T15:17:03.902775Z",
     "iopub.status.busy": "2024-02-20T15:17:03.900793Z",
     "iopub.status.idle": "2024-02-20T15:17:04.270954Z",
     "shell.execute_reply": "2024-02-20T15:17:04.269808Z",
     "shell.execute_reply.started": "2024-02-20T15:17:03.902717Z"
    }
   },
   "outputs": [
    {
     "data": {
      "text/plain": [
       "<matplotlib.image.AxesImage at 0x1035ff090>"
      ]
     },
     "execution_count": 8,
     "metadata": {},
     "output_type": "execute_result"
    },
    {
     "data": {
      "image/png": "[encoded data removed]",
      "text/plain": [
       "<Figure size 640x480 with 1 Axes>"
      ]
     },
     "metadata": {},
     "output_type": "display_data"
    }
   ],
   "source": [
    "plt.imshow(downscale_obs(env.render(\"rgb_array\")))"
   ]
  },
  {
   "cell_type": "code",
   "execution_count": 10,
   "id": "f391f357-3cb7-4587-9ff4-155ae57a8b82",
   "metadata": {
    "execution": {
     "iopub.execute_input": "2024-02-20T15:25:13.823877Z",
     "iopub.status.busy": "2024-02-20T15:25:13.821267Z",
     "iopub.status.idle": "2024-02-20T15:25:13.845266Z",
     "shell.execute_reply": "2024-02-20T15:25:13.842342Z",
     "shell.execute_reply.started": "2024-02-20T15:25:13.823793Z"
    }
   },
   "outputs": [],
   "source": [
    "from collections import deque\n",
    "\n",
    "import torch\n",
    "import torch.nn.functional as F\n",
    "from torch import nn, optim\n",
    "\n",
    "\n",
    "def prepare_state(state):\n",
    "    \"\"\"downscale state and converts to grayscale, converts to PyTorch tensor, and finally adds a batch dimension\"\"\"\n",
    "    return torch.from_numpy(downscale_obs(state, to_gray=True)).float().unsqueeze(dim=0)\n",
    "\n",
    "\n",
    "def prepare_multi_state(state1, state2):\n",
    "    \"\"\"given an existing 3-frame state1 and a single frame 2, adds the latest frame to the queue\"\"\"\n",
    "    state1 = state1.clone()\n",
    "    tmp = torch.from_numpy(downscale_obs(state2, to_gray=True)).float()\n",
    "    state1[0][0] = state1[0][1]\n",
    "    state1[0][1] = state1[0][2]\n",
    "    state1[0][2] = tmp\n",
    "    return state1\n",
    "\n",
    "\n",
    "def prepare_initial_state(state, N=3):\n",
    "    \"\"\"create a state with three copies of the same frame and adds a batch dimension\"\"\"\n",
    "    state_ = torch.from_numpy(downscale_obs(state, to_gray=True)).float()\n",
    "    tmp = state_.repeat((N, 1, 1))\n",
    "    return tmp.unsqueeze(dim=0)"
   ]
  },
  {
   "cell_type": "code",
   "execution_count": 50,
   "id": "e6c0404c-b366-442a-8ee1-98b7c5aee1f5",
   "metadata": {
    "execution": {
     "iopub.execute_input": "2024-02-20T16:05:40.276059Z",
     "iopub.status.busy": "2024-02-20T16:05:40.275682Z",
     "iopub.status.idle": "2024-02-20T16:05:40.283619Z",
     "shell.execute_reply": "2024-02-20T16:05:40.282146Z",
     "shell.execute_reply.started": "2024-02-20T16:05:40.276033Z"
    }
   },
   "outputs": [],
   "source": [
    "def policy(qvalues, eps=None):\n",
    "    if eps is not None:\n",
    "        if torch.rand(1) < eps:\n",
    "            return torch.randint(low=0, high=7, size=(1,))\n",
    "        return torch.argmax(qvalues)\n",
    "    return torch.multinomial(F.softmax(F.normalize(qvalues)), num_samples=1)"
   ]
  },
  {
   "cell_type": "code",
   "execution_count": 41,
   "id": "a7896f12-dc40-4f2c-a75b-33e2fcde6c33",
   "metadata": {
    "execution": {
     "iopub.execute_input": "2024-02-20T16:03:29.658532Z",
     "iopub.status.busy": "2024-02-20T16:03:29.658162Z",
     "iopub.status.idle": "2024-02-20T16:03:29.676261Z",
     "shell.execute_reply": "2024-02-20T16:03:29.673990Z",
     "shell.execute_reply.started": "2024-02-20T16:03:29.658505Z"
    }
   },
   "outputs": [],
   "source": [
    "from random import shuffle\n",
    "\n",
    "import torch\n",
    "import torch.nn.functional as F\n",
    "from torch import nn, optim\n",
    "\n",
    "\n",
    "class ExperienceReplay:\n",
    "    def __init__(self, N=500, batch_size=100):\n",
    "        self.N = N  # A\n",
    "        self.batch_size = batch_size  # B\n",
    "        self.memory = []\n",
    "        self.counter = 0\n",
    "\n",
    "    def add_memory(self, state1, action, reward, state2):\n",
    "        self.counter += 1\n",
    "        if self.counter % 500 == 0:  # C\n",
    "            self.shuffle_memory()\n",
    "\n",
    "        if len(self.memory) < self.N:  # D\n",
    "            self.memory.append((state1, action, reward, state2))\n",
    "        else:\n",
    "            rand_index = np.random.randint(0, self.N - 1)\n",
    "            self.memory[rand_index] = (state1, action, reward, state2)\n",
    "\n",
    "    def shuffle_memory(self):  # E\n",
    "        shuffle(self.memory)\n",
    "\n",
    "    def get_batch(self):  # F\n",
    "        if len(self.memory) < self.batch_size:\n",
    "            batch_size = len(self.memory)\n",
    "        else:\n",
    "            batch_size = self.batch_size\n",
    "        if len(self.memory) < 1:\n",
    "            print(\"Error: No data in memory.\")\n",
    "            return None\n",
    "        # G\n",
    "        ind = np.random.choice(np.arange(len(self.memory)), batch_size, replace=False)\n",
    "        batch = [self.memory[i] for i in ind]  # batch is a list of tuples\n",
    "        state1_batch = torch.stack([x[0].squeeze(dim=0) for x in batch], dim=0)\n",
    "        action_batch = torch.Tensor([x[1] for x in batch]).long()\n",
    "        reward_batch = torch.Tensor([x[2] for x in batch])\n",
    "        state2_batch = torch.stack([x[3].squeeze(dim=0) for x in batch], dim=0)\n",
    "        return state1_batch, action_batch, reward_batch, state2_batch"
   ]
  },
  {
   "cell_type": "markdown",
   "id": "636bf53b-c85a-47d6-a475-c71e9f739203",
   "metadata": {},
   "source": [
    "## ICM Components"
   ]
  },
  {
   "cell_type": "code",
   "execution_count": 42,
   "id": "101afa8c-fbd9-4cd5-8026-97c70a170a70",
   "metadata": {
    "execution": {
     "iopub.execute_input": "2024-02-20T16:03:29.985636Z",
     "iopub.status.busy": "2024-02-20T16:03:29.985279Z",
     "iopub.status.idle": "2024-02-20T16:03:30.007802Z",
     "shell.execute_reply": "2024-02-20T16:03:30.006211Z",
     "shell.execute_reply.started": "2024-02-20T16:03:29.985612Z"
    }
   },
   "outputs": [],
   "source": [
    "class Phi(nn.Module):\n",
    "    def __init__(self):\n",
    "        super(Phi, self).__init__()\n",
    "        self.conv1 = nn.Conv2d(3, 32, kernel_size=(3, 3), stride=2, padding=1)\n",
    "        self.conv2 = nn.Conv2d(32, 32, kernel_size=(3, 3), stride=2, padding=1)\n",
    "        self.conv3 = nn.Conv2d(32, 32, kernel_size=(3, 3), stride=2, padding=1)\n",
    "        self.conv4 = nn.Conv2d(32, 32, kernel_size=(3, 3), stride=2, padding=1)\n",
    "\n",
    "    def forward(self, x):\n",
    "        x = F.normalize(x)\n",
    "        y = F.elu(self.conv1(x))\n",
    "        y = F.elu(self.conv2(y))\n",
    "        y = F.elu(self.conv3(y))\n",
    "        y = F.elu(self.conv4(y))  # Size: [1, 32, 3, 3]\n",
    "        y = y.flatten(start_dim=1)  # Size: N, 288\n",
    "        return y\n",
    "\n",
    "\n",
    "class Gnet(nn.Module):\n",
    "    def __init__(self):\n",
    "        super(Gnet, self).__init__()\n",
    "        self.linear1 = nn.Linear(576, 256)\n",
    "        self.linear2 = nn.Linear(256, 12)\n",
    "\n",
    "    def forward(self, state1, state2):\n",
    "        x = torch.cat((state1, state2), dim=1)\n",
    "        y = F.relu(self.linear1(x))\n",
    "        y = self.linear2(y)\n",
    "        y = F.softmax(y, dim=1)\n",
    "        return y\n",
    "\n",
    "\n",
    "class Fnet(nn.Module):\n",
    "    def __init__(self):\n",
    "        super(Fnet, self).__init__()\n",
    "        self.linear1 = nn.Linear(300, 256)\n",
    "        self.linear2 = nn.Linear(256, 288)\n",
    "\n",
    "    def forward(self, state, action):\n",
    "        action_ = torch.zeros(action.shape[0], 12)\n",
    "        indices = torch.stack((torch.arange(action.shape[0]), action.squeeze()), dim=0)\n",
    "        indices = indices.tolist()\n",
    "        action_[indices] = 1.0\n",
    "        x = torch.cat((state, action_), dim=1)\n",
    "        y = F.relu(self.linear1(x))\n",
    "        y = self.linear2(y)\n",
    "        return y"
   ]
  },
  {
   "cell_type": "code",
   "execution_count": 43,
   "id": "055dc230-eb5a-4c0a-a360-a1387bb5e6fc",
   "metadata": {
    "execution": {
     "iopub.execute_input": "2024-02-20T16:03:30.181506Z",
     "iopub.status.busy": "2024-02-20T16:03:30.180762Z",
     "iopub.status.idle": "2024-02-20T16:03:30.191622Z",
     "shell.execute_reply": "2024-02-20T16:03:30.190529Z",
     "shell.execute_reply.started": "2024-02-20T16:03:30.181473Z"
    }
   },
   "outputs": [],
   "source": [
    "class Qnetwork(nn.Module):\n",
    "    def __init__(self):\n",
    "        super(Qnetwork, self).__init__()\n",
    "        # in_channels, out_channels, kernel_size, stride=1, padding=0\n",
    "        self.conv1 = nn.Conv2d(\n",
    "            in_channels=3, out_channels=32, kernel_size=(3, 3), stride=2, padding=1\n",
    "        )\n",
    "        self.conv2 = nn.Conv2d(32, 32, kernel_size=(3, 3), stride=2, padding=1)\n",
    "        self.conv3 = nn.Conv2d(32, 32, kernel_size=(3, 3), stride=2, padding=1)\n",
    "        self.conv4 = nn.Conv2d(32, 32, kernel_size=(3, 3), stride=2, padding=1)\n",
    "        self.linear1 = nn.Linear(288, 100)\n",
    "        self.linear2 = nn.Linear(100, 12)\n",
    "\n",
    "    def forward(self, x):\n",
    "        x = F.normalize(x)\n",
    "        y = F.elu(self.conv1(x))\n",
    "        y = F.elu(self.conv2(y))\n",
    "        y = F.elu(self.conv3(y))\n",
    "        y = F.elu(self.conv4(y))\n",
    "        y = y.flatten(start_dim=2)\n",
    "        y = y.view(y.shape[0], -1, 32)\n",
    "        y = y.flatten(start_dim=1)\n",
    "        y = F.elu(self.linear1(y))\n",
    "        y = self.linear2(y)  # size N, 12\n",
    "        return y"
   ]
  },
  {
   "cell_type": "code",
   "execution_count": 44,
   "id": "3f1b3fd1-a3ad-469e-88ea-664eec8501c9",
   "metadata": {
    "execution": {
     "iopub.execute_input": "2024-02-20T16:03:30.384699Z",
     "iopub.status.busy": "2024-02-20T16:03:30.383928Z",
     "iopub.status.idle": "2024-02-20T16:03:30.402984Z",
     "shell.execute_reply": "2024-02-20T16:03:30.402065Z",
     "shell.execute_reply.started": "2024-02-20T16:03:30.384667Z"
    }
   },
   "outputs": [],
   "source": [
    "params = {\n",
    "    \"batch_size\": 150,\n",
    "    \"beta\": 0.2,\n",
    "    \"lambda\": 0.1,\n",
    "    \"eta\": 1.0,\n",
    "    \"gamma\": 0.2,\n",
    "    \"max_episode_len\": 100,\n",
    "    \"min_progress\": 15,\n",
    "    \"action_repeats\": 6,\n",
    "    \"frames_per_state\": 3,\n",
    "}\n",
    "replay = ExperienceReplay(N=1000, batch_size=params[\"batch_size\"])\n",
    "Qmodel = Qnetwork()\n",
    "encoder = Phi()\n",
    "forward_model = Fnet()\n",
    "inverse_model = Gnet()\n",
    "forward_loss = nn.MSELoss(reduction=\"none\")\n",
    "inverse_loss = nn.CrossEntropyLoss(reduction=\"none\")\n",
    "qloss = nn.MSELoss()\n",
    "all_model_params = list(Qmodel.parameters()) + list(encoder.parameters())\n",
    "all_model_params += list(forward_model.parameters()) + list(inverse_model.parameters())\n",
    "opt = optim.Adam(lr=0.001, params=all_model_params)"
   ]
  },
  {
   "cell_type": "code",
   "execution_count": 45,
   "id": "029eec9e-5ce9-400c-9a21-4ae252039832",
   "metadata": {
    "execution": {
     "iopub.execute_input": "2024-02-20T16:03:30.588083Z",
     "iopub.status.busy": "2024-02-20T16:03:30.587659Z",
     "iopub.status.idle": "2024-02-20T16:03:30.596084Z",
     "shell.execute_reply": "2024-02-20T16:03:30.593558Z",
     "shell.execute_reply.started": "2024-02-20T16:03:30.588054Z"
    }
   },
   "outputs": [],
   "source": [
    "def loss_fn(q_loss, inverse_loss, forward_loss):\n",
    "    loss_ = (1 - params[\"beta\"]) * inverse_loss\n",
    "    loss_ += params[\"beta\"] * forward_loss\n",
    "    loss_ = loss_.sum() / loss_.flatten().shape[0]\n",
    "    loss = loss_ + params[\"lambda\"] * q_loss\n",
    "    return loss\n",
    "\n",
    "\n",
    "def reset_env():\n",
    "    env.reset()\n",
    "    state1 = prepare_initial_state(env.render(\"rgb_array\"))\n",
    "    return state1"
   ]
  },
  {
   "cell_type": "code",
   "execution_count": 46,
   "id": "b8301274-4556-47f7-ada3-00dc194f3b9a",
   "metadata": {
    "execution": {
     "iopub.execute_input": "2024-02-20T16:03:30.897199Z",
     "iopub.status.busy": "2024-02-20T16:03:30.896780Z",
     "iopub.status.idle": "2024-02-20T16:03:30.904988Z",
     "shell.execute_reply": "2024-02-20T16:03:30.903790Z",
     "shell.execute_reply.started": "2024-02-20T16:03:30.897173Z"
    }
   },
   "outputs": [],
   "source": [
    "def ICM(state1, action, state2, forward_scale=1.0, inverse_scale=1e4):\n",
    "    state1_hat = encoder(state1)\n",
    "    state2_hat = encoder(state2)\n",
    "    state2_hat_pred = forward_model(state1_hat.detach(), action.detach())\n",
    "    forward_pred_err = forward_scale * forward_loss(\n",
    "        state2_hat_pred, state2_hat.detach()\n",
    "    ).sum(dim=1).unsqueeze(dim=1)\n",
    "    pred_action = inverse_model(state1_hat, state2_hat)\n",
    "    inverse_pred_err = inverse_scale * inverse_loss(\n",
    "        pred_action, action.detach().flatten()\n",
    "    ).unsqueeze(dim=1)\n",
    "    return forward_pred_err, inverse_pred_err"
   ]
  },
  {
   "cell_type": "code",
   "execution_count": 47,
   "id": "0ffb6691-1e7b-4dbc-9128-d81a9ee11f0d",
   "metadata": {
    "execution": {
     "iopub.execute_input": "2024-02-20T16:03:31.068341Z",
     "iopub.status.busy": "2024-02-20T16:03:31.067182Z",
     "iopub.status.idle": "2024-02-20T16:03:31.077909Z",
     "shell.execute_reply": "2024-02-20T16:03:31.076723Z",
     "shell.execute_reply.started": "2024-02-20T16:03:31.068292Z"
    }
   },
   "outputs": [],
   "source": [
    "def minibatch_train(use_explicit=True):\n",
    "    state1_batch, action_batch, reward_batch, state2_batch = replay.get_batch()\n",
    "    action_batch = action_batch.view(action_batch.shape[0], 1)\n",
    "    reward_batch = reward_batch.view(reward_batch.shape[0], 1)\n",
    "    forward_pred_err, inverse_pred_err = ICM(state1_batch, action_batch, state2_batch)\n",
    "    i_reward = (1.0 / params[\"eta\"]) * forward_pred_err\n",
    "    reward = i_reward.detach()\n",
    "    if use_explicit:\n",
    "        reward += reward_batch\n",
    "\n",
    "    qvals = Qmodel(state2_batch)\n",
    "    reward += params[\"gamma\"] * torch.max(qvals)\n",
    "    reward_pred = Qmodel(state1_batch)\n",
    "    reward_target = reward_pred.clone()\n",
    "    indices = torch.stack(\n",
    "        (torch.arange(action_batch.shape[0]), action_batch.squeeze()), dim=0\n",
    "    )\n",
    "    indices = indices.tolist()\n",
    "    reward_target[indices] = reward.squeeze()\n",
    "    q_loss = 1e5 * qloss(F.normalize(reward_pred), F.normalize(reward_target.detach()))\n",
    "    return forward_pred_err, inverse_pred_err, q_loss"
   ]
  },
  {
   "cell_type": "code",
   "execution_count": 62,
   "id": "cd63fd27-4806-4eb2-98eb-401ddd072eb8",
   "metadata": {
    "execution": {
     "iopub.execute_input": "2024-02-20T16:13:18.972267Z",
     "iopub.status.busy": "2024-02-20T16:13:18.971712Z",
     "iopub.status.idle": "2024-02-20T16:22:26.893385Z",
     "shell.execute_reply": "2024-02-20T16:22:26.888631Z",
     "shell.execute_reply.started": "2024-02-20T16:13:18.972233Z"
    }
   },
   "outputs": [
    {
     "name": "stderr",
     "output_type": "stream",
     "text": [
      "/var/folders/7m/74_ct3hx33d878n626w1wxyc0000gn/T/ipykernel_58357/3259297072.py:1: TqdmWarning: IProgress not found. Please update jupyter and ipywidgets. See https://ipywidgets.readthedocs.io/en/stable/user_install.html\n",
      "  from tqdm.autonotebook import tqdm\n",
      "  0%|                                                                                                                         | 0/1000 [00:00<?, ?it/s]/var/folders/7m/74_ct3hx33d878n626w1wxyc0000gn/T/ipykernel_58357/4178195245.py:6: UserWarning: Implicit dimension choice for softmax has been deprecated. Change the call to include dim=X as an argument.\n",
      "  return torch.multinomial(F.softmax(F.normalize(qvalues)), num_samples=1)\n",
      "100%|██████████████████████████████████████████████████████████████████████████████████████████████████████████████| 1000/1000 [09:07<00:00,  1.83it/s]\n"
     ]
    }
   ],
   "source": [
    "from tqdm.autonotebook import tqdm\n",
    "\n",
    "epochs = 1000\n",
    "env.reset()\n",
    "state1 = prepare_initial_state(env.render(\"rgb_array\"))\n",
    "eps = 0.15\n",
    "losses = []\n",
    "episode_length = 0\n",
    "switch_to_eps_greedy = 1000\n",
    "state_deque = deque(maxlen=params[\"frames_per_state\"])\n",
    "e_reward = 0.0\n",
    "last_x_pos = env.env.env.env._x_position\n",
    "ep_lengths = []\n",
    "use_explicit = False\n",
    "for i in tqdm(range(epochs)):\n",
    "    opt.zero_grad()\n",
    "    episode_length += 1\n",
    "    q_val_pred = Qmodel(state1)\n",
    "    if i > switch_to_eps_greedy:\n",
    "        action = int(policy(q_val_pred, eps))\n",
    "    else:\n",
    "        action = int(policy(q_val_pred))\n",
    "    for j in range(params[\"action_repeats\"]):\n",
    "        state2, e_reward_, done, info = env.step(action)\n",
    "        last_x_pos = info[\"x_pos\"]\n",
    "        if done:\n",
    "            state1 = reset_env()\n",
    "            break\n",
    "        e_reward += e_reward_\n",
    "        state_deque.append(prepare_state(state2))\n",
    "    state2 = torch.stack(list(state_deque), dim=1)\n",
    "    replay.add_memory(state1, action, e_reward, state2)\n",
    "    e_reward = 0\n",
    "    if episode_length > params[\"max_episode_len\"]:\n",
    "        if info[\"x_pos\"] - last_x_pos < params[\"min_progress\"]:\n",
    "            done = True\n",
    "        else:\n",
    "            last_x_pos = info[\"x_pos\"]\n",
    "    if done:\n",
    "        ep_lengths.append(info[\"x_pos\"])\n",
    "        state1 = reset_env()\n",
    "        last_x_pos = env.env.env.env._x_position\n",
    "        episode_length = 0\n",
    "    else:\n",
    "        state1 = state2\n",
    "\n",
    "    if len(replay.memory) < params[\"batch_size\"]:\n",
    "        continue\n",
    "    forward_pred_err, inverse_pred_err, q_loss = minibatch_train(use_explicit=False)\n",
    "    loss = loss_fn(q_loss, forward_pred_err, inverse_pred_err)\n",
    "    loss_list = (\n",
    "        q_loss.mean(),\n",
    "        forward_pred_err.flatten().mean(),\n",
    "        inverse_pred_err.flatten().mean(),\n",
    "    )\n",
    "    losses.append(loss_list)\n",
    "    loss.backward()\n",
    "    opt.step()"
   ]
  },
  {
   "cell_type": "code",
   "execution_count": 63,
   "id": "eeead50e-6585-4095-9235-06b44dd3e615",
   "metadata": {
    "execution": {
     "iopub.execute_input": "2024-02-20T16:22:27.037051Z",
     "iopub.status.busy": "2024-02-20T16:22:27.035085Z",
     "iopub.status.idle": "2024-02-20T16:22:27.436347Z",
     "shell.execute_reply": "2024-02-20T16:22:27.435638Z",
     "shell.execute_reply.started": "2024-02-20T16:22:27.037004Z"
    }
   },
   "outputs": [
    {
     "data": {
      "image/png": "[encoded data removed]",
      "text/plain": [
       "<Figure size 800x600 with 1 Axes>"
      ]
     },
     "metadata": {},
     "output_type": "display_data"
    }
   ],
   "source": [
    "losses_ = np.array([[l.detach().numpy() for l in loss] for loss in losses])\n",
    "plt.figure(figsize=(8, 6))\n",
    "plt.plot(np.log(losses_[:, 0]), label=\"Q loss\")\n",
    "plt.plot(np.log(losses_[:, 1]), label=\"Forward loss\")\n",
    "plt.plot(np.log(losses_[:, 2]), label=\"Inverse loss\")\n",
    "plt.legend()\n",
    "plt.show()"
   ]
  },
  {
   "cell_type": "code",
   "execution_count": null,
   "id": "c7acc583-58c2-40a8-9e2a-d3293d89319a",
   "metadata": {},
   "outputs": [],
   "source": []
  }
 ],
 "metadata": {
  "kernelspec": {
   "display_name": "Python 3 (ipykernel)",
   "language": "python",
   "name": "python3"
  },
  "language_info": {
   "codemirror_mode": {
    "name": "ipython",
    "version": 3
   },
   "file_extension": ".py",
   "mimetype": "text/x-python",
   "name": "python",
   "nbconvert_exporter": "python",
   "pygments_lexer": "ipython3",
   "version": "3.11.7"
  }
 },
 "nbformat": 4,
 "nbformat_minor": 5
}
