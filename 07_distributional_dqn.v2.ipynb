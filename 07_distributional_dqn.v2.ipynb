{
 "cells": [
  {
   "cell_type": "code",
   "execution_count": 28,
   "id": "3c3939da-2167-4908-b385-a93ad730c7e3",
   "metadata": {},
   "outputs": [],
   "source": [
    "import matplotlib.pyplot as plt\n",
    "import numpy as np\n",
    "import torch"
   ]
  },
  {
   "cell_type": "code",
   "execution_count": 128,
   "id": "2f9a4f23-00be-4b72-a54c-d909f6099b1b",
   "metadata": {},
   "outputs": [],
   "source": [
    "def get_index(r, nsup, lim=(-10, 10)):\n",
    "    lo, hi = lim\n",
    "    i = np.round((r - lo) / (hi - lo) * (nsup - 1))\n",
    "    i = int(np.clip(i, 0, nsup - 1))\n",
    "    return i\n",
    "\n",
    "\n",
    "def update_dist(r, probs, lim=(-10, 10), gamma=0.8):\n",
    "    nsup = probs.shape[0]\n",
    "    bj = get_index(r, nsup, lim)\n",
    "    m = probs.clone()\n",
    "    j = 1\n",
    "    for i in range(bj, 1, -1):\n",
    "        m[i] += np.power(gamma, j) * m[i - 1]\n",
    "        j += 1\n",
    "    j = 1\n",
    "    for i in range(bj, nsup - 1, 1):\n",
    "        m[i] += np.power(gamma, j) * m[i + 1]\n",
    "        j += 1\n",
    "    m = m / m.sum()\n",
    "    return m"
   ]
  },
  {
   "cell_type": "code",
   "execution_count": 129,
   "id": "3d5eef47-c9d7-4f53-9e47-71312ee99122",
   "metadata": {},
   "outputs": [
    {
     "data": {
      "image/png": "[encoded data removed]",
      "text/plain": [
       "<Figure size 640x480 with 1 Axes>"
      ]
     },
     "metadata": {},
     "output_type": "display_data"
    }
   ],
   "source": [
    "probs = torch.from_numpy(np.ones(51))\n",
    "for _ in range(10):\n",
    "    probs = update_dist(-9, probs)\n",
    "for _ in range(10):\n",
    "    probs = update_dist(4, probs)\n",
    "plt.bar(range(51), probs);"
   ]
  },
  {
   "cell_type": "code",
   "execution_count": 130,
   "id": "0ac977b6-8307-480f-b8f1-5ba7b5e08773",
   "metadata": {},
   "outputs": [],
   "source": [
    "def dist_dqn(x, theta, action_space=3):\n",
    "    layer_dimensions = [(128, 100), (100, 25), *[(25, 51)] * action_space]\n",
    "    layers = []\n",
    "    e = 0\n",
    "    for dim in layer_dimensions:\n",
    "        s, e = e, e + np.prod(dim)\n",
    "        layers.append(theta[s:e].reshape(dim))\n",
    "\n",
    "    l1, l2, l3, l4, l5 = layers\n",
    "    y = torch.selu(x @ l1)\n",
    "    y = torch.selu(y @ l2)\n",
    "    l3 = torch.stack([y @ l3, y @ l4, y @ l5], dim=1)\n",
    "    l3 = torch.nn.functional.softmax(l3, dim=2)\n",
    "    return l3.squeeze()"
   ]
  },
  {
   "cell_type": "code",
   "execution_count": 135,
   "id": "e0f04b2a-2561-4b47-9649-267eef11fb30",
   "metadata": {},
   "outputs": [],
   "source": [
    "def get_target_dist(\n",
    "    dist_batch, action_batch, reward_batch, support, lim=(-10, 10), gamma=0.8\n",
    "):\n",
    "    nsup = support.shape[0]\n",
    "    target_dist_batch = dist_batch.clone()\n",
    "    for i, (dist, action, reward) in enumerate(\n",
    "        zip(dist_batch, action_batch, reward_batch)\n",
    "    ):\n",
    "        a = action.long().item()\n",
    "        d = dist[a]\n",
    "        if reward != -1:  # Terminal state, set the final reward.\n",
    "            target_dist = torch.zeros(nsup)\n",
    "            bj = get_index(reward, nsup, lim)\n",
    "            target_dist[bj] = 1.0\n",
    "        else:\n",
    "            target_dist = update_dist(reward, d, lim=lim, gamma=gamma)\n",
    "        target_dist_batch[i, a, :] = target_dist\n",
    "    return target_dist_batch"
   ]
  },
  {
   "cell_type": "code",
   "execution_count": 136,
   "id": "68f685ba-5d8a-4c64-8c37-35e7910afa96",
   "metadata": {},
   "outputs": [],
   "source": [
    "def criterion(x, y):\n",
    "    loss = torch.Tensor([0.0])\n",
    "    loss.requires_grad = True\n",
    "    for i in range(x.shape[0]):\n",
    "        loss += -torch.log(x[i].flatten(start_dim=0)) @ y[i].flatten(start_dim=0)\n",
    "    return loss"
   ]
  },
  {
   "cell_type": "code",
   "execution_count": 137,
   "id": "c38bc845-5bc2-4c74-8eec-59cb9bbc3f0f",
   "metadata": {},
   "outputs": [
    {
     "data": {
      "text/plain": [
       "<matplotlib.legend.Legend at 0x16b3b92b0>"
      ]
     },
     "execution_count": 137,
     "metadata": {},
     "output_type": "execute_result"
    },
    {
     "data": {
      "image/png": "[encoded data removed]",
      "text/plain": [
       "<Figure size 640x480 with 1 Axes>"
      ]
     },
     "metadata": {},
     "output_type": "display_data"
    }
   ],
   "source": [
    "action_space = 3\n",
    "total_params = 128 * 100 + 25 * 100 + action_space * 25 * 51\n",
    "theta = torch.randn(total_params) / 10.0\n",
    "theta.requires_grad = True\n",
    "theta_2 = theta.detach().clone()\n",
    "vmin, vmax = -10, 10\n",
    "gamma = 0.9\n",
    "lr = 1e-5\n",
    "update_rate = 75\n",
    "support = torch.linspace(-10, 10, 51)\n",
    "state = torch.randn(2, 128) / 10.0\n",
    "action_batch = torch.Tensor([0, 2])\n",
    "reward_batch = torch.Tensor([0, 10])\n",
    "losses = []\n",
    "pred_batch = dist_dqn(state, theta, action_space=action_space)\n",
    "target_dist = get_target_dist(\n",
    "    pred_batch, action_batch, reward_batch, support, lim=(vmin, vmax), gamma=gamma\n",
    ")\n",
    "plt.plot(\n",
    "    (target_dist.flatten(start_dim=1)[0].data.numpy()), color=\"red\", label=\"target\"\n",
    ")\n",
    "plt.plot((pred_batch.flatten(start_dim=1)[0].data.numpy()), color=\"green\", label=\"pred\")\n",
    "plt.legend()"
   ]
  },
  {
   "cell_type": "code",
   "execution_count": null,
   "id": "aeb12e73-ceb2-4070-89f6-22e5eb6c8f33",
   "metadata": {},
   "outputs": [],
   "source": []
  },
  {
   "cell_type": "code",
   "execution_count": null,
   "id": "9867d42d-619f-411a-9a57-169479aa9556",
   "metadata": {},
   "outputs": [],
   "source": []
  }
 ],
 "metadata": {
  "kernelspec": {
   "display_name": "Python 3 (ipykernel)",
   "language": "python",
   "name": "python3"
  },
  "language_info": {
   "codemirror_mode": {
    "name": "ipython",
    "version": 3
   },
   "file_extension": ".py",
   "mimetype": "text/x-python",
   "name": "python",
   "nbconvert_exporter": "python",
   "pygments_lexer": "ipython3",
   "version": "3.12.8"
  }
 },
 "nbformat": 4,
 "nbformat_minor": 5
}
